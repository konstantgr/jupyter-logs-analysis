{
 "cells": [
  {
   "cell_type": "markdown",
   "metadata": {
    "collapsed": false,
    "jupyter": {
     "outputs_hidden": false
    }
   },
   "source": [
    "# Packages Loading\n"
   ]
  },
  {
   "cell_type": "code",
   "execution_count": 4,
   "metadata": {
    "ExecuteTime": {
     "end_time": "2023-09-01T10:09:20.081391Z",
     "start_time": "2023-09-01T10:09:19.248294Z"
    },
    "collapsed": false,
    "jupyter": {
     "outputs_hidden": false
    }
   },
   "outputs": [
    {
     "name": "stdout",
     "output_type": "stream",
     "text": [
      "The autoreload extension is already loaded. To reload it, use:\n",
      "  %reload_ext autoreload\n"
     ]
    }
   ],
   "source": [
    "%load_ext autoreload\n",
    "%autoreload 2\n",
    "\n",
    "from pathlib import Path\n",
    "\n",
    "import graphviz\n",
    "import numpy as np\n",
    "import pandas as pd\n",
    "from matplotlib import cm as cmx\n",
    "from matplotlib import colors as mpl_colors\n",
    "from matplotlib import pyplot as plt\n",
    "\n",
    "from metrics.june_dataset import JuNEDataset\n",
    "from metrics.metrics_transtions import  TransitionMetrics\n"
   ]
  },
  {
   "cell_type": "markdown",
   "metadata": {
    "collapsed": false,
    "jupyter": {
     "outputs_hidden": false
    }
   },
   "source": [
    "# Reading Data\n"
   ]
  },
  {
   "cell_type": "code",
   "execution_count": 5,
   "metadata": {
    "ExecuteTime": {
     "end_time": "2023-09-01T10:09:20.195347Z",
     "start_time": "2023-09-01T10:09:20.082318Z"
    },
    "collapsed": false,
    "jupyter": {
     "outputs_hidden": false
    }
   },
   "outputs": [
    {
     "data": {
      "text/html": [
       "<div>\n",
       "<style scoped>\n",
       "    .dataframe tbody tr th:only-of-type {\n",
       "        vertical-align: middle;\n",
       "    }\n",
       "\n",
       "    .dataframe tbody tr th {\n",
       "        vertical-align: top;\n",
       "    }\n",
       "\n",
       "    .dataframe thead th {\n",
       "        text-align: right;\n",
       "    }\n",
       "</style>\n",
       "<table border=\"1\" class=\"dataframe\">\n",
       "  <thead>\n",
       "    <tr style=\"text-align: right;\">\n",
       "      <th></th>\n",
       "      <th>index</th>\n",
       "      <th>time</th>\n",
       "      <th>session_id</th>\n",
       "      <th>kernel_id</th>\n",
       "      <th>notebook_name</th>\n",
       "      <th>event</th>\n",
       "      <th>cell_index</th>\n",
       "      <th>cell_num</th>\n",
       "      <th>cell_type</th>\n",
       "      <th>cell_source</th>\n",
       "      <th>cell_output</th>\n",
       "      <th>user_id</th>\n",
       "      <th>expert</th>\n",
       "    </tr>\n",
       "  </thead>\n",
       "  <tbody>\n",
       "    <tr>\n",
       "      <th>0</th>\n",
       "      <td>0</td>\n",
       "      <td>2023-05-06 10:32:26.282</td>\n",
       "      <td>709ce80b-90a5-457e-bf6f-b7033a3261b5</td>\n",
       "      <td>bc147b33-fa74-4bff-9f48-c88809c5bdcd</td>\n",
       "      <td>task1.ipynb</td>\n",
       "      <td>save_notebook</td>\n",
       "      <td>NaN</td>\n",
       "      <td>NaN</td>\n",
       "      <td>NaN</td>\n",
       "      <td>[\\n  {\\n    \"id\": \"35c0b3b694f84140846a21197ea...</td>\n",
       "      <td>NaN</td>\n",
       "      <td>student_7</td>\n",
       "      <td>False</td>\n",
       "    </tr>\n",
       "    <tr>\n",
       "      <th>1</th>\n",
       "      <td>1</td>\n",
       "      <td>2023-05-06 10:32:55.892</td>\n",
       "      <td>709ce80b-90a5-457e-bf6f-b7033a3261b5</td>\n",
       "      <td>bc147b33-fa74-4bff-9f48-c88809c5bdcd</td>\n",
       "      <td>task1.ipynb</td>\n",
       "      <td>execute</td>\n",
       "      <td>35c0b3b694f84140846a21197ea62f68</td>\n",
       "      <td>0.0</td>\n",
       "      <td>code</td>\n",
       "      <td>from mining_extension import check_logging \\nc...</td>\n",
       "      <td>NaN</td>\n",
       "      <td>student_7</td>\n",
       "      <td>False</td>\n",
       "    </tr>\n",
       "    <tr>\n",
       "      <th>2</th>\n",
       "      <td>2</td>\n",
       "      <td>2023-05-06 10:32:56.229</td>\n",
       "      <td>709ce80b-90a5-457e-bf6f-b7033a3261b5</td>\n",
       "      <td>bc147b33-fa74-4bff-9f48-c88809c5bdcd</td>\n",
       "      <td>task1.ipynb</td>\n",
       "      <td>finished_execute</td>\n",
       "      <td>35c0b3b694f84140846a21197ea62f68</td>\n",
       "      <td>0.0</td>\n",
       "      <td>code</td>\n",
       "      <td>from mining_extension import check_logging \\nc...</td>\n",
       "      <td>[{\"output_type\":\"stream\",\"size\":23}]</td>\n",
       "      <td>student_7</td>\n",
       "      <td>False</td>\n",
       "    </tr>\n",
       "    <tr>\n",
       "      <th>3</th>\n",
       "      <td>3</td>\n",
       "      <td>2023-05-06 10:32:58.048</td>\n",
       "      <td>709ce80b-90a5-457e-bf6f-b7033a3261b5</td>\n",
       "      <td>bc147b33-fa74-4bff-9f48-c88809c5bdcd</td>\n",
       "      <td>task1.ipynb</td>\n",
       "      <td>execute</td>\n",
       "      <td>35c0b3b694f84140846a21197ea62f68</td>\n",
       "      <td>0.0</td>\n",
       "      <td>code</td>\n",
       "      <td>from mining_extension import check_logging \\nc...</td>\n",
       "      <td>NaN</td>\n",
       "      <td>student_7</td>\n",
       "      <td>False</td>\n",
       "    </tr>\n",
       "    <tr>\n",
       "      <th>4</th>\n",
       "      <td>4</td>\n",
       "      <td>2023-05-06 10:32:58.429</td>\n",
       "      <td>709ce80b-90a5-457e-bf6f-b7033a3261b5</td>\n",
       "      <td>bc147b33-fa74-4bff-9f48-c88809c5bdcd</td>\n",
       "      <td>task1.ipynb</td>\n",
       "      <td>finished_execute</td>\n",
       "      <td>35c0b3b694f84140846a21197ea62f68</td>\n",
       "      <td>0.0</td>\n",
       "      <td>code</td>\n",
       "      <td>from mining_extension import check_logging \\nc...</td>\n",
       "      <td>[{\"output_type\":\"stream\",\"size\":23}]</td>\n",
       "      <td>student_7</td>\n",
       "      <td>False</td>\n",
       "    </tr>\n",
       "  </tbody>\n",
       "</table>\n",
       "</div>"
      ],
      "text/plain": [
       "   index                     time                            session_id  \\\n",
       "0      0  2023-05-06 10:32:26.282  709ce80b-90a5-457e-bf6f-b7033a3261b5   \n",
       "1      1  2023-05-06 10:32:55.892  709ce80b-90a5-457e-bf6f-b7033a3261b5   \n",
       "2      2  2023-05-06 10:32:56.229  709ce80b-90a5-457e-bf6f-b7033a3261b5   \n",
       "3      3  2023-05-06 10:32:58.048  709ce80b-90a5-457e-bf6f-b7033a3261b5   \n",
       "4      4  2023-05-06 10:32:58.429  709ce80b-90a5-457e-bf6f-b7033a3261b5   \n",
       "\n",
       "                              kernel_id notebook_name             event  \\\n",
       "0  bc147b33-fa74-4bff-9f48-c88809c5bdcd   task1.ipynb     save_notebook   \n",
       "1  bc147b33-fa74-4bff-9f48-c88809c5bdcd   task1.ipynb           execute   \n",
       "2  bc147b33-fa74-4bff-9f48-c88809c5bdcd   task1.ipynb  finished_execute   \n",
       "3  bc147b33-fa74-4bff-9f48-c88809c5bdcd   task1.ipynb           execute   \n",
       "4  bc147b33-fa74-4bff-9f48-c88809c5bdcd   task1.ipynb  finished_execute   \n",
       "\n",
       "                         cell_index  cell_num cell_type  \\\n",
       "0                               NaN       NaN       NaN   \n",
       "1  35c0b3b694f84140846a21197ea62f68       0.0      code   \n",
       "2  35c0b3b694f84140846a21197ea62f68       0.0      code   \n",
       "3  35c0b3b694f84140846a21197ea62f68       0.0      code   \n",
       "4  35c0b3b694f84140846a21197ea62f68       0.0      code   \n",
       "\n",
       "                                         cell_source  \\\n",
       "0  [\\n  {\\n    \"id\": \"35c0b3b694f84140846a21197ea...   \n",
       "1  from mining_extension import check_logging \\nc...   \n",
       "2  from mining_extension import check_logging \\nc...   \n",
       "3  from mining_extension import check_logging \\nc...   \n",
       "4  from mining_extension import check_logging \\nc...   \n",
       "\n",
       "                            cell_output    user_id  expert  \n",
       "0                                   NaN  student_7   False  \n",
       "1                                   NaN  student_7   False  \n",
       "2  [{\"output_type\":\"stream\",\"size\":23}]  student_7   False  \n",
       "3                                   NaN  student_7   False  \n",
       "4  [{\"output_type\":\"stream\",\"size\":23}]  student_7   False  "
      ]
     },
     "execution_count": 5,
     "metadata": {},
     "output_type": "execute_result"
    }
   ],
   "source": [
    "path = Path(\"../data/all_experiments-25-08.csv\")\n",
    "df_hack = pd.read_csv(path, index_col=0).reset_index()\n",
    "df_hack.head()\n"
   ]
  },
  {
   "cell_type": "code",
   "execution_count": 6,
   "metadata": {
    "ExecuteTime": {
     "end_time": "2023-09-01T10:09:20.215197Z",
     "start_time": "2023-09-01T10:09:20.195582Z"
    },
    "collapsed": false,
    "jupyter": {
     "outputs_hidden": false
    }
   },
   "outputs": [
    {
     "data": {
      "text/html": [
       "<div>\n",
       "<style scoped>\n",
       "    .dataframe tbody tr th:only-of-type {\n",
       "        vertical-align: middle;\n",
       "    }\n",
       "\n",
       "    .dataframe tbody tr th {\n",
       "        vertical-align: top;\n",
       "    }\n",
       "\n",
       "    .dataframe thead th {\n",
       "        text-align: right;\n",
       "    }\n",
       "</style>\n",
       "<table border=\"1\" class=\"dataframe\">\n",
       "  <thead>\n",
       "    <tr style=\"text-align: right;\">\n",
       "      <th></th>\n",
       "      <th>index</th>\n",
       "      <th>time</th>\n",
       "      <th>session_id</th>\n",
       "      <th>kernel_id</th>\n",
       "      <th>notebook_name</th>\n",
       "      <th>event</th>\n",
       "      <th>cell_index</th>\n",
       "      <th>cell_num</th>\n",
       "      <th>cell_type</th>\n",
       "      <th>cell_source</th>\n",
       "      <th>cell_output</th>\n",
       "      <th>user_id</th>\n",
       "      <th>expert</th>\n",
       "    </tr>\n",
       "  </thead>\n",
       "  <tbody>\n",
       "    <tr>\n",
       "      <th>0</th>\n",
       "      <td>0</td>\n",
       "      <td>2023-05-06 10:32:26.282</td>\n",
       "      <td>709ce80b-90a5-457e-bf6f-b7033a3261b5</td>\n",
       "      <td>bc147b33-fa74-4bff-9f48-c88809c5bdcd</td>\n",
       "      <td>task1.ipynb</td>\n",
       "      <td>save_notebook</td>\n",
       "      <td>NaN</td>\n",
       "      <td>NaN</td>\n",
       "      <td>NaN</td>\n",
       "      <td>[\\n  {\\n    \"id\": \"35c0b3b694f84140846a21197ea...</td>\n",
       "      <td>NaN</td>\n",
       "      <td>student_7</td>\n",
       "      <td>False</td>\n",
       "    </tr>\n",
       "    <tr>\n",
       "      <th>1</th>\n",
       "      <td>1</td>\n",
       "      <td>2023-05-06 10:32:55.892</td>\n",
       "      <td>709ce80b-90a5-457e-bf6f-b7033a3261b5</td>\n",
       "      <td>bc147b33-fa74-4bff-9f48-c88809c5bdcd</td>\n",
       "      <td>task1.ipynb</td>\n",
       "      <td>execute</td>\n",
       "      <td>35c0b3b694f84140846a21197ea62f68</td>\n",
       "      <td>0.0</td>\n",
       "      <td>code</td>\n",
       "      <td>from mining_extension import check_logging \\nc...</td>\n",
       "      <td>NaN</td>\n",
       "      <td>student_7</td>\n",
       "      <td>False</td>\n",
       "    </tr>\n",
       "    <tr>\n",
       "      <th>2</th>\n",
       "      <td>2</td>\n",
       "      <td>2023-05-06 10:32:56.229</td>\n",
       "      <td>709ce80b-90a5-457e-bf6f-b7033a3261b5</td>\n",
       "      <td>bc147b33-fa74-4bff-9f48-c88809c5bdcd</td>\n",
       "      <td>task1.ipynb</td>\n",
       "      <td>finished_execute</td>\n",
       "      <td>35c0b3b694f84140846a21197ea62f68</td>\n",
       "      <td>0.0</td>\n",
       "      <td>code</td>\n",
       "      <td>from mining_extension import check_logging \\nc...</td>\n",
       "      <td>[{\"output_type\":\"stream\",\"size\":23}]</td>\n",
       "      <td>student_7</td>\n",
       "      <td>False</td>\n",
       "    </tr>\n",
       "    <tr>\n",
       "      <th>3</th>\n",
       "      <td>3</td>\n",
       "      <td>2023-05-06 10:32:58.048</td>\n",
       "      <td>709ce80b-90a5-457e-bf6f-b7033a3261b5</td>\n",
       "      <td>bc147b33-fa74-4bff-9f48-c88809c5bdcd</td>\n",
       "      <td>task1.ipynb</td>\n",
       "      <td>execute</td>\n",
       "      <td>35c0b3b694f84140846a21197ea62f68</td>\n",
       "      <td>0.0</td>\n",
       "      <td>code</td>\n",
       "      <td>from mining_extension import check_logging \\nc...</td>\n",
       "      <td>NaN</td>\n",
       "      <td>student_7</td>\n",
       "      <td>False</td>\n",
       "    </tr>\n",
       "    <tr>\n",
       "      <th>4</th>\n",
       "      <td>4</td>\n",
       "      <td>2023-05-06 10:32:58.429</td>\n",
       "      <td>709ce80b-90a5-457e-bf6f-b7033a3261b5</td>\n",
       "      <td>bc147b33-fa74-4bff-9f48-c88809c5bdcd</td>\n",
       "      <td>task1.ipynb</td>\n",
       "      <td>finished_execute</td>\n",
       "      <td>35c0b3b694f84140846a21197ea62f68</td>\n",
       "      <td>0.0</td>\n",
       "      <td>code</td>\n",
       "      <td>from mining_extension import check_logging \\nc...</td>\n",
       "      <td>[{\"output_type\":\"stream\",\"size\":23}]</td>\n",
       "      <td>student_7</td>\n",
       "      <td>False</td>\n",
       "    </tr>\n",
       "  </tbody>\n",
       "</table>\n",
       "</div>"
      ],
      "text/plain": [
       "   index                     time                            session_id  \\\n",
       "0      0  2023-05-06 10:32:26.282  709ce80b-90a5-457e-bf6f-b7033a3261b5   \n",
       "1      1  2023-05-06 10:32:55.892  709ce80b-90a5-457e-bf6f-b7033a3261b5   \n",
       "2      2  2023-05-06 10:32:56.229  709ce80b-90a5-457e-bf6f-b7033a3261b5   \n",
       "3      3  2023-05-06 10:32:58.048  709ce80b-90a5-457e-bf6f-b7033a3261b5   \n",
       "4      4  2023-05-06 10:32:58.429  709ce80b-90a5-457e-bf6f-b7033a3261b5   \n",
       "\n",
       "                              kernel_id notebook_name             event  \\\n",
       "0  bc147b33-fa74-4bff-9f48-c88809c5bdcd   task1.ipynb     save_notebook   \n",
       "1  bc147b33-fa74-4bff-9f48-c88809c5bdcd   task1.ipynb           execute   \n",
       "2  bc147b33-fa74-4bff-9f48-c88809c5bdcd   task1.ipynb  finished_execute   \n",
       "3  bc147b33-fa74-4bff-9f48-c88809c5bdcd   task1.ipynb           execute   \n",
       "4  bc147b33-fa74-4bff-9f48-c88809c5bdcd   task1.ipynb  finished_execute   \n",
       "\n",
       "                         cell_index  cell_num cell_type  \\\n",
       "0                               NaN       NaN       NaN   \n",
       "1  35c0b3b694f84140846a21197ea62f68       0.0      code   \n",
       "2  35c0b3b694f84140846a21197ea62f68       0.0      code   \n",
       "3  35c0b3b694f84140846a21197ea62f68       0.0      code   \n",
       "4  35c0b3b694f84140846a21197ea62f68       0.0      code   \n",
       "\n",
       "                                         cell_source  \\\n",
       "0  [\\n  {\\n    \"id\": \"35c0b3b694f84140846a21197ea...   \n",
       "1  from mining_extension import check_logging \\nc...   \n",
       "2  from mining_extension import check_logging \\nc...   \n",
       "3  from mining_extension import check_logging \\nc...   \n",
       "4  from mining_extension import check_logging \\nc...   \n",
       "\n",
       "                            cell_output    user_id  expert  \n",
       "0                                   NaN  student_7   False  \n",
       "1                                   NaN  student_7   False  \n",
       "2  [{\"output_type\":\"stream\",\"size\":23}]  student_7   False  \n",
       "3                                   NaN  student_7   False  \n",
       "4  [{\"output_type\":\"stream\",\"size\":23}]  student_7   False  "
      ]
     },
     "execution_count": 6,
     "metadata": {},
     "output_type": "execute_result"
    }
   ],
   "source": [
    "june = JuNEDataset(df_hack)\n",
    "june.to_dataframe().head()\n"
   ]
  },
  {
   "cell_type": "markdown",
   "metadata": {
    "collapsed": false,
    "jupyter": {
     "outputs_hidden": false
    }
   },
   "source": [
    "# Initializing of Metrics Processor\n"
   ]
  },
  {
   "cell_type": "code",
   "execution_count": 7,
   "metadata": {
    "ExecuteTime": {
     "end_time": "2023-09-01T10:09:20.280085Z",
     "start_time": "2023-09-01T10:09:20.215923Z"
    },
    "collapsed": false,
    "jupyter": {
     "outputs_hidden": false
    }
   },
   "outputs": [],
   "source": [
    "processor = TransitionMetrics()\n"
   ]
  },
  {
   "cell_type": "code",
   "execution_count": null,
   "metadata": {
    "ExecuteTime": {
     "end_time": "2023-09-01T10:13:30.633926Z",
     "start_time": "2023-09-01T10:09:20.232504Z"
    },
    "collapsed": false,
    "jupyter": {
     "outputs_hidden": false
    }
   },
   "outputs": [
    {
     "name": "stderr",
     "output_type": "stream",
     "text": [
      " 77%|███████▋  | 24/31 [03:35<03:25, 29.29s/it]"
     ]
    }
   ],
   "source": [
    "all_transitions = processor.calculate_metrics(june.df.iloc[:])\n",
    "all_transitions.head()\n"
   ]
  },
  {
   "cell_type": "markdown",
   "metadata": {
    "collapsed": false,
    "jupyter": {
     "outputs_hidden": false
    }
   },
   "source": [
    "# Transitions Analysis\n"
   ]
  },
  {
   "cell_type": "markdown",
   "metadata": {
    "collapsed": false,
    "jupyter": {
     "outputs_hidden": false
    }
   },
   "source": [
    "## Execution Transitions"
   ]
  },
  {
   "cell_type": "code",
   "execution_count": null,
   "metadata": {
    "ExecuteTime": {
     "end_time": "2023-09-01T10:13:30.674750Z",
     "start_time": "2023-09-01T10:13:30.635194Z"
    },
    "collapsed": false,
    "jupyter": {
     "outputs_hidden": false
    }
   },
   "outputs": [],
   "source": [
    "transitions = all_transitions.groupby('type').get_group('execution_transition')\n",
    "transitions['change_num'] = transitions.cell_num_to - transitions.cell_num_from\n",
    "transitions['transition_type'] = transitions.change_num.apply(\n",
    "    lambda x: 'forward' if x > 0 else (\"inner\" if x == 0 else 'backward')\n",
    ")\n"
   ]
  },
  {
   "cell_type": "code",
   "execution_count": null,
   "metadata": {
    "ExecuteTime": {
     "end_time": "2023-09-01T10:13:30.726801Z",
     "start_time": "2023-09-01T10:13:30.658813Z"
    },
    "collapsed": false,
    "jupyter": {
     "outputs_hidden": false
    }
   },
   "outputs": [],
   "source": [
    "merge_columns = ['user_id', 'kernel_id', 'expert', 'notebook_name']\n",
    "transitions_merged = df_hack[merge_columns].drop_duplicates(keep='last').merge(transitions, on='kernel_id')\n",
    "\n",
    "transitions_merged['task_type'] = transitions_merged.notebook_name.apply(\n",
    "    lambda x: 1 if 'task1' in x else (2 if \"task2\" in x else 1)\n",
    ")\n",
    "transitions_merged.head()\n",
    "\n"
   ]
  },
  {
   "cell_type": "markdown",
   "metadata": {
    "collapsed": false,
    "jupyter": {
     "outputs_hidden": false
    }
   },
   "source": [
    "## Transition of different types across different tasks"
   ]
  },
  {
   "cell_type": "code",
   "execution_count": null,
   "metadata": {
    "ExecuteTime": {
     "end_time": "2023-09-01T10:13:30.771711Z",
     "start_time": "2023-09-01T10:13:30.692217Z"
    },
    "collapsed": false,
    "jupyter": {
     "outputs_hidden": false
    }
   },
   "outputs": [],
   "source": [
    "task_transition_relations = transitions_merged.groupby(\n",
    "    [\"task_type\", 'user_id'], as_index=False\n",
    ") \\\n",
    "    .transition_type.value_counts(normalize=True) \\\n",
    "    .groupby([\"task_type\", 'transition_type'], as_index=False).proportion.mean()\n",
    "\n",
    "task_transition_relations\n"
   ]
  },
  {
   "cell_type": "code",
   "execution_count": null,
   "metadata": {
    "ExecuteTime": {
     "end_time": "2023-09-01T10:13:30.773171Z",
     "start_time": "2023-09-01T10:13:30.715249Z"
    },
    "collapsed": false,
    "jupyter": {
     "outputs_hidden": false
    }
   },
   "outputs": [],
   "source": [
    "def get_average_transition_graphs(transitions_df: pd.DataFrame) -> dict[int, graphviz.Digraph]:\n",
    "    jet = plt.get_cmap('plasma')\n",
    "    cNorm = mpl_colors.Normalize(vmin=0, vmax=1)\n",
    "    scalarMap = cmx.ScalarMappable(norm=cNorm, cmap=jet)\n",
    "    prev, cur, nx = 'Previous Cells', 'Current Cell', 'Next Cells'\n",
    "\n",
    "    results: dict[int, graphviz.Digraph] = {}\n",
    "    for name, g in transitions_df.groupby(\"task_type\"):\n",
    "        graph = graphviz.Digraph(filename=\"output/plain organogram 2.gv\")\n",
    "        matrix = g[['transition_type', 'proportion']].set_index('transition_type').proportion.to_dict()\n",
    "\n",
    "        forward = matrix['forward']\n",
    "        inner = matrix['inner']\n",
    "        backward = matrix['backward']\n",
    "\n",
    "        graph.edge(\n",
    "            cur, prev,\n",
    "            color=mpl_colors.to_hex(scalarMap.to_rgba(backward)), label=str(np.around(backward, 2))\n",
    "        )\n",
    "        graph.edge(\n",
    "            cur, cur,\n",
    "            color=mpl_colors.to_hex(scalarMap.to_rgba(inner)), label=str(np.around(inner, 2))\n",
    "        )\n",
    "        graph.edge(\n",
    "            cur, nx,\n",
    "            color=mpl_colors.to_hex(scalarMap.to_rgba(forward)), label=str(np.around(forward, 2))\n",
    "        )\n",
    "        results[name] = graph\n",
    "\n",
    "    return results\n"
   ]
  },
  {
   "cell_type": "markdown",
   "metadata": {
    "collapsed": false,
    "jupyter": {
     "outputs_hidden": false
    }
   },
   "source": [
    "### Task 1"
   ]
  },
  {
   "cell_type": "code",
   "execution_count": null,
   "metadata": {
    "ExecuteTime": {
     "end_time": "2023-09-01T10:13:31.036559Z",
     "start_time": "2023-09-01T10:13:30.736327Z"
    },
    "collapsed": false,
    "jupyter": {
     "outputs_hidden": false
    }
   },
   "outputs": [],
   "source": [
    "get_average_transition_graphs(task_transition_relations)[1]\n"
   ]
  },
  {
   "cell_type": "markdown",
   "metadata": {
    "collapsed": false,
    "jupyter": {
     "outputs_hidden": false
    }
   },
   "source": [
    "### Task 2\n"
   ]
  },
  {
   "cell_type": "code",
   "execution_count": null,
   "metadata": {
    "ExecuteTime": {
     "end_time": "2023-09-01T10:13:31.116199Z",
     "start_time": "2023-09-01T10:13:31.036779Z"
    },
    "collapsed": false,
    "jupyter": {
     "outputs_hidden": false
    }
   },
   "outputs": [],
   "source": [
    "get_average_transition_graphs(task_transition_relations)[2]\n"
   ]
  },
  {
   "cell_type": "markdown",
   "metadata": {
    "collapsed": false,
    "jupyter": {
     "outputs_hidden": false
    }
   },
   "source": [
    "# Transitions between events\n"
   ]
  },
  {
   "cell_type": "code",
   "execution_count": null,
   "metadata": {
    "ExecuteTime": {
     "end_time": "2023-09-01T10:13:31.151674Z",
     "start_time": "2023-09-01T10:13:31.117309Z"
    },
    "collapsed": false,
    "jupyter": {
     "outputs_hidden": false
    }
   },
   "outputs": [],
   "source": [
    "event_transitions_df = all_transitions.groupby('type').get_group('event_transition')\n",
    "event_transitions_df"
   ]
  },
  {
   "cell_type": "code",
   "execution_count": null,
   "metadata": {
    "ExecuteTime": {
     "end_time": "2023-09-01T10:13:31.217395Z",
     "start_time": "2023-09-01T10:13:31.148984Z"
    },
    "collapsed": false,
    "jupyter": {
     "outputs_hidden": false
    }
   },
   "outputs": [],
   "source": [
    "merge_columns = ['user_id', 'kernel_id', 'expert', 'notebook_name']\n",
    "event_transitions_merged = june.df[merge_columns].drop_duplicates(keep='last').merge(event_transitions_df,\n",
    "                                                                                     on='kernel_id')\n",
    "\n",
    "event_transitions_merged['task_type'] = event_transitions_merged.notebook_name.apply(\n",
    "    lambda x: 1 if 'task1' in x else (2 if \"task2\" in x else 1)\n",
    ")\n",
    "\n",
    "SEP = \"_\"\n",
    "event_transitions_merged[\n",
    "    'transition_type'] = event_transitions_merged.event_from + SEP + event_transitions_merged.event_to\n",
    "\n",
    "event_transitions_merged.head()\n",
    "\n"
   ]
  },
  {
   "cell_type": "code",
   "execution_count": null,
   "metadata": {
    "ExecuteTime": {
     "end_time": "2023-09-01T10:13:31.233505Z",
     "start_time": "2023-09-01T10:13:31.199772Z"
    },
    "collapsed": false,
    "jupyter": {
     "outputs_hidden": false
    }
   },
   "outputs": [],
   "source": [
    "task_event_transition_relations = event_transitions_merged.groupby(\n",
    "    [\"task_type\", 'user_id'], as_index=False\n",
    ") \\\n",
    "    .transition_type.value_counts(normalize=True) \\\n",
    "    .groupby([\"task_type\", 'transition_type'], as_index=False).proportion.mean()\n",
    "\n",
    "task_event_transition_relations\n"
   ]
  },
  {
   "cell_type": "code",
   "execution_count": null,
   "metadata": {
    "ExecuteTime": {
     "end_time": "2023-09-01T10:13:31.258996Z",
     "start_time": "2023-09-01T10:13:31.225368Z"
    },
    "collapsed": false,
    "jupyter": {
     "outputs_hidden": false
    }
   },
   "outputs": [],
   "source": [
    "# labels = list(task_event_transition_relations.event_from.unique())\n",
    "labels = ['create', 'execute', 'delete',\n",
    "          'kernel_interrupting', 'kernel_restarting']\n",
    "labels_idx_mapping = {v: k for k, v in enumerate(labels)}\n",
    "labels_idx_mapping\n"
   ]
  },
  {
   "cell_type": "code",
   "execution_count": null,
   "metadata": {
    "ExecuteTime": {
     "end_time": "2023-09-01T10:13:31.302064Z",
     "start_time": "2023-09-01T10:13:31.246126Z"
    },
    "collapsed": false,
    "jupyter": {
     "outputs_hidden": false
    }
   },
   "outputs": [],
   "source": [
    "data = []\n",
    "tm = task_event_transition_relations[['transition_type', 'proportion']].set_index('transition_type').to_dict()[\n",
    "    'proportion']\n",
    "for l1 in labels:\n",
    "    for l2 in labels:\n",
    "        if f\"{l1}_{l2}\" in tm:\n",
    "            data.append((labels_idx_mapping[l1], labels_idx_mapping[l2], tm[f\"{l1}_{l2}\"]))\n",
    "\n",
    "source, target, value = np.array(data).T"
   ]
  },
  {
   "cell_type": "code",
   "execution_count": null,
   "metadata": {
    "ExecuteTime": {
     "end_time": "2023-09-01T10:13:31.345819Z",
     "start_time": "2023-09-01T10:13:31.267226Z"
    },
    "collapsed": false,
    "jupyter": {
     "outputs_hidden": false
    }
   },
   "outputs": [],
   "source": [
    "idx_color_mapping = {\n",
    "    0: '#F5B19C',\n",
    "    1: \"#5C9090\",\n",
    "    2: \"#E9B666\",\n",
    "    3: \"#BFD0CA\",\n",
    "    4: \"#A5B2B5\",\n",
    "}\n",
    "colors = [idx_color_mapping[i] for i in source]\n"
   ]
  },
  {
   "cell_type": "code",
   "execution_count": null,
   "metadata": {
    "ExecuteTime": {
     "end_time": "2023-09-01T10:17:14.894533Z",
     "start_time": "2023-09-01T10:17:14.871629Z"
    },
    "collapsed": false,
    "jupyter": {
     "outputs_hidden": false
    }
   },
   "outputs": [],
   "source": [
    "import plotly.graph_objects as go\n",
    "\n",
    "np.random.seed(42)\n",
    "fig = go.Figure(go.Sankey(\n",
    "    arrangement=\"snap\",\n",
    "    node={\"label\": labels, 'pad': 50, \"color\": list(idx_color_mapping.values())},\n",
    "    link={\n",
    "        \"source\": source, \"target\": target, \"value\": value,\n",
    "        \"color\": colors}\n",
    "))\n",
    "\n",
    "# plotly.io.write_image(fig, 'figures/sankey_transitions.pdf', format='pdf')\n",
    "# plotly.plotly.image.save_as(fig, 'my_plot.png')\n",
    "# fig.write_image(\"figures/sankey_transitions.png\")\n",
    "\n",
    "\n",
    "fig.show()\n"
   ]
  },
  {
   "cell_type": "markdown",
   "metadata": {
    "collapsed": false,
    "jupyter": {
     "outputs_hidden": false
    }
   },
   "source": [
    "# Students and Experts"
   ]
  },
  {
   "cell_type": "code",
   "execution_count": 11,
   "metadata": {
    "ExecuteTime": {
     "end_time": "2023-09-01T09:39:52.229869Z",
     "start_time": "2023-09-01T09:39:52.185121Z"
    },
    "collapsed": false,
    "jupyter": {
     "outputs_hidden": false
    }
   },
   "outputs": [
    {
     "data": {
      "text/html": [
       "<div>\n",
       "<style scoped>\n",
       "    .dataframe tbody tr th:only-of-type {\n",
       "        vertical-align: middle;\n",
       "    }\n",
       "\n",
       "    .dataframe tbody tr th {\n",
       "        vertical-align: top;\n",
       "    }\n",
       "\n",
       "    .dataframe thead th {\n",
       "        text-align: right;\n",
       "    }\n",
       "</style>\n",
       "<table border=\"1\" class=\"dataframe\">\n",
       "  <thead>\n",
       "    <tr style=\"text-align: right;\">\n",
       "      <th></th>\n",
       "      <th>task_type</th>\n",
       "      <th>transition_type</th>\n",
       "      <th>expert</th>\n",
       "      <th>proportion</th>\n",
       "    </tr>\n",
       "  </thead>\n",
       "  <tbody>\n",
       "    <tr>\n",
       "      <th>0</th>\n",
       "      <td>1</td>\n",
       "      <td>backward</td>\n",
       "      <td>False</td>\n",
       "      <td>0.107196</td>\n",
       "    </tr>\n",
       "    <tr>\n",
       "      <th>1</th>\n",
       "      <td>1</td>\n",
       "      <td>backward</td>\n",
       "      <td>True</td>\n",
       "      <td>0.146745</td>\n",
       "    </tr>\n",
       "    <tr>\n",
       "      <th>2</th>\n",
       "      <td>1</td>\n",
       "      <td>forward</td>\n",
       "      <td>False</td>\n",
       "      <td>0.362607</td>\n",
       "    </tr>\n",
       "    <tr>\n",
       "      <th>3</th>\n",
       "      <td>1</td>\n",
       "      <td>forward</td>\n",
       "      <td>True</td>\n",
       "      <td>0.311267</td>\n",
       "    </tr>\n",
       "    <tr>\n",
       "      <th>4</th>\n",
       "      <td>1</td>\n",
       "      <td>inner</td>\n",
       "      <td>False</td>\n",
       "      <td>0.530197</td>\n",
       "    </tr>\n",
       "    <tr>\n",
       "      <th>5</th>\n",
       "      <td>1</td>\n",
       "      <td>inner</td>\n",
       "      <td>True</td>\n",
       "      <td>0.541988</td>\n",
       "    </tr>\n",
       "    <tr>\n",
       "      <th>6</th>\n",
       "      <td>2</td>\n",
       "      <td>backward</td>\n",
       "      <td>False</td>\n",
       "      <td>0.134181</td>\n",
       "    </tr>\n",
       "    <tr>\n",
       "      <th>7</th>\n",
       "      <td>2</td>\n",
       "      <td>backward</td>\n",
       "      <td>True</td>\n",
       "      <td>0.148000</td>\n",
       "    </tr>\n",
       "    <tr>\n",
       "      <th>8</th>\n",
       "      <td>2</td>\n",
       "      <td>forward</td>\n",
       "      <td>False</td>\n",
       "      <td>0.406874</td>\n",
       "    </tr>\n",
       "    <tr>\n",
       "      <th>9</th>\n",
       "      <td>2</td>\n",
       "      <td>forward</td>\n",
       "      <td>True</td>\n",
       "      <td>0.476759</td>\n",
       "    </tr>\n",
       "    <tr>\n",
       "      <th>10</th>\n",
       "      <td>2</td>\n",
       "      <td>inner</td>\n",
       "      <td>False</td>\n",
       "      <td>0.458945</td>\n",
       "    </tr>\n",
       "    <tr>\n",
       "      <th>11</th>\n",
       "      <td>2</td>\n",
       "      <td>inner</td>\n",
       "      <td>True</td>\n",
       "      <td>0.375241</td>\n",
       "    </tr>\n",
       "  </tbody>\n",
       "</table>\n",
       "</div>"
      ],
      "text/plain": [
       "    task_type transition_type  expert  proportion\n",
       "0           1        backward   False    0.107196\n",
       "1           1        backward    True    0.146745\n",
       "2           1         forward   False    0.362607\n",
       "3           1         forward    True    0.311267\n",
       "4           1           inner   False    0.530197\n",
       "5           1           inner    True    0.541988\n",
       "6           2        backward   False    0.134181\n",
       "7           2        backward    True    0.148000\n",
       "8           2         forward   False    0.406874\n",
       "9           2         forward    True    0.476759\n",
       "10          2           inner   False    0.458945\n",
       "11          2           inner    True    0.375241"
      ]
     },
     "execution_count": 11,
     "metadata": {},
     "output_type": "execute_result"
    }
   ],
   "source": [
    "task_transition_relations = transitions_merged.groupby(\n",
    "    [\"task_type\", 'user_id', 'expert'], as_index=False\n",
    ") \\\n",
    "    .transition_type.value_counts(normalize=True) \\\n",
    "    .groupby([\"task_type\", 'transition_type', 'expert'], as_index=False).proportion.mean()\n",
    "\n",
    "task_transition_relations\n"
   ]
  },
  {
   "cell_type": "markdown",
   "metadata": {
    "collapsed": false,
    "jupyter": {
     "outputs_hidden": false
    }
   },
   "source": [
    "# Task 1"
   ]
  },
  {
   "cell_type": "markdown",
   "metadata": {
    "collapsed": false,
    "jupyter": {
     "outputs_hidden": false
    }
   },
   "source": [
    "## Expert"
   ]
  },
  {
   "cell_type": "code",
   "execution_count": 12,
   "metadata": {
    "ExecuteTime": {
     "end_time": "2023-09-01T09:39:53.825746Z",
     "start_time": "2023-09-01T09:39:53.701294Z"
    },
    "collapsed": false,
    "jupyter": {
     "outputs_hidden": false
    }
   },
   "outputs": [
    {
     "data": {
      "image/svg+xml": [
       "<?xml version=\"1.0\" encoding=\"UTF-8\" standalone=\"no\"?>\n",
       "<!DOCTYPE svg PUBLIC \"-//W3C//DTD SVG 1.1//EN\"\n",
       " \"http://www.w3.org/Graphics/SVG/1.1/DTD/svg11.dtd\">\n",
       "<!-- Generated by graphviz version 8.0.5 (20230430.1635)\n",
       " -->\n",
       "<!-- Pages: 1 -->\n",
       "<svg width=\"256pt\" height=\"133pt\"\n",
       " viewBox=\"0.00 0.00 255.99 132.50\" xmlns=\"http://www.w3.org/2000/svg\" xmlns:xlink=\"http://www.w3.org/1999/xlink\">\n",
       "<g id=\"graph0\" class=\"graph\" transform=\"scale(1 1) rotate(0) translate(4 128.5)\">\n",
       "<polygon fill=\"white\" stroke=\"none\" points=\"-4,4 -4,-128.5 251.99,-128.5 251.99,4 -4,4\"/>\n",
       "<!-- Current Cell -->\n",
       "<g id=\"node1\" class=\"node\">\n",
       "<title>Current Cell</title>\n",
       "<ellipse fill=\"none\" stroke=\"black\" cx=\"130.66\" cy=\"-106.5\" rx=\"56.98\" ry=\"18\"/>\n",
       "<text text-anchor=\"middle\" x=\"130.66\" y=\"-101.45\" font-family=\"Times,serif\" font-size=\"14.00\">Current Cell</text>\n",
       "</g>\n",
       "<!-- Current Cell&#45;&gt;Current Cell -->\n",
       "<g id=\"edge2\" class=\"edge\">\n",
       "<title>Current Cell&#45;&gt;Current Cell</title>\n",
       "<path fill=\"none\" stroke=\"#d5536f\" d=\"M181.83,-114.72C195.38,-114.25 205.64,-111.51 205.64,-106.5 205.64,-102.94 200.45,-100.52 192.58,-99.25\"/>\n",
       "<polygon fill=\"#d5536f\" stroke=\"#d5536f\" points=\"193.1,-95.69 182.83,-98.28 192.47,-102.67 193.1,-95.69\"/>\n",
       "<text text-anchor=\"middle\" x=\"217.64\" y=\"-101.45\" font-family=\"Times,serif\" font-size=\"14.00\">0.54</text>\n",
       "</g>\n",
       "<!-- Previous Cells -->\n",
       "<g id=\"node2\" class=\"node\">\n",
       "<title>Previous Cells</title>\n",
       "<ellipse fill=\"none\" stroke=\"black\" cx=\"64.66\" cy=\"-18\" rx=\"64.66\" ry=\"18\"/>\n",
       "<text text-anchor=\"middle\" x=\"64.66\" y=\"-12.95\" font-family=\"Times,serif\" font-size=\"14.00\">Previous Cells</text>\n",
       "</g>\n",
       "<!-- Current Cell&#45;&gt;Previous Cells -->\n",
       "<g id=\"edge1\" class=\"edge\">\n",
       "<title>Current Cell&#45;&gt;Previous Cells</title>\n",
       "<path fill=\"none\" stroke=\"#5502a4\" d=\"M117.93,-88.82C108.32,-76.22 94.95,-58.7 84.01,-44.36\"/>\n",
       "<polygon fill=\"#5502a4\" stroke=\"#5502a4\" points=\"86.42,-42.75 77.57,-36.92 80.85,-47 86.42,-42.75\"/>\n",
       "<text text-anchor=\"middle\" x=\"115.66\" y=\"-57.2\" font-family=\"Times,serif\" font-size=\"14.00\">0.15</text>\n",
       "</g>\n",
       "<!-- Next Cells -->\n",
       "<g id=\"node3\" class=\"node\">\n",
       "<title>Next Cells</title>\n",
       "<ellipse fill=\"none\" stroke=\"black\" cx=\"197.66\" cy=\"-18\" rx=\"50.33\" ry=\"18\"/>\n",
       "<text text-anchor=\"middle\" x=\"197.66\" y=\"-12.95\" font-family=\"Times,serif\" font-size=\"14.00\">Next Cells</text>\n",
       "</g>\n",
       "<!-- Current Cell&#45;&gt;Next Cells -->\n",
       "<g id=\"edge3\" class=\"edge\">\n",
       "<title>Current Cell&#45;&gt;Next Cells</title>\n",
       "<path fill=\"none\" stroke=\"#9410a2\" d=\"M143.58,-88.82C153.4,-76.14 167.08,-58.47 178.23,-44.09\"/>\n",
       "<polygon fill=\"#9410a2\" stroke=\"#9410a2\" points=\"181.42,-46.68 184.78,-36.63 175.89,-42.39 181.42,-46.68\"/>\n",
       "<text text-anchor=\"middle\" x=\"181.66\" y=\"-57.2\" font-family=\"Times,serif\" font-size=\"14.00\">0.31</text>\n",
       "</g>\n",
       "</g>\n",
       "</svg>\n"
      ],
      "text/plain": [
       "<graphviz.graphs.Digraph at 0x16a5b1310>"
      ]
     },
     "execution_count": 12,
     "metadata": {},
     "output_type": "execute_result"
    }
   ],
   "source": [
    "get_average_transition_graphs(\n",
    "    task_transition_relations.groupby('expert').get_group(True)\n",
    ")[1]\n"
   ]
  },
  {
   "cell_type": "markdown",
   "metadata": {
    "collapsed": false,
    "jupyter": {
     "outputs_hidden": false
    }
   },
   "source": [
    "## Student"
   ]
  },
  {
   "cell_type": "code",
   "execution_count": 13,
   "metadata": {
    "ExecuteTime": {
     "end_time": "2023-09-01T09:39:54.681975Z",
     "start_time": "2023-09-01T09:39:54.606300Z"
    },
    "collapsed": false,
    "jupyter": {
     "outputs_hidden": false
    }
   },
   "outputs": [
    {
     "data": {
      "image/svg+xml": [
       "<?xml version=\"1.0\" encoding=\"UTF-8\" standalone=\"no\"?>\n",
       "<!DOCTYPE svg PUBLIC \"-//W3C//DTD SVG 1.1//EN\"\n",
       " \"http://www.w3.org/Graphics/SVG/1.1/DTD/svg11.dtd\">\n",
       "<!-- Generated by graphviz version 8.0.5 (20230430.1635)\n",
       " -->\n",
       "<!-- Pages: 1 -->\n",
       "<svg width=\"256pt\" height=\"133pt\"\n",
       " viewBox=\"0.00 0.00 255.99 132.50\" xmlns=\"http://www.w3.org/2000/svg\" xmlns:xlink=\"http://www.w3.org/1999/xlink\">\n",
       "<g id=\"graph0\" class=\"graph\" transform=\"scale(1 1) rotate(0) translate(4 128.5)\">\n",
       "<polygon fill=\"white\" stroke=\"none\" points=\"-4,4 -4,-128.5 251.99,-128.5 251.99,4 -4,4\"/>\n",
       "<!-- Current Cell -->\n",
       "<g id=\"node1\" class=\"node\">\n",
       "<title>Current Cell</title>\n",
       "<ellipse fill=\"none\" stroke=\"black\" cx=\"130.66\" cy=\"-106.5\" rx=\"56.98\" ry=\"18\"/>\n",
       "<text text-anchor=\"middle\" x=\"130.66\" y=\"-101.45\" font-family=\"Times,serif\" font-size=\"14.00\">Current Cell</text>\n",
       "</g>\n",
       "<!-- Current Cell&#45;&gt;Current Cell -->\n",
       "<g id=\"edge2\" class=\"edge\">\n",
       "<title>Current Cell&#45;&gt;Current Cell</title>\n",
       "<path fill=\"none\" stroke=\"#d24f71\" d=\"M181.83,-114.72C195.38,-114.25 205.64,-111.51 205.64,-106.5 205.64,-102.94 200.45,-100.52 192.58,-99.25\"/>\n",
       "<polygon fill=\"#d24f71\" stroke=\"#d24f71\" points=\"193.1,-95.69 182.83,-98.28 192.47,-102.67 193.1,-95.69\"/>\n",
       "<text text-anchor=\"middle\" x=\"217.64\" y=\"-101.45\" font-family=\"Times,serif\" font-size=\"14.00\">0.53</text>\n",
       "</g>\n",
       "<!-- Previous Cells -->\n",
       "<g id=\"node2\" class=\"node\">\n",
       "<title>Previous Cells</title>\n",
       "<ellipse fill=\"none\" stroke=\"black\" cx=\"64.66\" cy=\"-18\" rx=\"64.66\" ry=\"18\"/>\n",
       "<text text-anchor=\"middle\" x=\"64.66\" y=\"-12.95\" font-family=\"Times,serif\" font-size=\"14.00\">Previous Cells</text>\n",
       "</g>\n",
       "<!-- Current Cell&#45;&gt;Previous Cells -->\n",
       "<g id=\"edge1\" class=\"edge\">\n",
       "<title>Current Cell&#45;&gt;Previous Cells</title>\n",
       "<path fill=\"none\" stroke=\"#44039e\" d=\"M117.93,-88.82C108.32,-76.22 94.95,-58.7 84.01,-44.36\"/>\n",
       "<polygon fill=\"#44039e\" stroke=\"#44039e\" points=\"86.42,-42.75 77.57,-36.92 80.85,-47 86.42,-42.75\"/>\n",
       "<text text-anchor=\"middle\" x=\"115.66\" y=\"-57.2\" font-family=\"Times,serif\" font-size=\"14.00\">0.11</text>\n",
       "</g>\n",
       "<!-- Next Cells -->\n",
       "<g id=\"node3\" class=\"node\">\n",
       "<title>Next Cells</title>\n",
       "<ellipse fill=\"none\" stroke=\"black\" cx=\"197.66\" cy=\"-18\" rx=\"50.33\" ry=\"18\"/>\n",
       "<text text-anchor=\"middle\" x=\"197.66\" y=\"-12.95\" font-family=\"Times,serif\" font-size=\"14.00\">Next Cells</text>\n",
       "</g>\n",
       "<!-- Current Cell&#45;&gt;Next Cells -->\n",
       "<g id=\"edge3\" class=\"edge\">\n",
       "<title>Current Cell&#45;&gt;Next Cells</title>\n",
       "<path fill=\"none\" stroke=\"#a51f99\" d=\"M143.58,-88.82C153.4,-76.14 167.08,-58.47 178.23,-44.09\"/>\n",
       "<polygon fill=\"#a51f99\" stroke=\"#a51f99\" points=\"181.42,-46.68 184.78,-36.63 175.89,-42.39 181.42,-46.68\"/>\n",
       "<text text-anchor=\"middle\" x=\"181.66\" y=\"-57.2\" font-family=\"Times,serif\" font-size=\"14.00\">0.36</text>\n",
       "</g>\n",
       "</g>\n",
       "</svg>\n"
      ],
      "text/plain": [
       "<graphviz.graphs.Digraph at 0x175a65550>"
      ]
     },
     "execution_count": 13,
     "metadata": {},
     "output_type": "execute_result"
    }
   ],
   "source": [
    "get_average_transition_graphs(\n",
    "    task_transition_relations.groupby('expert').get_group(False)\n",
    ")[1]"
   ]
  },
  {
   "cell_type": "markdown",
   "metadata": {
    "collapsed": false,
    "jupyter": {
     "outputs_hidden": false
    }
   },
   "source": [
    "# Task 2"
   ]
  },
  {
   "cell_type": "markdown",
   "metadata": {
    "collapsed": false,
    "jupyter": {
     "outputs_hidden": false
    }
   },
   "source": [
    "## Expert"
   ]
  },
  {
   "cell_type": "code",
   "execution_count": 14,
   "metadata": {
    "ExecuteTime": {
     "end_time": "2023-09-01T09:39:55.756400Z",
     "start_time": "2023-09-01T09:39:55.674582Z"
    },
    "collapsed": false,
    "jupyter": {
     "outputs_hidden": false
    }
   },
   "outputs": [
    {
     "data": {
      "image/svg+xml": [
       "<?xml version=\"1.0\" encoding=\"UTF-8\" standalone=\"no\"?>\n",
       "<!DOCTYPE svg PUBLIC \"-//W3C//DTD SVG 1.1//EN\"\n",
       " \"http://www.w3.org/Graphics/SVG/1.1/DTD/svg11.dtd\">\n",
       "<!-- Generated by graphviz version 8.0.5 (20230430.1635)\n",
       " -->\n",
       "<!-- Pages: 1 -->\n",
       "<svg width=\"256pt\" height=\"133pt\"\n",
       " viewBox=\"0.00 0.00 255.99 132.50\" xmlns=\"http://www.w3.org/2000/svg\" xmlns:xlink=\"http://www.w3.org/1999/xlink\">\n",
       "<g id=\"graph0\" class=\"graph\" transform=\"scale(1 1) rotate(0) translate(4 128.5)\">\n",
       "<polygon fill=\"white\" stroke=\"none\" points=\"-4,4 -4,-128.5 251.99,-128.5 251.99,4 -4,4\"/>\n",
       "<!-- Current Cell -->\n",
       "<g id=\"node1\" class=\"node\">\n",
       "<title>Current Cell</title>\n",
       "<ellipse fill=\"none\" stroke=\"black\" cx=\"130.66\" cy=\"-106.5\" rx=\"56.98\" ry=\"18\"/>\n",
       "<text text-anchor=\"middle\" x=\"130.66\" y=\"-101.45\" font-family=\"Times,serif\" font-size=\"14.00\">Current Cell</text>\n",
       "</g>\n",
       "<!-- Current Cell&#45;&gt;Current Cell -->\n",
       "<g id=\"edge2\" class=\"edge\">\n",
       "<title>Current Cell&#45;&gt;Current Cell</title>\n",
       "<path fill=\"none\" stroke=\"#aa2395\" d=\"M181.83,-114.72C195.38,-114.25 205.64,-111.51 205.64,-106.5 205.64,-102.94 200.45,-100.52 192.58,-99.25\"/>\n",
       "<polygon fill=\"#aa2395\" stroke=\"#aa2395\" points=\"193.1,-95.69 182.83,-98.28 192.47,-102.67 193.1,-95.69\"/>\n",
       "<text text-anchor=\"middle\" x=\"217.64\" y=\"-101.45\" font-family=\"Times,serif\" font-size=\"14.00\">0.38</text>\n",
       "</g>\n",
       "<!-- Previous Cells -->\n",
       "<g id=\"node2\" class=\"node\">\n",
       "<title>Previous Cells</title>\n",
       "<ellipse fill=\"none\" stroke=\"black\" cx=\"64.66\" cy=\"-18\" rx=\"64.66\" ry=\"18\"/>\n",
       "<text text-anchor=\"middle\" x=\"64.66\" y=\"-12.95\" font-family=\"Times,serif\" font-size=\"14.00\">Previous Cells</text>\n",
       "</g>\n",
       "<!-- Current Cell&#45;&gt;Previous Cells -->\n",
       "<g id=\"edge1\" class=\"edge\">\n",
       "<title>Current Cell&#45;&gt;Previous Cells</title>\n",
       "<path fill=\"none\" stroke=\"#5502a4\" d=\"M117.93,-88.82C108.32,-76.22 94.95,-58.7 84.01,-44.36\"/>\n",
       "<polygon fill=\"#5502a4\" stroke=\"#5502a4\" points=\"86.42,-42.75 77.57,-36.92 80.85,-47 86.42,-42.75\"/>\n",
       "<text text-anchor=\"middle\" x=\"115.66\" y=\"-57.2\" font-family=\"Times,serif\" font-size=\"14.00\">0.15</text>\n",
       "</g>\n",
       "<!-- Next Cells -->\n",
       "<g id=\"node3\" class=\"node\">\n",
       "<title>Next Cells</title>\n",
       "<ellipse fill=\"none\" stroke=\"black\" cx=\"197.66\" cy=\"-18\" rx=\"50.33\" ry=\"18\"/>\n",
       "<text text-anchor=\"middle\" x=\"197.66\" y=\"-12.95\" font-family=\"Times,serif\" font-size=\"14.00\">Next Cells</text>\n",
       "</g>\n",
       "<!-- Current Cell&#45;&gt;Next Cells -->\n",
       "<g id=\"edge3\" class=\"edge\">\n",
       "<title>Current Cell&#45;&gt;Next Cells</title>\n",
       "<path fill=\"none\" stroke=\"#c6417d\" d=\"M143.58,-88.82C153.4,-76.14 167.08,-58.47 178.23,-44.09\"/>\n",
       "<polygon fill=\"#c6417d\" stroke=\"#c6417d\" points=\"181.42,-46.68 184.78,-36.63 175.89,-42.39 181.42,-46.68\"/>\n",
       "<text text-anchor=\"middle\" x=\"181.66\" y=\"-57.2\" font-family=\"Times,serif\" font-size=\"14.00\">0.48</text>\n",
       "</g>\n",
       "</g>\n",
       "</svg>\n"
      ],
      "text/plain": [
       "<graphviz.graphs.Digraph at 0x175e95610>"
      ]
     },
     "execution_count": 14,
     "metadata": {},
     "output_type": "execute_result"
    }
   ],
   "source": [
    "get_average_transition_graphs(\n",
    "    task_transition_relations.groupby('expert').get_group(True)\n",
    ")[2]\n"
   ]
  },
  {
   "cell_type": "markdown",
   "metadata": {
    "collapsed": false,
    "jupyter": {
     "outputs_hidden": false
    }
   },
   "source": [
    "## Student"
   ]
  },
  {
   "cell_type": "code",
   "execution_count": 15,
   "metadata": {
    "ExecuteTime": {
     "end_time": "2023-09-01T09:39:56.914693Z",
     "start_time": "2023-09-01T09:39:56.842244Z"
    },
    "collapsed": false,
    "jupyter": {
     "outputs_hidden": false
    }
   },
   "outputs": [
    {
     "data": {
      "image/svg+xml": [
       "<?xml version=\"1.0\" encoding=\"UTF-8\" standalone=\"no\"?>\n",
       "<!DOCTYPE svg PUBLIC \"-//W3C//DTD SVG 1.1//EN\"\n",
       " \"http://www.w3.org/Graphics/SVG/1.1/DTD/svg11.dtd\">\n",
       "<!-- Generated by graphviz version 8.0.5 (20230430.1635)\n",
       " -->\n",
       "<!-- Pages: 1 -->\n",
       "<svg width=\"256pt\" height=\"133pt\"\n",
       " viewBox=\"0.00 0.00 255.99 132.50\" xmlns=\"http://www.w3.org/2000/svg\" xmlns:xlink=\"http://www.w3.org/1999/xlink\">\n",
       "<g id=\"graph0\" class=\"graph\" transform=\"scale(1 1) rotate(0) translate(4 128.5)\">\n",
       "<polygon fill=\"white\" stroke=\"none\" points=\"-4,4 -4,-128.5 251.99,-128.5 251.99,4 -4,4\"/>\n",
       "<!-- Current Cell -->\n",
       "<g id=\"node1\" class=\"node\">\n",
       "<title>Current Cell</title>\n",
       "<ellipse fill=\"none\" stroke=\"black\" cx=\"130.66\" cy=\"-106.5\" rx=\"56.98\" ry=\"18\"/>\n",
       "<text text-anchor=\"middle\" x=\"130.66\" y=\"-101.45\" font-family=\"Times,serif\" font-size=\"14.00\">Current Cell</text>\n",
       "</g>\n",
       "<!-- Current Cell&#45;&gt;Current Cell -->\n",
       "<g id=\"edge2\" class=\"edge\">\n",
       "<title>Current Cell&#45;&gt;Current Cell</title>\n",
       "<path fill=\"none\" stroke=\"#c13b82\" d=\"M181.83,-114.72C195.38,-114.25 205.64,-111.51 205.64,-106.5 205.64,-102.94 200.45,-100.52 192.58,-99.25\"/>\n",
       "<polygon fill=\"#c13b82\" stroke=\"#c13b82\" points=\"193.1,-95.69 182.83,-98.28 192.47,-102.67 193.1,-95.69\"/>\n",
       "<text text-anchor=\"middle\" x=\"217.64\" y=\"-101.45\" font-family=\"Times,serif\" font-size=\"14.00\">0.46</text>\n",
       "</g>\n",
       "<!-- Previous Cells -->\n",
       "<g id=\"node2\" class=\"node\">\n",
       "<title>Previous Cells</title>\n",
       "<ellipse fill=\"none\" stroke=\"black\" cx=\"64.66\" cy=\"-18\" rx=\"64.66\" ry=\"18\"/>\n",
       "<text text-anchor=\"middle\" x=\"64.66\" y=\"-12.95\" font-family=\"Times,serif\" font-size=\"14.00\">Previous Cells</text>\n",
       "</g>\n",
       "<!-- Current Cell&#45;&gt;Previous Cells -->\n",
       "<g id=\"edge1\" class=\"edge\">\n",
       "<title>Current Cell&#45;&gt;Previous Cells</title>\n",
       "<path fill=\"none\" stroke=\"#5002a2\" d=\"M117.93,-88.82C108.32,-76.22 94.95,-58.7 84.01,-44.36\"/>\n",
       "<polygon fill=\"#5002a2\" stroke=\"#5002a2\" points=\"86.42,-42.75 77.57,-36.92 80.85,-47 86.42,-42.75\"/>\n",
       "<text text-anchor=\"middle\" x=\"115.66\" y=\"-57.2\" font-family=\"Times,serif\" font-size=\"14.00\">0.13</text>\n",
       "</g>\n",
       "<!-- Next Cells -->\n",
       "<g id=\"node3\" class=\"node\">\n",
       "<title>Next Cells</title>\n",
       "<ellipse fill=\"none\" stroke=\"black\" cx=\"197.66\" cy=\"-18\" rx=\"50.33\" ry=\"18\"/>\n",
       "<text text-anchor=\"middle\" x=\"197.66\" y=\"-12.95\" font-family=\"Times,serif\" font-size=\"14.00\">Next Cells</text>\n",
       "</g>\n",
       "<!-- Current Cell&#45;&gt;Next Cells -->\n",
       "<g id=\"edge3\" class=\"edge\">\n",
       "<title>Current Cell&#45;&gt;Next Cells</title>\n",
       "<path fill=\"none\" stroke=\"#b32c8e\" d=\"M143.58,-88.82C153.4,-76.14 167.08,-58.47 178.23,-44.09\"/>\n",
       "<polygon fill=\"#b32c8e\" stroke=\"#b32c8e\" points=\"181.42,-46.68 184.78,-36.63 175.89,-42.39 181.42,-46.68\"/>\n",
       "<text text-anchor=\"middle\" x=\"181.66\" y=\"-57.2\" font-family=\"Times,serif\" font-size=\"14.00\">0.41</text>\n",
       "</g>\n",
       "</g>\n",
       "</svg>\n"
      ],
      "text/plain": [
       "<graphviz.graphs.Digraph at 0x1750a9a90>"
      ]
     },
     "execution_count": 15,
     "metadata": {},
     "output_type": "execute_result"
    }
   ],
   "source": [
    "get_average_transition_graphs(\n",
    "    task_transition_relations.groupby('expert').get_group(False)\n",
    ")[2]\n"
   ]
  },
  {
   "cell_type": "code",
   "execution_count": 48,
   "metadata": {
    "ExecuteTime": {
     "end_time": "2023-08-30T13:07:31.158175Z",
     "start_time": "2023-08-30T13:07:31.121218Z"
    },
    "collapsed": false,
    "jupyter": {
     "outputs_hidden": false
    }
   },
   "outputs": [],
   "source": []
  },
  {
   "cell_type": "code",
   "execution_count": 21,
   "metadata": {
    "ExecuteTime": {
     "end_time": "2023-09-01T09:41:08.440794Z",
     "start_time": "2023-09-01T09:41:08.411398Z"
    },
    "collapsed": false,
    "jupyter": {
     "outputs_hidden": false
    }
   },
   "outputs": [
    {
     "ename": "TypeError",
     "evalue": "'SeriesGroupBy' object is not callable",
     "output_type": "error",
     "traceback": [
      "\u001B[0;31m---------------------------------------------------------------------------\u001B[0m",
      "\u001B[0;31mTypeError\u001B[0m                                 Traceback (most recent call last)",
      "Cell \u001B[0;32mIn[21], line 1\u001B[0m\n\u001B[0;32m----> 1\u001B[0m \u001B[43mtask_transition_relations\u001B[49m\u001B[38;5;241;43m.\u001B[39;49m\u001B[43mgroupby\u001B[49m\u001B[43m(\u001B[49m\u001B[43m[\u001B[49m\u001B[38;5;124;43m\"\u001B[39;49m\u001B[38;5;124;43mtask_type\u001B[39;49m\u001B[38;5;124;43m\"\u001B[39;49m\u001B[43m,\u001B[49m\u001B[43m \u001B[49m\u001B[38;5;124;43m'\u001B[39;49m\u001B[38;5;124;43mexpert\u001B[39;49m\u001B[38;5;124;43m'\u001B[39;49m\u001B[43m]\u001B[49m\u001B[43m)\u001B[49m\u001B[38;5;241;43m.\u001B[39;49m\u001B[43mtransition_type\u001B[49m\u001B[43m(\u001B[49m\u001B[43m)\u001B[49m\n",
      "\u001B[0;31mTypeError\u001B[0m: 'SeriesGroupBy' object is not callable"
     ]
    }
   ],
   "source": [
    "task_transition_relations.groupby([\"task_type\", 'expert']).transition_type()"
   ]
  },
  {
   "cell_type": "code",
   "execution_count": 35,
   "metadata": {
    "ExecuteTime": {
     "end_time": "2023-09-01T09:47:20.998372Z",
     "start_time": "2023-09-01T09:47:20.965622Z"
    },
    "collapsed": false,
    "jupyter": {
     "outputs_hidden": false
    }
   },
   "outputs": [
    {
     "data": {
      "text/html": [
       "<div>\n",
       "<style scoped>\n",
       "    .dataframe tbody tr th:only-of-type {\n",
       "        vertical-align: middle;\n",
       "    }\n",
       "\n",
       "    .dataframe tbody tr th {\n",
       "        vertical-align: top;\n",
       "    }\n",
       "\n",
       "    .dataframe thead th {\n",
       "        text-align: right;\n",
       "    }\n",
       "</style>\n",
       "<table border=\"1\" class=\"dataframe\">\n",
       "  <thead>\n",
       "    <tr style=\"text-align: right;\">\n",
       "      <th></th>\n",
       "      <th></th>\n",
       "      <th>transition_type</th>\n",
       "      <th>proportion</th>\n",
       "    </tr>\n",
       "    <tr>\n",
       "      <th>task_type</th>\n",
       "      <th>expert</th>\n",
       "      <th></th>\n",
       "      <th></th>\n",
       "    </tr>\n",
       "  </thead>\n",
       "  <tbody>\n",
       "    <tr>\n",
       "      <th rowspan=\"6\" valign=\"top\">1</th>\n",
       "      <th>False</th>\n",
       "      <td>backward</td>\n",
       "      <td>0.107196</td>\n",
       "    </tr>\n",
       "    <tr>\n",
       "      <th>True</th>\n",
       "      <td>backward</td>\n",
       "      <td>0.146745</td>\n",
       "    </tr>\n",
       "    <tr>\n",
       "      <th>False</th>\n",
       "      <td>forward</td>\n",
       "      <td>0.362607</td>\n",
       "    </tr>\n",
       "    <tr>\n",
       "      <th>True</th>\n",
       "      <td>forward</td>\n",
       "      <td>0.311267</td>\n",
       "    </tr>\n",
       "    <tr>\n",
       "      <th>False</th>\n",
       "      <td>inner</td>\n",
       "      <td>0.530197</td>\n",
       "    </tr>\n",
       "    <tr>\n",
       "      <th>True</th>\n",
       "      <td>inner</td>\n",
       "      <td>0.541988</td>\n",
       "    </tr>\n",
       "    <tr>\n",
       "      <th rowspan=\"6\" valign=\"top\">2</th>\n",
       "      <th>False</th>\n",
       "      <td>backward</td>\n",
       "      <td>0.134181</td>\n",
       "    </tr>\n",
       "    <tr>\n",
       "      <th>True</th>\n",
       "      <td>backward</td>\n",
       "      <td>0.148000</td>\n",
       "    </tr>\n",
       "    <tr>\n",
       "      <th>False</th>\n",
       "      <td>forward</td>\n",
       "      <td>0.406874</td>\n",
       "    </tr>\n",
       "    <tr>\n",
       "      <th>True</th>\n",
       "      <td>forward</td>\n",
       "      <td>0.476759</td>\n",
       "    </tr>\n",
       "    <tr>\n",
       "      <th>False</th>\n",
       "      <td>inner</td>\n",
       "      <td>0.458945</td>\n",
       "    </tr>\n",
       "    <tr>\n",
       "      <th>True</th>\n",
       "      <td>inner</td>\n",
       "      <td>0.375241</td>\n",
       "    </tr>\n",
       "  </tbody>\n",
       "</table>\n",
       "</div>"
      ],
      "text/plain": [
       "                 transition_type  proportion\n",
       "task_type expert                            \n",
       "1         False         backward    0.107196\n",
       "          True          backward    0.146745\n",
       "          False          forward    0.362607\n",
       "          True           forward    0.311267\n",
       "          False            inner    0.530197\n",
       "          True             inner    0.541988\n",
       "2         False         backward    0.134181\n",
       "          True          backward    0.148000\n",
       "          False          forward    0.406874\n",
       "          True           forward    0.476759\n",
       "          False            inner    0.458945\n",
       "          True             inner    0.375241"
      ]
     },
     "execution_count": 35,
     "metadata": {},
     "output_type": "execute_result"
    }
   ],
   "source": [
    "df_full = task_transition_relations.set_index(['task_type', 'expert'])\n",
    "df_full\n",
    "# df_full['proportion'] = (df_full[['proportion']].round(2) * 100).applymap('{:.0f}%'.format)\n",
    "# print(df_full.to_latex(escape=True, multirow=True))\n",
    "# # df_full.round(2).applymap('{:.2f}'.format).to_latex(escape=True, multirow=True)"
   ]
  },
  {
   "cell_type": "code",
   "execution_count": null,
   "metadata": {
    "collapsed": false,
    "jupyter": {
     "outputs_hidden": false
    }
   },
   "outputs": [],
   "source": []
  }
 ],
 "metadata": {
  "kernelspec": {
   "display_name": "Python 3 (ipykernel)",
   "language": "python",
   "name": "python3"
  },
  "language_info": {
   "codemirror_mode": {
    "name": "ipython",
    "version": 3
   },
   "file_extension": ".py",
   "mimetype": "text/x-python",
   "name": "python",
   "nbconvert_exporter": "python",
   "pygments_lexer": "ipython3",
   "version": "3.11.0"
  }
 },
 "nbformat": 4,
 "nbformat_minor": 4
}
