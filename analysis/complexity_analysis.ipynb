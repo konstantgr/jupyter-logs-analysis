{
 "cells": [
  {
   "cell_type": "markdown",
   "source": [
    "# Packages Loading"
   ],
   "metadata": {
    "collapsed": false
   }
  },
  {
   "cell_type": "code",
   "execution_count": 16,
   "outputs": [
    {
     "name": "stdout",
     "output_type": "stream",
     "text": [
      "The autoreload extension is already loaded. To reload it, use:\n",
      "  %reload_ext autoreload\n"
     ]
    }
   ],
   "source": [
    "%load_ext autoreload\n",
    "%autoreload 2\n",
    "\n",
    "from pathlib import Path\n",
    "\n",
    "import matplotlib.pyplot as plt\n",
    "import numpy as np\n",
    "from tqdm import tqdm\n",
    "import pandas as pd\n",
    "\n",
    "from data_loading import read_hackathon_data\n",
    "from metrics.june_dataset import JuNEDataset\n",
    "from metrics.metrics_cells import CellsMetrics\n"
   ],
   "metadata": {
    "collapsed": false,
    "ExecuteTime": {
     "end_time": "2023-08-28T12:52:09.166038Z",
     "start_time": "2023-08-28T12:52:08.987452Z"
    }
   }
  },
  {
   "cell_type": "markdown",
   "source": [
    "# Read Data"
   ],
   "metadata": {
    "collapsed": false
   }
  },
  {
   "cell_type": "code",
   "execution_count": 17,
   "outputs": [],
   "source": [
    "path = Path(\"data_config.yaml\")\n",
    "df_hack = read_hackathon_data(path, attach_users=True)\n",
    "df_hack.head()\n"
   ],
   "metadata": {
    "collapsed": false,
    "ExecuteTime": {
     "end_time": "2023-08-28T12:52:10.351659Z",
     "start_time": "2023-08-28T12:52:10.244386Z"
    }
   }
  },
  {
   "cell_type": "code",
   "execution_count": 18,
   "outputs": [
    {
     "name": "stderr",
     "output_type": "stream",
     "text": [
      "100%|██████████| 31/31 [00:25<00:00,  1.22it/s]\n"
     ]
    },
    {
     "data": {
      "text/plain": "    state_num                        cell_index  cell_num  \\\n0           1  35c0b3b694f84140846a21197ea62f68       0.0   \n0           2  35c0b3b694f84140846a21197ea62f68       0.0   \n0           3  35c0b3b694f84140846a21197ea62f68       0.0   \n0           4  35c0b3b694f84140846a21197ea62f68       0.0   \n0           5  35c0b3b694f84140846a21197ea62f68       0.0   \n..        ...                               ...       ...   \n14        497  dd4006fccad344ae8e13f2a49946b42e      14.0   \n15        497  f372fcf1d6b9403587d8f226e65df63b      15.0   \n16        497  795bf5ffdb9a4bdfa5f0ed2937ea16dd      16.0   \n17        497  b5843c42fca14f1a86a780e0caaf704c      17.0   \n18        497  5f7f4e7a57634a058a9e3cec2462c1e5      18.0   \n\n                                          cell_source    index  \\\n0   # # Do not forget to check if your notebook lo...      0.0   \n0   from mining_extension import check_logging \\nc...      1.0   \n0   from mining_extension import check_logging \\nc...      2.0   \n0   from mining_extension import check_logging \\nc...      3.0   \n0   from mining_extension import check_logging \\nc...      4.0   \n..                                                ...      ...   \n14  re.findall(r'[(]\\S*', split2[0])[0].replace('(...  23053.0   \n15  re.findall(r'\\S*[d+:]\\S*', split2[0])[0].repla...  23053.0   \n16  \\n\\nfor i in df.iloc[:1,0]:\\n    split1 = i.sp...  23053.0   \n17  df_final = pd.DataFrame()\\n\\n\\nfor i in df.ilo...  23053.0   \n18                                           df_final  23053.0   \n\n                      time                            session_id  \\\n0  2023-05-06 10:32:26.282  709ce80b-90a5-457e-bf6f-b7033a3261b5   \n0  2023-05-06 10:32:55.892  709ce80b-90a5-457e-bf6f-b7033a3261b5   \n0  2023-05-06 10:32:56.229  709ce80b-90a5-457e-bf6f-b7033a3261b5   \n0  2023-05-06 10:32:58.048  709ce80b-90a5-457e-bf6f-b7033a3261b5   \n0  2023-05-06 10:32:58.429  709ce80b-90a5-457e-bf6f-b7033a3261b5   \n..                     ...                                   ...   \n14 2023-08-18 14:49:30.859  275683a9-81a4-47d8-89f0-f4f3564106bb   \n15 2023-08-18 14:49:30.859  275683a9-81a4-47d8-89f0-f4f3564106bb   \n16 2023-08-18 14:49:30.859  275683a9-81a4-47d8-89f0-f4f3564106bb   \n17 2023-08-18 14:49:30.859  275683a9-81a4-47d8-89f0-f4f3564106bb   \n18 2023-08-18 14:49:30.859  275683a9-81a4-47d8-89f0-f4f3564106bb   \n\n                               kernel_id notebook_name             event  \\\n0   bc147b33-fa74-4bff-9f48-c88809c5bdcd   task1.ipynb     save_notebook   \n0   bc147b33-fa74-4bff-9f48-c88809c5bdcd   task1.ipynb           execute   \n0   bc147b33-fa74-4bff-9f48-c88809c5bdcd   task1.ipynb  finished_execute   \n0   bc147b33-fa74-4bff-9f48-c88809c5bdcd   task1.ipynb           execute   \n0   bc147b33-fa74-4bff-9f48-c88809c5bdcd   task1.ipynb  finished_execute   \n..                                   ...           ...               ...   \n14  b12216b9-46d7-486c-9fa9-21d843da13dc   task1.ipynb  finished_execute   \n15  b12216b9-46d7-486c-9fa9-21d843da13dc   task1.ipynb  finished_execute   \n16  b12216b9-46d7-486c-9fa9-21d843da13dc   task1.ipynb  finished_execute   \n17  b12216b9-46d7-486c-9fa9-21d843da13dc   task1.ipynb  finished_execute   \n18  b12216b9-46d7-486c-9fa9-21d843da13dc   task1.ipynb  finished_execute   \n\n   cell_type                                     cell_output    user_id  \\\n0       None                                            None  student_7   \n0       code                                            None  student_7   \n0       code            [{\"output_type\":\"stream\",\"size\":23}]  student_7   \n0       code                                            None  student_7   \n0       code            [{\"output_type\":\"stream\",\"size\":23}]  student_7   \n..       ...                                             ...        ...   \n14      code  [{\"output_type\":\"execute_result\",\"size\":2661}]   expert_7   \n15      code  [{\"output_type\":\"execute_result\",\"size\":2661}]   expert_7   \n16      code  [{\"output_type\":\"execute_result\",\"size\":2661}]   expert_7   \n17      code  [{\"output_type\":\"execute_result\",\"size\":2661}]   expert_7   \n18      code  [{\"output_type\":\"execute_result\",\"size\":2661}]   expert_7   \n\n    action_id  \n0         0.0  \n0         1.0  \n0         2.0  \n0         3.0  \n0         4.0  \n..        ...  \n14    23053.0  \n15    23053.0  \n16    23053.0  \n17    23053.0  \n18    23053.0  \n\n[558267 rows x 14 columns]",
      "text/html": "<div>\n<style scoped>\n    .dataframe tbody tr th:only-of-type {\n        vertical-align: middle;\n    }\n\n    .dataframe tbody tr th {\n        vertical-align: top;\n    }\n\n    .dataframe thead th {\n        text-align: right;\n    }\n</style>\n<table border=\"1\" class=\"dataframe\">\n  <thead>\n    <tr style=\"text-align: right;\">\n      <th></th>\n      <th>state_num</th>\n      <th>cell_index</th>\n      <th>cell_num</th>\n      <th>cell_source</th>\n      <th>index</th>\n      <th>time</th>\n      <th>session_id</th>\n      <th>kernel_id</th>\n      <th>notebook_name</th>\n      <th>event</th>\n      <th>cell_type</th>\n      <th>cell_output</th>\n      <th>user_id</th>\n      <th>action_id</th>\n    </tr>\n  </thead>\n  <tbody>\n    <tr>\n      <th>0</th>\n      <td>1</td>\n      <td>35c0b3b694f84140846a21197ea62f68</td>\n      <td>0.0</td>\n      <td># # Do not forget to check if your notebook lo...</td>\n      <td>0.0</td>\n      <td>2023-05-06 10:32:26.282</td>\n      <td>709ce80b-90a5-457e-bf6f-b7033a3261b5</td>\n      <td>bc147b33-fa74-4bff-9f48-c88809c5bdcd</td>\n      <td>task1.ipynb</td>\n      <td>save_notebook</td>\n      <td>None</td>\n      <td>None</td>\n      <td>student_7</td>\n      <td>0.0</td>\n    </tr>\n    <tr>\n      <th>0</th>\n      <td>2</td>\n      <td>35c0b3b694f84140846a21197ea62f68</td>\n      <td>0.0</td>\n      <td>from mining_extension import check_logging \\nc...</td>\n      <td>1.0</td>\n      <td>2023-05-06 10:32:55.892</td>\n      <td>709ce80b-90a5-457e-bf6f-b7033a3261b5</td>\n      <td>bc147b33-fa74-4bff-9f48-c88809c5bdcd</td>\n      <td>task1.ipynb</td>\n      <td>execute</td>\n      <td>code</td>\n      <td>None</td>\n      <td>student_7</td>\n      <td>1.0</td>\n    </tr>\n    <tr>\n      <th>0</th>\n      <td>3</td>\n      <td>35c0b3b694f84140846a21197ea62f68</td>\n      <td>0.0</td>\n      <td>from mining_extension import check_logging \\nc...</td>\n      <td>2.0</td>\n      <td>2023-05-06 10:32:56.229</td>\n      <td>709ce80b-90a5-457e-bf6f-b7033a3261b5</td>\n      <td>bc147b33-fa74-4bff-9f48-c88809c5bdcd</td>\n      <td>task1.ipynb</td>\n      <td>finished_execute</td>\n      <td>code</td>\n      <td>[{\"output_type\":\"stream\",\"size\":23}]</td>\n      <td>student_7</td>\n      <td>2.0</td>\n    </tr>\n    <tr>\n      <th>0</th>\n      <td>4</td>\n      <td>35c0b3b694f84140846a21197ea62f68</td>\n      <td>0.0</td>\n      <td>from mining_extension import check_logging \\nc...</td>\n      <td>3.0</td>\n      <td>2023-05-06 10:32:58.048</td>\n      <td>709ce80b-90a5-457e-bf6f-b7033a3261b5</td>\n      <td>bc147b33-fa74-4bff-9f48-c88809c5bdcd</td>\n      <td>task1.ipynb</td>\n      <td>execute</td>\n      <td>code</td>\n      <td>None</td>\n      <td>student_7</td>\n      <td>3.0</td>\n    </tr>\n    <tr>\n      <th>0</th>\n      <td>5</td>\n      <td>35c0b3b694f84140846a21197ea62f68</td>\n      <td>0.0</td>\n      <td>from mining_extension import check_logging \\nc...</td>\n      <td>4.0</td>\n      <td>2023-05-06 10:32:58.429</td>\n      <td>709ce80b-90a5-457e-bf6f-b7033a3261b5</td>\n      <td>bc147b33-fa74-4bff-9f48-c88809c5bdcd</td>\n      <td>task1.ipynb</td>\n      <td>finished_execute</td>\n      <td>code</td>\n      <td>[{\"output_type\":\"stream\",\"size\":23}]</td>\n      <td>student_7</td>\n      <td>4.0</td>\n    </tr>\n    <tr>\n      <th>...</th>\n      <td>...</td>\n      <td>...</td>\n      <td>...</td>\n      <td>...</td>\n      <td>...</td>\n      <td>...</td>\n      <td>...</td>\n      <td>...</td>\n      <td>...</td>\n      <td>...</td>\n      <td>...</td>\n      <td>...</td>\n      <td>...</td>\n      <td>...</td>\n    </tr>\n    <tr>\n      <th>14</th>\n      <td>497</td>\n      <td>dd4006fccad344ae8e13f2a49946b42e</td>\n      <td>14.0</td>\n      <td>re.findall(r'[(]\\S*', split2[0])[0].replace('(...</td>\n      <td>23053.0</td>\n      <td>2023-08-18 14:49:30.859</td>\n      <td>275683a9-81a4-47d8-89f0-f4f3564106bb</td>\n      <td>b12216b9-46d7-486c-9fa9-21d843da13dc</td>\n      <td>task1.ipynb</td>\n      <td>finished_execute</td>\n      <td>code</td>\n      <td>[{\"output_type\":\"execute_result\",\"size\":2661}]</td>\n      <td>expert_7</td>\n      <td>23053.0</td>\n    </tr>\n    <tr>\n      <th>15</th>\n      <td>497</td>\n      <td>f372fcf1d6b9403587d8f226e65df63b</td>\n      <td>15.0</td>\n      <td>re.findall(r'\\S*[d+:]\\S*', split2[0])[0].repla...</td>\n      <td>23053.0</td>\n      <td>2023-08-18 14:49:30.859</td>\n      <td>275683a9-81a4-47d8-89f0-f4f3564106bb</td>\n      <td>b12216b9-46d7-486c-9fa9-21d843da13dc</td>\n      <td>task1.ipynb</td>\n      <td>finished_execute</td>\n      <td>code</td>\n      <td>[{\"output_type\":\"execute_result\",\"size\":2661}]</td>\n      <td>expert_7</td>\n      <td>23053.0</td>\n    </tr>\n    <tr>\n      <th>16</th>\n      <td>497</td>\n      <td>795bf5ffdb9a4bdfa5f0ed2937ea16dd</td>\n      <td>16.0</td>\n      <td>\\n\\nfor i in df.iloc[:1,0]:\\n    split1 = i.sp...</td>\n      <td>23053.0</td>\n      <td>2023-08-18 14:49:30.859</td>\n      <td>275683a9-81a4-47d8-89f0-f4f3564106bb</td>\n      <td>b12216b9-46d7-486c-9fa9-21d843da13dc</td>\n      <td>task1.ipynb</td>\n      <td>finished_execute</td>\n      <td>code</td>\n      <td>[{\"output_type\":\"execute_result\",\"size\":2661}]</td>\n      <td>expert_7</td>\n      <td>23053.0</td>\n    </tr>\n    <tr>\n      <th>17</th>\n      <td>497</td>\n      <td>b5843c42fca14f1a86a780e0caaf704c</td>\n      <td>17.0</td>\n      <td>df_final = pd.DataFrame()\\n\\n\\nfor i in df.ilo...</td>\n      <td>23053.0</td>\n      <td>2023-08-18 14:49:30.859</td>\n      <td>275683a9-81a4-47d8-89f0-f4f3564106bb</td>\n      <td>b12216b9-46d7-486c-9fa9-21d843da13dc</td>\n      <td>task1.ipynb</td>\n      <td>finished_execute</td>\n      <td>code</td>\n      <td>[{\"output_type\":\"execute_result\",\"size\":2661}]</td>\n      <td>expert_7</td>\n      <td>23053.0</td>\n    </tr>\n    <tr>\n      <th>18</th>\n      <td>497</td>\n      <td>5f7f4e7a57634a058a9e3cec2462c1e5</td>\n      <td>18.0</td>\n      <td>df_final</td>\n      <td>23053.0</td>\n      <td>2023-08-18 14:49:30.859</td>\n      <td>275683a9-81a4-47d8-89f0-f4f3564106bb</td>\n      <td>b12216b9-46d7-486c-9fa9-21d843da13dc</td>\n      <td>task1.ipynb</td>\n      <td>finished_execute</td>\n      <td>code</td>\n      <td>[{\"output_type\":\"execute_result\",\"size\":2661}]</td>\n      <td>expert_7</td>\n      <td>23053.0</td>\n    </tr>\n  </tbody>\n</table>\n<p>558267 rows × 14 columns</p>\n</div>"
     },
     "execution_count": 18,
     "metadata": {},
     "output_type": "execute_result"
    }
   ],
   "source": [
    "june = JuNEDataset(df_hack)\n",
    "june.to_dataframe().head()\n"
   ],
   "metadata": {
    "collapsed": false,
    "ExecuteTime": {
     "end_time": "2023-08-28T12:52:36.559297Z",
     "start_time": "2023-08-28T12:52:11.097723Z"
    }
   }
  },
  {
   "cell_type": "markdown",
   "source": [
    "# Initialize Metrics Processor"
   ],
   "metadata": {
    "collapsed": false
   }
  },
  {
   "cell_type": "code",
   "execution_count": 5,
   "outputs": [],
   "source": [
    "processor = CellsMetrics()\n"
   ],
   "metadata": {
    "collapsed": false,
    "ExecuteTime": {
     "end_time": "2023-08-22T11:06:43.310662Z",
     "start_time": "2023-08-22T11:06:43.270779Z"
    }
   }
  },
  {
   "cell_type": "code",
   "execution_count": 8,
   "outputs": [
    {
     "name": "stderr",
     "output_type": "stream",
     "text": [
      "<unknown>:13: SyntaxWarning: invalid decimal literal\n",
      "<unknown>:13: SyntaxWarning: invalid decimal literal\n",
      "<unknown>:13: SyntaxWarning: invalid decimal literal\n",
      "<unknown>:13: SyntaxWarning: invalid decimal literal\n",
      "<unknown>:13: SyntaxWarning: invalid decimal literal\n",
      "<unknown>:13: SyntaxWarning: invalid decimal literal\n",
      "<unknown>:13: SyntaxWarning: invalid decimal literal\n",
      "<unknown>:13: SyntaxWarning: invalid decimal literal\n"
     ]
    },
    {
     "data": {
      "text/plain": "                                       objects              sloc          \\\n                                          mean     sum      mean     sum   \nkernel_id                                                                  \n0033f76c-6179-4fb4-a9ce-79112a52b51c  8.089947  1529.0  9.571429  1809.0   \n033a2c63-4cfb-4cc5-9988-59c48a06eb23  2.988263  1273.0  2.852113  1215.0   \n1d8c1c38-d342-4950-9667-f8b9872d71b7  1.622642    86.0  1.603774    85.0   \n232bcb48-7455-4109-9eeb-809649a6bedc  4.580357  2052.0  3.633929  1628.0   \n29da7c56-5a69-485f-b181-a0a7199a559c  3.757720  1582.0  4.377672  1843.0   \n\n                                           ccn         \n                                          mean    sum  \nkernel_id                                              \n0033f76c-6179-4fb4-a9ce-79112a52b51c  2.661376  503.0  \n033a2c63-4cfb-4cc5-9988-59c48a06eb23  1.185446  505.0  \n1d8c1c38-d342-4950-9667-f8b9872d71b7  1.075472   57.0  \n232bcb48-7455-4109-9eeb-809649a6bedc  1.265625  567.0  \n29da7c56-5a69-485f-b181-a0a7199a559c  1.361045  573.0  ",
      "text/html": "<div>\n<style scoped>\n    .dataframe tbody tr th:only-of-type {\n        vertical-align: middle;\n    }\n\n    .dataframe tbody tr th {\n        vertical-align: top;\n    }\n\n    .dataframe thead tr th {\n        text-align: left;\n    }\n\n    .dataframe thead tr:last-of-type th {\n        text-align: right;\n    }\n</style>\n<table border=\"1\" class=\"dataframe\">\n  <thead>\n    <tr>\n      <th></th>\n      <th colspan=\"2\" halign=\"left\">objects</th>\n      <th colspan=\"2\" halign=\"left\">sloc</th>\n      <th colspan=\"2\" halign=\"left\">ccn</th>\n    </tr>\n    <tr>\n      <th></th>\n      <th>mean</th>\n      <th>sum</th>\n      <th>mean</th>\n      <th>sum</th>\n      <th>mean</th>\n      <th>sum</th>\n    </tr>\n    <tr>\n      <th>kernel_id</th>\n      <th></th>\n      <th></th>\n      <th></th>\n      <th></th>\n      <th></th>\n      <th></th>\n    </tr>\n  </thead>\n  <tbody>\n    <tr>\n      <th>0033f76c-6179-4fb4-a9ce-79112a52b51c</th>\n      <td>8.089947</td>\n      <td>1529.0</td>\n      <td>9.571429</td>\n      <td>1809.0</td>\n      <td>2.661376</td>\n      <td>503.0</td>\n    </tr>\n    <tr>\n      <th>033a2c63-4cfb-4cc5-9988-59c48a06eb23</th>\n      <td>2.988263</td>\n      <td>1273.0</td>\n      <td>2.852113</td>\n      <td>1215.0</td>\n      <td>1.185446</td>\n      <td>505.0</td>\n    </tr>\n    <tr>\n      <th>1d8c1c38-d342-4950-9667-f8b9872d71b7</th>\n      <td>1.622642</td>\n      <td>86.0</td>\n      <td>1.603774</td>\n      <td>85.0</td>\n      <td>1.075472</td>\n      <td>57.0</td>\n    </tr>\n    <tr>\n      <th>232bcb48-7455-4109-9eeb-809649a6bedc</th>\n      <td>4.580357</td>\n      <td>2052.0</td>\n      <td>3.633929</td>\n      <td>1628.0</td>\n      <td>1.265625</td>\n      <td>567.0</td>\n    </tr>\n    <tr>\n      <th>29da7c56-5a69-485f-b181-a0a7199a559c</th>\n      <td>3.757720</td>\n      <td>1582.0</td>\n      <td>4.377672</td>\n      <td>1843.0</td>\n      <td>1.361045</td>\n      <td>573.0</td>\n    </tr>\n  </tbody>\n</table>\n</div>"
     },
     "execution_count": 8,
     "metadata": {},
     "output_type": "execute_result"
    }
   ],
   "source": [
    "cells_metrics_df = processor.calculate_metrics(june.df.iloc[:])\n",
    "cells_metrics_df.head()\n"
   ],
   "metadata": {
    "collapsed": false,
    "ExecuteTime": {
     "end_time": "2023-08-22T11:13:31.261025Z",
     "start_time": "2023-08-22T11:13:29.599182Z"
    }
   }
  },
  {
   "cell_type": "markdown",
   "source": [
    "# Metrics Calculation"
   ],
   "metadata": {
    "collapsed": false
   }
  },
  {
   "cell_type": "code",
   "execution_count": 8,
   "outputs": [
    {
     "name": "stderr",
     "output_type": "stream",
     "text": [
      "100%|██████████| 48/48 [00:02<00:00, 20.10it/s]\n"
     ]
    },
    {
     "data": {
      "text/plain": "                              kernel_id  modularity  average_degree  \\\n0  033a2c63-4cfb-4cc5-9988-59c48a06eb23    0.584378        5.071429   \n1  1d8c1c38-d342-4950-9667-f8b9872d71b7    0.510842        5.578947   \n2  232bcb48-7455-4109-9eeb-809649a6bedc    0.474784       12.985507   \n3  29da7c56-5a69-485f-b181-a0a7199a559c    0.572181        7.943396   \n4  2bc4e2c9-833e-454f-8c6c-2dff1e6e60e9    0.517000        5.037037   \n\n   average_clustering  \n0            0.161154  \n1            0.078947  \n2            0.287237  \n3            0.143793  \n4            0.342387  ",
      "text/html": "<div>\n<style scoped>\n    .dataframe tbody tr th:only-of-type {\n        vertical-align: middle;\n    }\n\n    .dataframe tbody tr th {\n        vertical-align: top;\n    }\n\n    .dataframe thead th {\n        text-align: right;\n    }\n</style>\n<table border=\"1\" class=\"dataframe\">\n  <thead>\n    <tr style=\"text-align: right;\">\n      <th></th>\n      <th>kernel_id</th>\n      <th>modularity</th>\n      <th>average_degree</th>\n      <th>average_clustering</th>\n    </tr>\n  </thead>\n  <tbody>\n    <tr>\n      <th>0</th>\n      <td>033a2c63-4cfb-4cc5-9988-59c48a06eb23</td>\n      <td>0.584378</td>\n      <td>5.071429</td>\n      <td>0.161154</td>\n    </tr>\n    <tr>\n      <th>1</th>\n      <td>1d8c1c38-d342-4950-9667-f8b9872d71b7</td>\n      <td>0.510842</td>\n      <td>5.578947</td>\n      <td>0.078947</td>\n    </tr>\n    <tr>\n      <th>2</th>\n      <td>232bcb48-7455-4109-9eeb-809649a6bedc</td>\n      <td>0.474784</td>\n      <td>12.985507</td>\n      <td>0.287237</td>\n    </tr>\n    <tr>\n      <th>3</th>\n      <td>29da7c56-5a69-485f-b181-a0a7199a559c</td>\n      <td>0.572181</td>\n      <td>7.943396</td>\n      <td>0.143793</td>\n    </tr>\n    <tr>\n      <th>4</th>\n      <td>2bc4e2c9-833e-454f-8c6c-2dff1e6e60e9</td>\n      <td>0.517000</td>\n      <td>5.037037</td>\n      <td>0.342387</td>\n    </tr>\n  </tbody>\n</table>\n</div>"
     },
     "execution_count": 8,
     "metadata": {},
     "output_type": "execute_result"
    }
   ],
   "source": [
    "graph_metrics = processor.calculate_graph_metrics(df_hack)\n",
    "graph_metrics.head()\n"
   ],
   "metadata": {
    "collapsed": false,
    "ExecuteTime": {
     "end_time": "2023-08-08T09:14:21.506855Z",
     "start_time": "2023-08-08T09:14:19.021971Z"
    }
   }
  },
  {
   "cell_type": "code",
   "execution_count": 9,
   "outputs": [
    {
     "name": "stderr",
     "output_type": "stream",
     "text": [
      "<unknown>:13: SyntaxWarning: invalid decimal literal\n",
      "<unknown>:13: SyntaxWarning: invalid decimal literal\n",
      "<unknown>:13: SyntaxWarning: invalid decimal literal\n",
      "<unknown>:13: SyntaxWarning: invalid decimal literal\n",
      "<unknown>:13: SyntaxWarning: invalid decimal literal\n",
      "<unknown>:13: SyntaxWarning: invalid decimal literal\n",
      "<unknown>:13: SyntaxWarning: invalid decimal literal\n",
      "<unknown>:13: SyntaxWarning: invalid decimal literal\n"
     ]
    },
    {
     "data": {
      "text/plain": "   id    ip_address                      time  \\\n0  10          None  2023-05-06T08:30:38.037Z   \n1  17  192.168.1.56  2023-05-06T08:31:35.929Z   \n2  18  192.168.1.56  2023-05-06T08:31:35.944Z   \n3  19  192.168.1.56  2023-05-06T08:31:36.049Z   \n4  41  192.168.1.56  2023-05-06T08:37:46.346Z   \n\n                             session_id                             kernel_id  \\\n0  a7b38785-5e80-4d1b-9722-6673e4c78877  5c2e86ab-cd96-4e48-98bc-28ed10fa8aac   \n1  a7b38785-5e80-4d1b-9722-6673e4c78877  5c2e86ab-cd96-4e48-98bc-28ed10fa8aac   \n2  a7b38785-5e80-4d1b-9722-6673e4c78877  5c2e86ab-cd96-4e48-98bc-28ed10fa8aac   \n3  a7b38785-5e80-4d1b-9722-6673e4c78877  5c2e86ab-cd96-4e48-98bc-28ed10fa8aac   \n4  a7b38785-5e80-4d1b-9722-6673e4c78877  5c2e86ab-cd96-4e48-98bc-28ed10fa8aac   \n\n  notebook_name             event                        cell_index  cell_num  \\\n0   task1.ipynb     save_notebook                              None       NaN   \n1   task1.ipynb           execute  e4836a849dea49f1a753df2274fbdbc5       0.0   \n2   task1.ipynb            create  dbcf462e8f6c4e3a89c0d6d0d083c0b2       0.0   \n3   task1.ipynb  finished_execute  e4836a849dea49f1a753df2274fbdbc5       1.0   \n4   task1.ipynb           execute  dbcf462e8f6c4e3a89c0d6d0d083c0b2       1.0   \n\n  cell_type                                        cell_source  \\\n0      None  [\\n  {\\n    \"id\": \"e4836a849dea49f1a753df2274f...   \n1      code  # # Do not forget to check if your notebook lo...   \n2      code                                               None   \n3      code  # # Do not forget to check if your notebook lo...   \n4      code                                     !ls data/task1   \n\n                            cell_output  expert    user_id  objects  sloc  ccn  \n0                                  None   False  student_2      NaN   NaN  NaN  \n1                                  None   False  student_2      1.0   2.0  1.0  \n2                                  None   False  student_2      NaN   NaN  NaN  \n3  [{\"output_type\":\"stream\",\"size\":23}]   False  student_2      NaN   NaN  NaN  \n4                                  None   False  student_2      0.0   1.0  1.0  ",
      "text/html": "<div>\n<style scoped>\n    .dataframe tbody tr th:only-of-type {\n        vertical-align: middle;\n    }\n\n    .dataframe tbody tr th {\n        vertical-align: top;\n    }\n\n    .dataframe thead th {\n        text-align: right;\n    }\n</style>\n<table border=\"1\" class=\"dataframe\">\n  <thead>\n    <tr style=\"text-align: right;\">\n      <th></th>\n      <th>id</th>\n      <th>ip_address</th>\n      <th>time</th>\n      <th>session_id</th>\n      <th>kernel_id</th>\n      <th>notebook_name</th>\n      <th>event</th>\n      <th>cell_index</th>\n      <th>cell_num</th>\n      <th>cell_type</th>\n      <th>cell_source</th>\n      <th>cell_output</th>\n      <th>expert</th>\n      <th>user_id</th>\n      <th>objects</th>\n      <th>sloc</th>\n      <th>ccn</th>\n    </tr>\n  </thead>\n  <tbody>\n    <tr>\n      <th>0</th>\n      <td>10</td>\n      <td>None</td>\n      <td>2023-05-06T08:30:38.037Z</td>\n      <td>a7b38785-5e80-4d1b-9722-6673e4c78877</td>\n      <td>5c2e86ab-cd96-4e48-98bc-28ed10fa8aac</td>\n      <td>task1.ipynb</td>\n      <td>save_notebook</td>\n      <td>None</td>\n      <td>NaN</td>\n      <td>None</td>\n      <td>[\\n  {\\n    \"id\": \"e4836a849dea49f1a753df2274f...</td>\n      <td>None</td>\n      <td>False</td>\n      <td>student_2</td>\n      <td>NaN</td>\n      <td>NaN</td>\n      <td>NaN</td>\n    </tr>\n    <tr>\n      <th>1</th>\n      <td>17</td>\n      <td>192.168.1.56</td>\n      <td>2023-05-06T08:31:35.929Z</td>\n      <td>a7b38785-5e80-4d1b-9722-6673e4c78877</td>\n      <td>5c2e86ab-cd96-4e48-98bc-28ed10fa8aac</td>\n      <td>task1.ipynb</td>\n      <td>execute</td>\n      <td>e4836a849dea49f1a753df2274fbdbc5</td>\n      <td>0.0</td>\n      <td>code</td>\n      <td># # Do not forget to check if your notebook lo...</td>\n      <td>None</td>\n      <td>False</td>\n      <td>student_2</td>\n      <td>1.0</td>\n      <td>2.0</td>\n      <td>1.0</td>\n    </tr>\n    <tr>\n      <th>2</th>\n      <td>18</td>\n      <td>192.168.1.56</td>\n      <td>2023-05-06T08:31:35.944Z</td>\n      <td>a7b38785-5e80-4d1b-9722-6673e4c78877</td>\n      <td>5c2e86ab-cd96-4e48-98bc-28ed10fa8aac</td>\n      <td>task1.ipynb</td>\n      <td>create</td>\n      <td>dbcf462e8f6c4e3a89c0d6d0d083c0b2</td>\n      <td>0.0</td>\n      <td>code</td>\n      <td>None</td>\n      <td>None</td>\n      <td>False</td>\n      <td>student_2</td>\n      <td>NaN</td>\n      <td>NaN</td>\n      <td>NaN</td>\n    </tr>\n    <tr>\n      <th>3</th>\n      <td>19</td>\n      <td>192.168.1.56</td>\n      <td>2023-05-06T08:31:36.049Z</td>\n      <td>a7b38785-5e80-4d1b-9722-6673e4c78877</td>\n      <td>5c2e86ab-cd96-4e48-98bc-28ed10fa8aac</td>\n      <td>task1.ipynb</td>\n      <td>finished_execute</td>\n      <td>e4836a849dea49f1a753df2274fbdbc5</td>\n      <td>1.0</td>\n      <td>code</td>\n      <td># # Do not forget to check if your notebook lo...</td>\n      <td>[{\"output_type\":\"stream\",\"size\":23}]</td>\n      <td>False</td>\n      <td>student_2</td>\n      <td>NaN</td>\n      <td>NaN</td>\n      <td>NaN</td>\n    </tr>\n    <tr>\n      <th>4</th>\n      <td>41</td>\n      <td>192.168.1.56</td>\n      <td>2023-05-06T08:37:46.346Z</td>\n      <td>a7b38785-5e80-4d1b-9722-6673e4c78877</td>\n      <td>5c2e86ab-cd96-4e48-98bc-28ed10fa8aac</td>\n      <td>task1.ipynb</td>\n      <td>execute</td>\n      <td>dbcf462e8f6c4e3a89c0d6d0d083c0b2</td>\n      <td>1.0</td>\n      <td>code</td>\n      <td>!ls data/task1</td>\n      <td>None</td>\n      <td>False</td>\n      <td>student_2</td>\n      <td>0.0</td>\n      <td>1.0</td>\n      <td>1.0</td>\n    </tr>\n  </tbody>\n</table>\n</div>"
     },
     "execution_count": 9,
     "metadata": {},
     "output_type": "execute_result"
    }
   ],
   "source": [
    "cells_metrics = processor.calculate_cell_metrics(df_hack)\n",
    "cells_metrics.head()\n"
   ],
   "metadata": {
    "collapsed": false,
    "ExecuteTime": {
     "end_time": "2023-08-08T09:14:35.944936Z",
     "start_time": "2023-08-08T09:14:33.719087Z"
    }
   }
  },
  {
   "cell_type": "code",
   "execution_count": 7,
   "outputs": [
    {
     "name": "stderr",
     "output_type": "stream",
     "text": [
      " 94%|█████████▍| 48/51 [01:42<00:07,  2.48s/it]<unknown>:13: SyntaxWarning: invalid decimal literal\n",
      "<unknown>:13: SyntaxWarning: invalid decimal literal\n",
      "<unknown>:13: SyntaxWarning: invalid decimal literal\n",
      "<unknown>:13: SyntaxWarning: invalid decimal literal\n",
      "<unknown>:13: SyntaxWarning: invalid decimal literal\n",
      "<unknown>:13: SyntaxWarning: invalid decimal literal\n",
      "<unknown>:13: SyntaxWarning: invalid decimal literal\n",
      "<unknown>:13: SyntaxWarning: invalid decimal literal\n",
      "<unknown>:13: SyntaxWarning: invalid decimal literal\n",
      "<unknown>:13: SyntaxWarning: invalid decimal literal\n",
      "<unknown>:13: SyntaxWarning: invalid decimal literal\n",
      "<unknown>:13: SyntaxWarning: invalid decimal literal\n",
      "<unknown>:13: SyntaxWarning: invalid decimal literal\n",
      "<unknown>:13: SyntaxWarning: invalid decimal literal\n",
      "<unknown>:13: SyntaxWarning: invalid decimal literal\n",
      "<unknown>:13: SyntaxWarning: invalid decimal literal\n",
      "<unknown>:13: SyntaxWarning: invalid decimal literal\n",
      "<unknown>:13: SyntaxWarning: invalid decimal literal\n",
      "<unknown>:13: SyntaxWarning: invalid decimal literal\n",
      "<unknown>:13: SyntaxWarning: invalid decimal literal\n",
      "<unknown>:13: SyntaxWarning: invalid decimal literal\n",
      "<unknown>:13: SyntaxWarning: invalid decimal literal\n",
      "<unknown>:13: SyntaxWarning: invalid decimal literal\n",
      "<unknown>:13: SyntaxWarning: invalid decimal literal\n",
      "<unknown>:13: SyntaxWarning: invalid decimal literal\n",
      "<unknown>:13: SyntaxWarning: invalid decimal literal\n",
      "<unknown>:13: SyntaxWarning: invalid decimal literal\n",
      "<unknown>:13: SyntaxWarning: invalid decimal literal\n",
      "<unknown>:13: SyntaxWarning: invalid decimal literal\n",
      "<unknown>:13: SyntaxWarning: invalid decimal literal\n",
      "<unknown>:13: SyntaxWarning: invalid decimal literal\n",
      "<unknown>:13: SyntaxWarning: invalid decimal literal\n",
      "<unknown>:13: SyntaxWarning: invalid decimal literal\n",
      "<unknown>:13: SyntaxWarning: invalid decimal literal\n",
      "<unknown>:13: SyntaxWarning: invalid decimal literal\n",
      "<unknown>:13: SyntaxWarning: invalid decimal literal\n",
      "<unknown>:13: SyntaxWarning: invalid decimal literal\n",
      "<unknown>:13: SyntaxWarning: invalid decimal literal\n",
      "<unknown>:13: SyntaxWarning: invalid decimal literal\n",
      "<unknown>:13: SyntaxWarning: invalid decimal literal\n",
      "<unknown>:13: SyntaxWarning: invalid decimal literal\n",
      "<unknown>:13: SyntaxWarning: invalid decimal literal\n",
      "<unknown>:13: SyntaxWarning: invalid decimal literal\n",
      "<unknown>:13: SyntaxWarning: invalid decimal literal\n",
      "<unknown>:13: SyntaxWarning: invalid decimal literal\n",
      "<unknown>:13: SyntaxWarning: invalid decimal literal\n",
      "<unknown>:13: SyntaxWarning: invalid decimal literal\n",
      "<unknown>:13: SyntaxWarning: invalid decimal literal\n",
      "<unknown>:13: SyntaxWarning: invalid decimal literal\n",
      "<unknown>:13: SyntaxWarning: invalid decimal literal\n",
      "<unknown>:13: SyntaxWarning: invalid decimal literal\n",
      "<unknown>:13: SyntaxWarning: invalid decimal literal\n",
      "<unknown>:13: SyntaxWarning: invalid decimal literal\n",
      "<unknown>:13: SyntaxWarning: invalid decimal literal\n",
      "<unknown>:13: SyntaxWarning: invalid decimal literal\n",
      "<unknown>:13: SyntaxWarning: invalid decimal literal\n",
      "<unknown>:13: SyntaxWarning: invalid decimal literal\n",
      "<unknown>:13: SyntaxWarning: invalid decimal literal\n",
      "<unknown>:13: SyntaxWarning: invalid decimal literal\n",
      "<unknown>:13: SyntaxWarning: invalid decimal literal\n",
      "<unknown>:13: SyntaxWarning: invalid decimal literal\n",
      "<unknown>:13: SyntaxWarning: invalid decimal literal\n",
      "<unknown>:13: SyntaxWarning: invalid decimal literal\n",
      "<unknown>:13: SyntaxWarning: invalid decimal literal\n",
      "<unknown>:13: SyntaxWarning: invalid decimal literal\n",
      "<unknown>:13: SyntaxWarning: invalid decimal literal\n",
      "<unknown>:13: SyntaxWarning: invalid decimal literal\n",
      "<unknown>:13: SyntaxWarning: invalid decimal literal\n",
      "<unknown>:13: SyntaxWarning: invalid decimal literal\n",
      "<unknown>:13: SyntaxWarning: invalid decimal literal\n",
      "<unknown>:13: SyntaxWarning: invalid decimal literal\n",
      "<unknown>:13: SyntaxWarning: invalid decimal literal\n",
      "<unknown>:13: SyntaxWarning: invalid decimal literal\n",
      "<unknown>:13: SyntaxWarning: invalid decimal literal\n",
      "<unknown>:13: SyntaxWarning: invalid decimal literal\n",
      "<unknown>:13: SyntaxWarning: invalid decimal literal\n",
      "<unknown>:13: SyntaxWarning: invalid decimal literal\n",
      "<unknown>:13: SyntaxWarning: invalid decimal literal\n",
      "<unknown>:13: SyntaxWarning: invalid decimal literal\n",
      "<unknown>:13: SyntaxWarning: invalid decimal literal\n",
      "<unknown>:13: SyntaxWarning: invalid decimal literal\n",
      "<unknown>:13: SyntaxWarning: invalid decimal literal\n",
      "<unknown>:13: SyntaxWarning: invalid decimal literal\n",
      "<unknown>:13: SyntaxWarning: invalid decimal literal\n",
      "<unknown>:13: SyntaxWarning: invalid decimal literal\n",
      "<unknown>:13: SyntaxWarning: invalid decimal literal\n",
      "<unknown>:13: SyntaxWarning: invalid decimal literal\n",
      "<unknown>:13: SyntaxWarning: invalid decimal literal\n",
      "<unknown>:13: SyntaxWarning: invalid decimal literal\n",
      "<unknown>:13: SyntaxWarning: invalid decimal literal\n",
      "<unknown>:13: SyntaxWarning: invalid decimal literal\n",
      "<unknown>:13: SyntaxWarning: invalid decimal literal\n",
      "<unknown>:13: SyntaxWarning: invalid decimal literal\n",
      "<unknown>:13: SyntaxWarning: invalid decimal literal\n",
      "<unknown>:13: SyntaxWarning: invalid decimal literal\n",
      "<unknown>:13: SyntaxWarning: invalid decimal literal\n",
      "<unknown>:13: SyntaxWarning: invalid decimal literal\n",
      "<unknown>:13: SyntaxWarning: invalid decimal literal\n",
      "<unknown>:13: SyntaxWarning: invalid decimal literal\n",
      "<unknown>:13: SyntaxWarning: invalid decimal literal\n",
      "<unknown>:13: SyntaxWarning: invalid decimal literal\n",
      "<unknown>:13: SyntaxWarning: invalid decimal literal\n",
      "<unknown>:13: SyntaxWarning: invalid decimal literal\n",
      "<unknown>:13: SyntaxWarning: invalid decimal literal\n",
      "<unknown>:13: SyntaxWarning: invalid decimal literal\n",
      "<unknown>:13: SyntaxWarning: invalid decimal literal\n",
      "<unknown>:13: SyntaxWarning: invalid decimal literal\n",
      "<unknown>:13: SyntaxWarning: invalid decimal literal\n",
      "<unknown>:13: SyntaxWarning: invalid decimal literal\n",
      "<unknown>:13: SyntaxWarning: invalid decimal literal\n",
      "<unknown>:13: SyntaxWarning: invalid decimal literal\n",
      "<unknown>:13: SyntaxWarning: invalid decimal literal\n",
      "<unknown>:13: SyntaxWarning: invalid decimal literal\n",
      "<unknown>:13: SyntaxWarning: invalid decimal literal\n",
      "<unknown>:13: SyntaxWarning: invalid decimal literal\n",
      "<unknown>:13: SyntaxWarning: invalid decimal literal\n",
      "<unknown>:13: SyntaxWarning: invalid decimal literal\n",
      "<unknown>:13: SyntaxWarning: invalid decimal literal\n",
      "<unknown>:13: SyntaxWarning: invalid decimal literal\n",
      "<unknown>:13: SyntaxWarning: invalid decimal literal\n",
      "<unknown>:13: SyntaxWarning: invalid decimal literal\n",
      "<unknown>:13: SyntaxWarning: invalid decimal literal\n",
      "<unknown>:13: SyntaxWarning: invalid decimal literal\n",
      "<unknown>:13: SyntaxWarning: invalid decimal literal\n",
      "<unknown>:13: SyntaxWarning: invalid decimal literal\n",
      "<unknown>:13: SyntaxWarning: invalid decimal literal\n",
      "<unknown>:13: SyntaxWarning: invalid decimal literal\n",
      "<unknown>:13: SyntaxWarning: invalid decimal literal\n",
      "<unknown>:13: SyntaxWarning: invalid decimal literal\n",
      "<unknown>:13: SyntaxWarning: invalid decimal literal\n",
      "<unknown>:13: SyntaxWarning: invalid decimal literal\n",
      "<unknown>:13: SyntaxWarning: invalid decimal literal\n",
      "<unknown>:13: SyntaxWarning: invalid decimal literal\n",
      "<unknown>:13: SyntaxWarning: invalid decimal literal\n",
      "<unknown>:13: SyntaxWarning: invalid decimal literal\n",
      "<unknown>:13: SyntaxWarning: invalid decimal literal\n",
      "<unknown>:13: SyntaxWarning: invalid decimal literal\n",
      "<unknown>:13: SyntaxWarning: invalid decimal literal\n",
      "<unknown>:13: SyntaxWarning: invalid decimal literal\n",
      "<unknown>:13: SyntaxWarning: invalid decimal literal\n",
      "<unknown>:13: SyntaxWarning: invalid decimal literal\n",
      "<unknown>:13: SyntaxWarning: invalid decimal literal\n",
      "<unknown>:13: SyntaxWarning: invalid decimal literal\n",
      "<unknown>:13: SyntaxWarning: invalid decimal literal\n",
      "<unknown>:13: SyntaxWarning: invalid decimal literal\n",
      "<unknown>:13: SyntaxWarning: invalid decimal literal\n",
      "<unknown>:13: SyntaxWarning: invalid decimal literal\n",
      "<unknown>:13: SyntaxWarning: invalid decimal literal\n",
      "<unknown>:13: SyntaxWarning: invalid decimal literal\n",
      "<unknown>:13: SyntaxWarning: invalid decimal literal\n",
      "<unknown>:13: SyntaxWarning: invalid decimal literal\n",
      "<unknown>:13: SyntaxWarning: invalid decimal literal\n",
      "<unknown>:13: SyntaxWarning: invalid decimal literal\n",
      "<unknown>:13: SyntaxWarning: invalid decimal literal\n",
      "<unknown>:13: SyntaxWarning: invalid decimal literal\n",
      "<unknown>:13: SyntaxWarning: invalid decimal literal\n",
      "<unknown>:13: SyntaxWarning: invalid decimal literal\n",
      "<unknown>:13: SyntaxWarning: invalid decimal literal\n",
      "<unknown>:13: SyntaxWarning: invalid decimal literal\n",
      "<unknown>:13: SyntaxWarning: invalid decimal literal\n",
      "<unknown>:13: SyntaxWarning: invalid decimal literal\n",
      "<unknown>:13: SyntaxWarning: invalid decimal literal\n",
      "<unknown>:13: SyntaxWarning: invalid decimal literal\n",
      "<unknown>:13: SyntaxWarning: invalid decimal literal\n",
      "<unknown>:13: SyntaxWarning: invalid decimal literal\n",
      "<unknown>:13: SyntaxWarning: invalid decimal literal\n",
      "<unknown>:13: SyntaxWarning: invalid decimal literal\n",
      "<unknown>:13: SyntaxWarning: invalid decimal literal\n",
      "<unknown>:13: SyntaxWarning: invalid decimal literal\n",
      "<unknown>:13: SyntaxWarning: invalid decimal literal\n",
      "<unknown>:13: SyntaxWarning: invalid decimal literal\n",
      "<unknown>:13: SyntaxWarning: invalid decimal literal\n",
      "<unknown>:13: SyntaxWarning: invalid decimal literal\n",
      "<unknown>:13: SyntaxWarning: invalid decimal literal\n",
      "<unknown>:13: SyntaxWarning: invalid decimal literal\n",
      "<unknown>:13: SyntaxWarning: invalid decimal literal\n",
      "<unknown>:13: SyntaxWarning: invalid decimal literal\n",
      "<unknown>:13: SyntaxWarning: invalid decimal literal\n",
      "<unknown>:13: SyntaxWarning: invalid decimal literal\n",
      "<unknown>:13: SyntaxWarning: invalid decimal literal\n",
      "<unknown>:13: SyntaxWarning: invalid decimal literal\n",
      "<unknown>:13: SyntaxWarning: invalid decimal literal\n",
      "<unknown>:13: SyntaxWarning: invalid decimal literal\n",
      "<unknown>:13: SyntaxWarning: invalid decimal literal\n",
      "<unknown>:13: SyntaxWarning: invalid decimal literal\n",
      "<unknown>:13: SyntaxWarning: invalid decimal literal\n",
      "<unknown>:13: SyntaxWarning: invalid decimal literal\n",
      "<unknown>:13: SyntaxWarning: invalid decimal literal\n",
      "<unknown>:13: SyntaxWarning: invalid decimal literal\n",
      "<unknown>:13: SyntaxWarning: invalid decimal literal\n",
      "<unknown>:13: SyntaxWarning: invalid decimal literal\n",
      "<unknown>:13: SyntaxWarning: invalid decimal literal\n",
      "<unknown>:13: SyntaxWarning: invalid decimal literal\n",
      "<unknown>:13: SyntaxWarning: invalid decimal literal\n",
      "<unknown>:13: SyntaxWarning: invalid decimal literal\n",
      "<unknown>:13: SyntaxWarning: invalid decimal literal\n",
      "<unknown>:13: SyntaxWarning: invalid decimal literal\n",
      "<unknown>:13: SyntaxWarning: invalid decimal literal\n",
      "<unknown>:13: SyntaxWarning: invalid decimal literal\n",
      "<unknown>:13: SyntaxWarning: invalid decimal literal\n",
      "<unknown>:13: SyntaxWarning: invalid decimal literal\n",
      "<unknown>:13: SyntaxWarning: invalid decimal literal\n",
      "<unknown>:13: SyntaxWarning: invalid decimal literal\n",
      "<unknown>:13: SyntaxWarning: invalid decimal literal\n",
      "<unknown>:13: SyntaxWarning: invalid decimal literal\n",
      "<unknown>:13: SyntaxWarning: invalid decimal literal\n",
      "<unknown>:13: SyntaxWarning: invalid decimal literal\n",
      "<unknown>:13: SyntaxWarning: invalid decimal literal\n",
      "<unknown>:13: SyntaxWarning: invalid decimal literal\n",
      "<unknown>:13: SyntaxWarning: invalid decimal literal\n",
      "<unknown>:13: SyntaxWarning: invalid decimal literal\n",
      "<unknown>:13: SyntaxWarning: invalid decimal literal\n",
      "<unknown>:13: SyntaxWarning: invalid decimal literal\n",
      "<unknown>:13: SyntaxWarning: invalid decimal literal\n",
      "<unknown>:13: SyntaxWarning: invalid decimal literal\n",
      "<unknown>:13: SyntaxWarning: invalid decimal literal\n",
      "<unknown>:13: SyntaxWarning: invalid decimal literal\n",
      "<unknown>:13: SyntaxWarning: invalid decimal literal\n",
      "<unknown>:13: SyntaxWarning: invalid decimal literal\n",
      "<unknown>:13: SyntaxWarning: invalid decimal literal\n",
      "<unknown>:13: SyntaxWarning: invalid decimal literal\n",
      "<unknown>:13: SyntaxWarning: invalid decimal literal\n",
      "<unknown>:13: SyntaxWarning: invalid decimal literal\n",
      "<unknown>:13: SyntaxWarning: invalid decimal literal\n",
      "<unknown>:13: SyntaxWarning: invalid decimal literal\n",
      "<unknown>:13: SyntaxWarning: invalid decimal literal\n",
      "<unknown>:13: SyntaxWarning: invalid decimal literal\n",
      "<unknown>:13: SyntaxWarning: invalid decimal literal\n",
      "<unknown>:13: SyntaxWarning: invalid decimal literal\n",
      "<unknown>:13: SyntaxWarning: invalid decimal literal\n",
      "<unknown>:13: SyntaxWarning: invalid decimal literal\n",
      "<unknown>:13: SyntaxWarning: invalid decimal literal\n",
      "<unknown>:13: SyntaxWarning: invalid decimal literal\n",
      "<unknown>:13: SyntaxWarning: invalid decimal literal\n",
      "<unknown>:13: SyntaxWarning: invalid decimal literal\n",
      "<unknown>:13: SyntaxWarning: invalid decimal literal\n",
      "<unknown>:13: SyntaxWarning: invalid decimal literal\n",
      "<unknown>:13: SyntaxWarning: invalid decimal literal\n",
      "<unknown>:13: SyntaxWarning: invalid decimal literal\n",
      "<unknown>:13: SyntaxWarning: invalid decimal literal\n",
      "<unknown>:13: SyntaxWarning: invalid decimal literal\n",
      "<unknown>:13: SyntaxWarning: invalid decimal literal\n",
      "<unknown>:13: SyntaxWarning: invalid decimal literal\n",
      "<unknown>:13: SyntaxWarning: invalid decimal literal\n",
      "<unknown>:13: SyntaxWarning: invalid decimal literal\n",
      "<unknown>:13: SyntaxWarning: invalid decimal literal\n",
      "<unknown>:13: SyntaxWarning: invalid decimal literal\n",
      "<unknown>:13: SyntaxWarning: invalid decimal literal\n",
      "<unknown>:13: SyntaxWarning: invalid decimal literal\n",
      "<unknown>:13: SyntaxWarning: invalid decimal literal\n",
      "<unknown>:13: SyntaxWarning: invalid decimal literal\n",
      "<unknown>:13: SyntaxWarning: invalid decimal literal\n",
      "<unknown>:13: SyntaxWarning: invalid decimal literal\n",
      "<unknown>:13: SyntaxWarning: invalid decimal literal\n",
      "<unknown>:13: SyntaxWarning: invalid decimal literal\n",
      "<unknown>:13: SyntaxWarning: invalid decimal literal\n",
      "<unknown>:13: SyntaxWarning: invalid decimal literal\n",
      "<unknown>:13: SyntaxWarning: invalid decimal literal\n",
      "<unknown>:13: SyntaxWarning: invalid decimal literal\n",
      "<unknown>:13: SyntaxWarning: invalid decimal literal\n",
      "<unknown>:13: SyntaxWarning: invalid decimal literal\n",
      "<unknown>:13: SyntaxWarning: invalid decimal literal\n",
      "<unknown>:13: SyntaxWarning: invalid decimal literal\n",
      "<unknown>:13: SyntaxWarning: invalid decimal literal\n",
      "<unknown>:13: SyntaxWarning: invalid decimal literal\n",
      "<unknown>:13: SyntaxWarning: invalid decimal literal\n",
      "<unknown>:13: SyntaxWarning: invalid decimal literal\n",
      "<unknown>:13: SyntaxWarning: invalid decimal literal\n",
      "<unknown>:13: SyntaxWarning: invalid decimal literal\n",
      "<unknown>:13: SyntaxWarning: invalid decimal literal\n",
      "<unknown>:13: SyntaxWarning: invalid decimal literal\n",
      "<unknown>:13: SyntaxWarning: invalid decimal literal\n",
      "<unknown>:13: SyntaxWarning: invalid decimal literal\n",
      "<unknown>:13: SyntaxWarning: invalid decimal literal\n",
      "<unknown>:13: SyntaxWarning: invalid decimal literal\n",
      "<unknown>:13: SyntaxWarning: invalid decimal literal\n",
      "<unknown>:13: SyntaxWarning: invalid decimal literal\n",
      "<unknown>:13: SyntaxWarning: invalid decimal literal\n",
      "<unknown>:13: SyntaxWarning: invalid decimal literal\n",
      "<unknown>:13: SyntaxWarning: invalid decimal literal\n",
      "<unknown>:13: SyntaxWarning: invalid decimal literal\n",
      "<unknown>:13: SyntaxWarning: invalid decimal literal\n",
      "<unknown>:13: SyntaxWarning: invalid decimal literal\n",
      "<unknown>:13: SyntaxWarning: invalid decimal literal\n",
      "<unknown>:13: SyntaxWarning: invalid decimal literal\n",
      "<unknown>:13: SyntaxWarning: invalid decimal literal\n",
      "<unknown>:13: SyntaxWarning: invalid decimal literal\n",
      "<unknown>:13: SyntaxWarning: invalid decimal literal\n",
      "<unknown>:13: SyntaxWarning: invalid decimal literal\n",
      "<unknown>:13: SyntaxWarning: invalid decimal literal\n",
      "<unknown>:13: SyntaxWarning: invalid decimal literal\n",
      "<unknown>:13: SyntaxWarning: invalid decimal literal\n",
      "<unknown>:13: SyntaxWarning: invalid decimal literal\n",
      "<unknown>:13: SyntaxWarning: invalid decimal literal\n",
      "<unknown>:13: SyntaxWarning: invalid decimal literal\n",
      "<unknown>:13: SyntaxWarning: invalid decimal literal\n",
      "<unknown>:13: SyntaxWarning: invalid decimal literal\n",
      "<unknown>:13: SyntaxWarning: invalid decimal literal\n",
      "<unknown>:13: SyntaxWarning: invalid decimal literal\n",
      "<unknown>:13: SyntaxWarning: invalid decimal literal\n",
      "<unknown>:13: SyntaxWarning: invalid decimal literal\n",
      "<unknown>:13: SyntaxWarning: invalid decimal literal\n",
      "<unknown>:13: SyntaxWarning: invalid decimal literal\n",
      "<unknown>:13: SyntaxWarning: invalid decimal literal\n",
      "<unknown>:13: SyntaxWarning: invalid decimal literal\n",
      "<unknown>:13: SyntaxWarning: invalid decimal literal\n",
      "<unknown>:13: SyntaxWarning: invalid decimal literal\n",
      "<unknown>:13: SyntaxWarning: invalid decimal literal\n",
      "<unknown>:13: SyntaxWarning: invalid decimal literal\n",
      "<unknown>:13: SyntaxWarning: invalid decimal literal\n",
      "<unknown>:13: SyntaxWarning: invalid decimal literal\n",
      "<unknown>:13: SyntaxWarning: invalid decimal literal\n",
      "<unknown>:13: SyntaxWarning: invalid decimal literal\n",
      "<unknown>:13: SyntaxWarning: invalid decimal literal\n",
      "<unknown>:13: SyntaxWarning: invalid decimal literal\n",
      "<unknown>:13: SyntaxWarning: invalid decimal literal\n",
      "<unknown>:13: SyntaxWarning: invalid decimal literal\n",
      "<unknown>:13: SyntaxWarning: invalid decimal literal\n",
      "<unknown>:13: SyntaxWarning: invalid decimal literal\n",
      "<unknown>:13: SyntaxWarning: invalid decimal literal\n",
      "<unknown>:13: SyntaxWarning: invalid decimal literal\n",
      "<unknown>:13: SyntaxWarning: invalid decimal literal\n",
      "<unknown>:13: SyntaxWarning: invalid decimal literal\n",
      "<unknown>:13: SyntaxWarning: invalid decimal literal\n",
      "<unknown>:13: SyntaxWarning: invalid decimal literal\n",
      "<unknown>:13: SyntaxWarning: invalid decimal literal\n",
      "<unknown>:13: SyntaxWarning: invalid decimal literal\n",
      "<unknown>:13: SyntaxWarning: invalid decimal literal\n",
      "<unknown>:13: SyntaxWarning: invalid decimal literal\n",
      "<unknown>:13: SyntaxWarning: invalid decimal literal\n",
      "<unknown>:13: SyntaxWarning: invalid decimal literal\n",
      "<unknown>:13: SyntaxWarning: invalid decimal literal\n",
      "<unknown>:13: SyntaxWarning: invalid decimal literal\n",
      "<unknown>:13: SyntaxWarning: invalid decimal literal\n",
      "<unknown>:13: SyntaxWarning: invalid decimal literal\n",
      "<unknown>:13: SyntaxWarning: invalid decimal literal\n",
      "<unknown>:13: SyntaxWarning: invalid decimal literal\n",
      "<unknown>:13: SyntaxWarning: invalid decimal literal\n",
      "<unknown>:13: SyntaxWarning: invalid decimal literal\n",
      "<unknown>:13: SyntaxWarning: invalid decimal literal\n",
      "<unknown>:13: SyntaxWarning: invalid decimal literal\n",
      "<unknown>:13: SyntaxWarning: invalid decimal literal\n",
      "<unknown>:13: SyntaxWarning: invalid decimal literal\n",
      "<unknown>:13: SyntaxWarning: invalid decimal literal\n",
      "<unknown>:13: SyntaxWarning: invalid decimal literal\n",
      "<unknown>:13: SyntaxWarning: invalid decimal literal\n",
      "<unknown>:13: SyntaxWarning: invalid decimal literal\n",
      "<unknown>:13: SyntaxWarning: invalid decimal literal\n",
      "100%|██████████| 51/51 [01:54<00:00,  2.25s/it]\n"
     ]
    },
    {
     "data": {
      "text/plain": "                              kernel_id  snap_num  cell_count  objects_mean  \\\n0  0033f76c-6179-4fb4-a9ce-79112a52b51c         0           1      1.000000   \n1  0033f76c-6179-4fb4-a9ce-79112a52b51c         1           1      1.000000   \n2  0033f76c-6179-4fb4-a9ce-79112a52b51c         2          11      0.909091   \n3  0033f76c-6179-4fb4-a9ce-79112a52b51c         3          11      0.909091   \n4  0033f76c-6179-4fb4-a9ce-79112a52b51c         4          11      0.909091   \n\n   objects_sum  sloc_mean  sloc_sum  ccn_mean  ccn_sum             event  \\\n0          1.0   2.000000       2.0       1.0      1.0           execute   \n1          1.0   2.000000       2.0       1.0      1.0  finished_execute   \n2         10.0   2.636364      29.0       1.0     11.0     save_notebook   \n3         10.0   2.636364      29.0       1.0     11.0           execute   \n4         10.0   2.636364      29.0       1.0     11.0  finished_execute   \n\n   cell_num                        cell_index  \\\n0       0.0  e139884774504ae997d7e38e6be6da88   \n1       0.0  e139884774504ae997d7e38e6be6da88   \n2       NaN                              None   \n3       1.0  a47800e62cbe40c1ad4003b2879f5f03   \n4       2.0  a47800e62cbe40c1ad4003b2879f5f03   \n\n                                         cell_source  \n0  # # Do not forget to check if your notebook lo...  \n1  # # Do not forget to check if your notebook lo...  \n2  [\\n  {\\n    \"id\": \"e139884774504ae997d7e38e6be...  \n3                              !pip install pandas\\n  \n4                              !pip install pandas\\n  ",
      "text/html": "<div>\n<style scoped>\n    .dataframe tbody tr th:only-of-type {\n        vertical-align: middle;\n    }\n\n    .dataframe tbody tr th {\n        vertical-align: top;\n    }\n\n    .dataframe thead th {\n        text-align: right;\n    }\n</style>\n<table border=\"1\" class=\"dataframe\">\n  <thead>\n    <tr style=\"text-align: right;\">\n      <th></th>\n      <th>kernel_id</th>\n      <th>snap_num</th>\n      <th>cell_count</th>\n      <th>objects_mean</th>\n      <th>objects_sum</th>\n      <th>sloc_mean</th>\n      <th>sloc_sum</th>\n      <th>ccn_mean</th>\n      <th>ccn_sum</th>\n      <th>event</th>\n      <th>cell_num</th>\n      <th>cell_index</th>\n      <th>cell_source</th>\n    </tr>\n  </thead>\n  <tbody>\n    <tr>\n      <th>0</th>\n      <td>0033f76c-6179-4fb4-a9ce-79112a52b51c</td>\n      <td>0</td>\n      <td>1</td>\n      <td>1.000000</td>\n      <td>1.0</td>\n      <td>2.000000</td>\n      <td>2.0</td>\n      <td>1.0</td>\n      <td>1.0</td>\n      <td>execute</td>\n      <td>0.0</td>\n      <td>e139884774504ae997d7e38e6be6da88</td>\n      <td># # Do not forget to check if your notebook lo...</td>\n    </tr>\n    <tr>\n      <th>1</th>\n      <td>0033f76c-6179-4fb4-a9ce-79112a52b51c</td>\n      <td>1</td>\n      <td>1</td>\n      <td>1.000000</td>\n      <td>1.0</td>\n      <td>2.000000</td>\n      <td>2.0</td>\n      <td>1.0</td>\n      <td>1.0</td>\n      <td>finished_execute</td>\n      <td>0.0</td>\n      <td>e139884774504ae997d7e38e6be6da88</td>\n      <td># # Do not forget to check if your notebook lo...</td>\n    </tr>\n    <tr>\n      <th>2</th>\n      <td>0033f76c-6179-4fb4-a9ce-79112a52b51c</td>\n      <td>2</td>\n      <td>11</td>\n      <td>0.909091</td>\n      <td>10.0</td>\n      <td>2.636364</td>\n      <td>29.0</td>\n      <td>1.0</td>\n      <td>11.0</td>\n      <td>save_notebook</td>\n      <td>NaN</td>\n      <td>None</td>\n      <td>[\\n  {\\n    \"id\": \"e139884774504ae997d7e38e6be...</td>\n    </tr>\n    <tr>\n      <th>3</th>\n      <td>0033f76c-6179-4fb4-a9ce-79112a52b51c</td>\n      <td>3</td>\n      <td>11</td>\n      <td>0.909091</td>\n      <td>10.0</td>\n      <td>2.636364</td>\n      <td>29.0</td>\n      <td>1.0</td>\n      <td>11.0</td>\n      <td>execute</td>\n      <td>1.0</td>\n      <td>a47800e62cbe40c1ad4003b2879f5f03</td>\n      <td>!pip install pandas\\n</td>\n    </tr>\n    <tr>\n      <th>4</th>\n      <td>0033f76c-6179-4fb4-a9ce-79112a52b51c</td>\n      <td>4</td>\n      <td>11</td>\n      <td>0.909091</td>\n      <td>10.0</td>\n      <td>2.636364</td>\n      <td>29.0</td>\n      <td>1.0</td>\n      <td>11.0</td>\n      <td>finished_execute</td>\n      <td>2.0</td>\n      <td>a47800e62cbe40c1ad4003b2879f5f03</td>\n      <td>!pip install pandas\\n</td>\n    </tr>\n  </tbody>\n</table>\n</div>"
     },
     "execution_count": 7,
     "metadata": {},
     "output_type": "execute_result"
    }
   ],
   "source": [
    "notebooks_metrics = processor.calculate_notebook_metrics(df_hack)\n",
    "notebooks_metrics.head()\n"
   ],
   "metadata": {
    "collapsed": false,
    "ExecuteTime": {
     "end_time": "2023-08-02T13:14:19.036497Z",
     "start_time": "2023-08-02T13:12:24.274460Z"
    }
   }
  },
  {
   "cell_type": "markdown",
   "source": [
    "# Transitions between cells"
   ],
   "metadata": {
    "collapsed": false
   }
  },
  {
   "cell_type": "code",
   "execution_count": 8,
   "outputs": [
    {
     "name": "stderr",
     "output_type": "stream",
     "text": [
      "100%|██████████| 3/3 [00:02<00:00,  1.06it/s]\n"
     ]
    },
    {
     "data": {
      "text/plain": "                              kernel_id                     cell_idx_from  \\\n0  5c2e86ab-cd96-4e48-98bc-28ed10fa8aac  e4836a849dea49f1a753df2274fbdbc5   \n1  5c2e86ab-cd96-4e48-98bc-28ed10fa8aac  dbcf462e8f6c4e3a89c0d6d0d083c0b2   \n2  5c2e86ab-cd96-4e48-98bc-28ed10fa8aac  dbcf462e8f6c4e3a89c0d6d0d083c0b2   \n3  5c2e86ab-cd96-4e48-98bc-28ed10fa8aac  dbcf462e8f6c4e3a89c0d6d0d083c0b2   \n4  bc147b33-fa74-4bff-9f48-c88809c5bdcd  35c0b3b694f84140846a21197ea62f68   \n\n   cell_num_from                                   cell_source_from  \\\n0            0.0  # # Do not forget to check if your notebook lo...   \n1            1.0                                     !ls data/task1   \n2            1.0                                                !ls   \n3            1.0                                                !ls   \n4            0.0  from mining_extension import check_logging \\nc...   \n\n                        cell_idx_to  cell_num_to  \\\n0  dbcf462e8f6c4e3a89c0d6d0d083c0b2          1.0   \n1  dbcf462e8f6c4e3a89c0d6d0d083c0b2          1.0   \n2  dbcf462e8f6c4e3a89c0d6d0d083c0b2          1.0   \n3  dbcf462e8f6c4e3a89c0d6d0d083c0b2          1.0   \n4  35c0b3b694f84140846a21197ea62f68          0.0   \n\n                                      cell_source_to  inner_transition  \\\n0                                     !ls data/task1             False   \n1                                                !ls              True   \n2                                                !ls              True   \n3                                         \"checking\"              True   \n4  from mining_extension import check_logging \\nc...              True   \n\n                                             changes  \n0                                                 []  \n1  [Move(target_node=ASTNode(type=expression_stat...  \n2                                                 []  \n3  [Insert(target_node=IN(type=root), node=('modu...  \n4                                                 []  ",
      "text/html": "<div>\n<style scoped>\n    .dataframe tbody tr th:only-of-type {\n        vertical-align: middle;\n    }\n\n    .dataframe tbody tr th {\n        vertical-align: top;\n    }\n\n    .dataframe thead th {\n        text-align: right;\n    }\n</style>\n<table border=\"1\" class=\"dataframe\">\n  <thead>\n    <tr style=\"text-align: right;\">\n      <th></th>\n      <th>kernel_id</th>\n      <th>cell_idx_from</th>\n      <th>cell_num_from</th>\n      <th>cell_source_from</th>\n      <th>cell_idx_to</th>\n      <th>cell_num_to</th>\n      <th>cell_source_to</th>\n      <th>inner_transition</th>\n      <th>changes</th>\n    </tr>\n  </thead>\n  <tbody>\n    <tr>\n      <th>0</th>\n      <td>5c2e86ab-cd96-4e48-98bc-28ed10fa8aac</td>\n      <td>e4836a849dea49f1a753df2274fbdbc5</td>\n      <td>0.0</td>\n      <td># # Do not forget to check if your notebook lo...</td>\n      <td>dbcf462e8f6c4e3a89c0d6d0d083c0b2</td>\n      <td>1.0</td>\n      <td>!ls data/task1</td>\n      <td>False</td>\n      <td>[]</td>\n    </tr>\n    <tr>\n      <th>1</th>\n      <td>5c2e86ab-cd96-4e48-98bc-28ed10fa8aac</td>\n      <td>dbcf462e8f6c4e3a89c0d6d0d083c0b2</td>\n      <td>1.0</td>\n      <td>!ls data/task1</td>\n      <td>dbcf462e8f6c4e3a89c0d6d0d083c0b2</td>\n      <td>1.0</td>\n      <td>!ls</td>\n      <td>True</td>\n      <td>[Move(target_node=ASTNode(type=expression_stat...</td>\n    </tr>\n    <tr>\n      <th>2</th>\n      <td>5c2e86ab-cd96-4e48-98bc-28ed10fa8aac</td>\n      <td>dbcf462e8f6c4e3a89c0d6d0d083c0b2</td>\n      <td>1.0</td>\n      <td>!ls</td>\n      <td>dbcf462e8f6c4e3a89c0d6d0d083c0b2</td>\n      <td>1.0</td>\n      <td>!ls</td>\n      <td>True</td>\n      <td>[]</td>\n    </tr>\n    <tr>\n      <th>3</th>\n      <td>5c2e86ab-cd96-4e48-98bc-28ed10fa8aac</td>\n      <td>dbcf462e8f6c4e3a89c0d6d0d083c0b2</td>\n      <td>1.0</td>\n      <td>!ls</td>\n      <td>dbcf462e8f6c4e3a89c0d6d0d083c0b2</td>\n      <td>1.0</td>\n      <td>\"checking\"</td>\n      <td>True</td>\n      <td>[Insert(target_node=IN(type=root), node=('modu...</td>\n    </tr>\n    <tr>\n      <th>4</th>\n      <td>bc147b33-fa74-4bff-9f48-c88809c5bdcd</td>\n      <td>35c0b3b694f84140846a21197ea62f68</td>\n      <td>0.0</td>\n      <td>from mining_extension import check_logging \\nc...</td>\n      <td>35c0b3b694f84140846a21197ea62f68</td>\n      <td>0.0</td>\n      <td>from mining_extension import check_logging \\nc...</td>\n      <td>True</td>\n      <td>[]</td>\n    </tr>\n  </tbody>\n</table>\n</div>"
     },
     "execution_count": 8,
     "metadata": {},
     "output_type": "execute_result"
    }
   ],
   "source": [
    "transitions = processor.get_execution_transitions(df_hack[:200])\n",
    "transitions.head()\n"
   ],
   "metadata": {
    "collapsed": false,
    "ExecuteTime": {
     "end_time": "2023-08-02T13:14:27.362125Z",
     "start_time": "2023-08-02T13:14:24.493090Z"
    }
   }
  },
  {
   "cell_type": "code",
   "execution_count": 8,
   "outputs": [],
   "source": [],
   "metadata": {
    "collapsed": false,
    "ExecuteTime": {
     "end_time": "2023-08-02T13:14:28.576877Z",
     "start_time": "2023-08-02T13:14:28.571534Z"
    }
   }
  },
  {
   "cell_type": "markdown",
   "source": [
    "# Complexity evolution"
   ],
   "metadata": {
    "collapsed": false
   }
  },
  {
   "cell_type": "code",
   "execution_count": 25,
   "outputs": [
    {
     "data": {
      "text/plain": "[<matplotlib.lines.Line2D at 0x176843fd0>]"
     },
     "execution_count": 25,
     "metadata": {},
     "output_type": "execute_result"
    },
    {
     "data": {
      "text/plain": "<Figure size 640x480 with 1 Axes>",
      "image/png": "[encoded data removed]"
     },
     "metadata": {},
     "output_type": "display_data"
    }
   ],
   "source": [
    "def continuous_transform(x, y, size: int = 1000, normalize: bool = True) -> tuple[np.ndarray, np.ndarray]:\n",
    "    x_max = 1 if normalize else np.max(x)\n",
    "    xp = np.linspace(0, x_max, size)\n",
    "    x = np.linspace(0, x_max, len(y))\n",
    "    y = np.array(y)\n",
    "\n",
    "    y[np.isnan(y)] = 0\n",
    "    y = np.interp(xp, x, y) + 1e-5\n",
    "    return xp, y\n",
    "\n",
    "\n",
    "fig, ax = plt.subplots()\n",
    "g = notebooks_metrics.groupby('kernel_id').get_group(\"0033f76c-6179-4fb4-a9ce-79112a52b51c\")\n",
    "x, y = continuous_transform(g.snap_num, g.ccn_sum, normalize=False)\n",
    "ax.plot(x, y)\n"
   ],
   "metadata": {
    "collapsed": false,
    "ExecuteTime": {
     "end_time": "2023-08-02T13:22:29.679827Z",
     "start_time": "2023-08-02T13:22:29.621421Z"
    }
   }
  },
  {
   "cell_type": "code",
   "execution_count": 36,
   "outputs": [
    {
     "data": {
      "text/plain": "                                 kernel_id notebook_name\n10    5c2e86ab-cd96-4e48-98bc-28ed10fa8aac   task1.ipynb\n53    eeedb543-cbc3-4e59-8e63-511e29518da4   task1.ipynb\n1622  bc147b33-fa74-4bff-9f48-c88809c5bdcd   task1.ipynb\n2618  29da7c56-5a69-485f-b181-a0a7199a559c   task1.ipynb\n3880  671c08d4-f227-4f23-b0ac-6842c4187641   task1.ipynb",
      "text/html": "<div>\n<style scoped>\n    .dataframe tbody tr th:only-of-type {\n        vertical-align: middle;\n    }\n\n    .dataframe tbody tr th {\n        vertical-align: top;\n    }\n\n    .dataframe thead th {\n        text-align: right;\n    }\n</style>\n<table border=\"1\" class=\"dataframe\">\n  <thead>\n    <tr style=\"text-align: right;\">\n      <th></th>\n      <th>kernel_id</th>\n      <th>notebook_name</th>\n    </tr>\n  </thead>\n  <tbody>\n    <tr>\n      <th>10</th>\n      <td>5c2e86ab-cd96-4e48-98bc-28ed10fa8aac</td>\n      <td>task1.ipynb</td>\n    </tr>\n    <tr>\n      <th>53</th>\n      <td>eeedb543-cbc3-4e59-8e63-511e29518da4</td>\n      <td>task1.ipynb</td>\n    </tr>\n    <tr>\n      <th>1622</th>\n      <td>bc147b33-fa74-4bff-9f48-c88809c5bdcd</td>\n      <td>task1.ipynb</td>\n    </tr>\n    <tr>\n      <th>2618</th>\n      <td>29da7c56-5a69-485f-b181-a0a7199a559c</td>\n      <td>task1.ipynb</td>\n    </tr>\n    <tr>\n      <th>3880</th>\n      <td>671c08d4-f227-4f23-b0ac-6842c4187641</td>\n      <td>task1.ipynb</td>\n    </tr>\n  </tbody>\n</table>\n</div>"
     },
     "execution_count": 36,
     "metadata": {},
     "output_type": "execute_result"
    }
   ],
   "source": [
    "kernel_notebook_name_mapping = df_hack[['kernel_id', 'notebook_name']].drop_duplicates(subset='kernel_id', keep='last')\n",
    "kernel_notebook_name_mapping.head()\n"
   ],
   "metadata": {
    "collapsed": false,
    "ExecuteTime": {
     "end_time": "2023-08-02T13:27:23.683113Z",
     "start_time": "2023-08-02T13:27:23.653331Z"
    }
   }
  },
  {
   "cell_type": "code",
   "execution_count": 42,
   "outputs": [
    {
     "data": {
      "text/plain": "                              kernel_id  snap_num  cell_count  objects_mean  \\\n0  0033f76c-6179-4fb4-a9ce-79112a52b51c         0           1      1.000000   \n1  0033f76c-6179-4fb4-a9ce-79112a52b51c         1           1      1.000000   \n2  0033f76c-6179-4fb4-a9ce-79112a52b51c         2          11      0.909091   \n3  0033f76c-6179-4fb4-a9ce-79112a52b51c         3          11      0.909091   \n4  0033f76c-6179-4fb4-a9ce-79112a52b51c         4          11      0.909091   \n\n   objects_sum  sloc_mean  sloc_sum  ccn_mean  ccn_sum             event  \\\n0          1.0   2.000000       2.0       1.0      1.0           execute   \n1          1.0   2.000000       2.0       1.0      1.0  finished_execute   \n2         10.0   2.636364      29.0       1.0     11.0     save_notebook   \n3         10.0   2.636364      29.0       1.0     11.0           execute   \n4         10.0   2.636364      29.0       1.0     11.0  finished_execute   \n\n   cell_num                        cell_index  \\\n0       0.0  e139884774504ae997d7e38e6be6da88   \n1       0.0  e139884774504ae997d7e38e6be6da88   \n2       NaN                              None   \n3       1.0  a47800e62cbe40c1ad4003b2879f5f03   \n4       2.0  a47800e62cbe40c1ad4003b2879f5f03   \n\n                                         cell_source notebook_name    task  \n0  # # Do not forget to check if your notebook lo...   task1.ipynb  Task_1  \n1  # # Do not forget to check if your notebook lo...   task1.ipynb  Task_1  \n2  [\\n  {\\n    \"id\": \"e139884774504ae997d7e38e6be...   task1.ipynb  Task_1  \n3                              !pip install pandas\\n   task1.ipynb  Task_1  \n4                              !pip install pandas\\n   task1.ipynb  Task_1  ",
      "text/html": "<div>\n<style scoped>\n    .dataframe tbody tr th:only-of-type {\n        vertical-align: middle;\n    }\n\n    .dataframe tbody tr th {\n        vertical-align: top;\n    }\n\n    .dataframe thead th {\n        text-align: right;\n    }\n</style>\n<table border=\"1\" class=\"dataframe\">\n  <thead>\n    <tr style=\"text-align: right;\">\n      <th></th>\n      <th>kernel_id</th>\n      <th>snap_num</th>\n      <th>cell_count</th>\n      <th>objects_mean</th>\n      <th>objects_sum</th>\n      <th>sloc_mean</th>\n      <th>sloc_sum</th>\n      <th>ccn_mean</th>\n      <th>ccn_sum</th>\n      <th>event</th>\n      <th>cell_num</th>\n      <th>cell_index</th>\n      <th>cell_source</th>\n      <th>notebook_name</th>\n      <th>task</th>\n    </tr>\n  </thead>\n  <tbody>\n    <tr>\n      <th>0</th>\n      <td>0033f76c-6179-4fb4-a9ce-79112a52b51c</td>\n      <td>0</td>\n      <td>1</td>\n      <td>1.000000</td>\n      <td>1.0</td>\n      <td>2.000000</td>\n      <td>2.0</td>\n      <td>1.0</td>\n      <td>1.0</td>\n      <td>execute</td>\n      <td>0.0</td>\n      <td>e139884774504ae997d7e38e6be6da88</td>\n      <td># # Do not forget to check if your notebook lo...</td>\n      <td>task1.ipynb</td>\n      <td>Task_1</td>\n    </tr>\n    <tr>\n      <th>1</th>\n      <td>0033f76c-6179-4fb4-a9ce-79112a52b51c</td>\n      <td>1</td>\n      <td>1</td>\n      <td>1.000000</td>\n      <td>1.0</td>\n      <td>2.000000</td>\n      <td>2.0</td>\n      <td>1.0</td>\n      <td>1.0</td>\n      <td>finished_execute</td>\n      <td>0.0</td>\n      <td>e139884774504ae997d7e38e6be6da88</td>\n      <td># # Do not forget to check if your notebook lo...</td>\n      <td>task1.ipynb</td>\n      <td>Task_1</td>\n    </tr>\n    <tr>\n      <th>2</th>\n      <td>0033f76c-6179-4fb4-a9ce-79112a52b51c</td>\n      <td>2</td>\n      <td>11</td>\n      <td>0.909091</td>\n      <td>10.0</td>\n      <td>2.636364</td>\n      <td>29.0</td>\n      <td>1.0</td>\n      <td>11.0</td>\n      <td>save_notebook</td>\n      <td>NaN</td>\n      <td>None</td>\n      <td>[\\n  {\\n    \"id\": \"e139884774504ae997d7e38e6be...</td>\n      <td>task1.ipynb</td>\n      <td>Task_1</td>\n    </tr>\n    <tr>\n      <th>3</th>\n      <td>0033f76c-6179-4fb4-a9ce-79112a52b51c</td>\n      <td>3</td>\n      <td>11</td>\n      <td>0.909091</td>\n      <td>10.0</td>\n      <td>2.636364</td>\n      <td>29.0</td>\n      <td>1.0</td>\n      <td>11.0</td>\n      <td>execute</td>\n      <td>1.0</td>\n      <td>a47800e62cbe40c1ad4003b2879f5f03</td>\n      <td>!pip install pandas\\n</td>\n      <td>task1.ipynb</td>\n      <td>Task_1</td>\n    </tr>\n    <tr>\n      <th>4</th>\n      <td>0033f76c-6179-4fb4-a9ce-79112a52b51c</td>\n      <td>4</td>\n      <td>11</td>\n      <td>0.909091</td>\n      <td>10.0</td>\n      <td>2.636364</td>\n      <td>29.0</td>\n      <td>1.0</td>\n      <td>11.0</td>\n      <td>finished_execute</td>\n      <td>2.0</td>\n      <td>a47800e62cbe40c1ad4003b2879f5f03</td>\n      <td>!pip install pandas\\n</td>\n      <td>task1.ipynb</td>\n      <td>Task_1</td>\n    </tr>\n  </tbody>\n</table>\n</div>"
     },
     "execution_count": 42,
     "metadata": {},
     "output_type": "execute_result"
    }
   ],
   "source": [
    "notebook_metrics_with_names = pd.merge(notebooks_metrics, kernel_notebook_name_mapping, on='kernel_id')\n",
    "notebook_metrics_with_names['task'] = notebook_metrics_with_names.notebook_name.apply(lambda name: 'Task_2' if 'task2' in name else 'Task_1')\n",
    "notebook_metrics_with_names.head()\n"
   ],
   "metadata": {
    "collapsed": false,
    "ExecuteTime": {
     "end_time": "2023-08-02T13:30:47.420877Z",
     "start_time": "2023-08-02T13:30:47.384619Z"
    }
   }
  },
  {
   "cell_type": "code",
   "execution_count": 81,
   "outputs": [
    {
     "data": {
      "text/plain": "<Figure size 800x300 with 2 Axes>",
      "image/png": "[encoded data removed]"
     },
     "metadata": {},
     "output_type": "display_data"
    }
   ],
   "source": [
    "_, (ax1, ax2) = plt.subplots(1, 2, figsize=(8, 3))\n",
    "metric_name = 'sloc_sum'\n",
    "task_ax_mapping = {'Task_1': ax1, 'Task_2': ax2}\n",
    "mean_curve = {'Task_1': [], 'Task_2': []}\n",
    "\n",
    "size_threshold = 200\n",
    "mn, mx = np.inf, -np.inf\n",
    "for (task, kernel_id), g in notebook_metrics_with_names.groupby(['task', 'kernel_id']):\n",
    "    if g.shape[0] < size_threshold:\n",
    "        continue\n",
    "\n",
    "    x, y = continuous_transform(g.snap_num, g[metric_name], normalize=True)\n",
    "    mean_curve[task].append(y)\n",
    "\n",
    "    mn = y.min() if y.min() < mn else mn\n",
    "    mx = y.max() if y.max() > mx else mx\n",
    "\n",
    "    task_ax_mapping[task].plot(x, y, color='k', alpha=0.2)\n",
    "\n",
    "for task, curves in mean_curve.items():\n",
    "    y = np.sum(curves, axis=0) / len(curves)\n",
    "    x = np.linspace(0, 1, len(y))\n",
    "\n",
    "    task_ax_mapping[task].axhline(y[-1], color='k', ls=(0, (5, 5)))\n",
    "    task_ax_mapping[task].plot(x, y, color='r', lw=3)\n",
    "\n",
    "for task, ax in task_ax_mapping.items():\n",
    "    ax.set_ylim(mn*0.9, mx*1.1)\n",
    "    ax.set_xlabel('Normalized Snapshot Number')\n",
    "    ax.set_ylabel(metric_name)\n",
    "    ax.set_title(task)\n",
    "\n"
   ],
   "metadata": {
    "collapsed": false,
    "ExecuteTime": {
     "end_time": "2023-08-02T13:46:03.657314Z",
     "start_time": "2023-08-02T13:46:03.497731Z"
    }
   }
  },
  {
   "cell_type": "code",
   "execution_count": 58,
   "outputs": [],
   "source": [],
   "metadata": {
    "collapsed": false,
    "ExecuteTime": {
     "end_time": "2023-08-02T13:35:51.407021Z",
     "start_time": "2023-08-02T13:35:51.402438Z"
    }
   }
  },
  {
   "cell_type": "code",
   "execution_count": 70,
   "outputs": [],
   "source": [],
   "metadata": {
    "collapsed": false,
    "ExecuteTime": {
     "end_time": "2023-08-02T13:41:53.447273Z",
     "start_time": "2023-08-02T13:41:53.440946Z"
    }
   }
  },
  {
   "cell_type": "code",
   "execution_count": 44,
   "outputs": [],
   "source": [],
   "metadata": {
    "collapsed": false,
    "ExecuteTime": {
     "end_time": "2023-07-17T11:08:49.587342Z",
     "start_time": "2023-07-17T11:08:49.584704Z"
    }
   }
  },
  {
   "cell_type": "markdown",
   "source": [],
   "metadata": {
    "collapsed": false
   }
  },
  {
   "cell_type": "code",
   "execution_count": 12,
   "outputs": [
    {
     "name": "stdout",
     "output_type": "stream",
     "text": [
      "Module(\n",
      "    body=[\n",
      "        Assign(\n",
      "            targets=[\n",
      "                Tuple(\n",
      "                    elts=[\n",
      "                        Name(id='a', ctx=Store()),\n",
      "                        Starred(\n",
      "                            value=Name(id='b', ctx=Store()),\n",
      "                            ctx=Store())],\n",
      "                    ctx=Store())],\n",
      "            value=Name(id='it', ctx=Load()))],\n",
      "    type_ignores=[])\n"
     ]
    }
   ],
   "source": [
    "print(ast.dump(ast.parse('a, *b = it'), indent=4))"
   ],
   "metadata": {
    "collapsed": false,
    "ExecuteTime": {
     "end_time": "2023-08-08T15:03:26.482157Z",
     "start_time": "2023-08-08T15:03:26.452683Z"
    }
   }
  },
  {
   "cell_type": "code",
   "execution_count": 13,
   "outputs": [
    {
     "name": "stdout",
     "output_type": "stream",
     "text": [
      "Module(\n",
      "    body=[\n",
      "        FunctionDef(\n",
      "            name='foo',\n",
      "            args=arguments(\n",
      "                posonlyargs=[],\n",
      "                args=[],\n",
      "                kwonlyargs=[],\n",
      "                kw_defaults=[],\n",
      "                defaults=[]),\n",
      "            body=[\n",
      "                Pass()],\n",
      "            decorator_list=[])],\n",
      "    type_ignores=[])\n"
     ]
    }
   ],
   "source": [
    "import ast\n",
    "print(ast.dump(ast.parse('def foo(): pass'), indent=4))"
   ],
   "metadata": {
    "collapsed": false,
    "ExecuteTime": {
     "end_time": "2023-08-08T15:05:15.612594Z",
     "start_time": "2023-08-08T15:05:15.578261Z"
    }
   }
  },
  {
   "cell_type": "code",
   "execution_count": null,
   "outputs": [],
   "source": [],
   "metadata": {
    "collapsed": false
   }
  }
 ],
 "metadata": {
  "kernelspec": {
   "display_name": "Python 3",
   "language": "python",
   "name": "python3"
  },
  "language_info": {
   "codemirror_mode": {
    "name": "ipython",
    "version": 2
   },
   "file_extension": ".py",
   "mimetype": "text/x-python",
   "name": "python",
   "nbconvert_exporter": "python",
   "pygments_lexer": "ipython2",
   "version": "2.7.6"
  }
 },
 "nbformat": 4,
 "nbformat_minor": 0
}
