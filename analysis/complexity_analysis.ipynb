{
 "cells": [
  {
   "cell_type": "markdown",
   "source": [
    "# Packages Loading"
   ],
   "metadata": {
    "collapsed": false
   }
  },
  {
   "cell_type": "code",
   "execution_count": 31,
   "outputs": [
    {
     "name": "stdout",
     "output_type": "stream",
     "text": [
      "The autoreload extension is already loaded. To reload it, use:\n",
      "  %reload_ext autoreload\n"
     ]
    }
   ],
   "source": [
    "%load_ext autoreload\n",
    "%autoreload 2\n",
    "\n",
    "from pathlib import Path\n",
    "\n",
    "import matplotlib.pyplot as plt\n",
    "import numpy as np\n",
    "from tqdm import tqdm\n",
    "import pandas as pd\n",
    "\n",
    "from data_loading import read_hackathon_data\n",
    "from data_preprocessing import MetricsProcessor\n"
   ],
   "metadata": {
    "collapsed": false,
    "ExecuteTime": {
     "end_time": "2023-07-17T11:00:04.665330Z",
     "start_time": "2023-07-17T11:00:04.609303Z"
    }
   }
  },
  {
   "cell_type": "markdown",
   "source": [
    "# Read Data"
   ],
   "metadata": {
    "collapsed": false
   }
  },
  {
   "cell_type": "code",
   "execution_count": 32,
   "outputs": [
    {
     "data": {
      "text/plain": "   id    ip_address                      time  \\\n0  10          None  2023-05-06T08:30:38.037Z   \n1  17  192.168.1.56  2023-05-06T08:31:35.929Z   \n2  18  192.168.1.56  2023-05-06T08:31:35.944Z   \n3  19  192.168.1.56  2023-05-06T08:31:36.049Z   \n4  41  192.168.1.56  2023-05-06T08:37:46.346Z   \n\n                             session_id                             kernel_id  \\\n0  a7b38785-5e80-4d1b-9722-6673e4c78877  5c2e86ab-cd96-4e48-98bc-28ed10fa8aac   \n1  a7b38785-5e80-4d1b-9722-6673e4c78877  5c2e86ab-cd96-4e48-98bc-28ed10fa8aac   \n2  a7b38785-5e80-4d1b-9722-6673e4c78877  5c2e86ab-cd96-4e48-98bc-28ed10fa8aac   \n3  a7b38785-5e80-4d1b-9722-6673e4c78877  5c2e86ab-cd96-4e48-98bc-28ed10fa8aac   \n4  a7b38785-5e80-4d1b-9722-6673e4c78877  5c2e86ab-cd96-4e48-98bc-28ed10fa8aac   \n\n  notebook_name             event                        cell_index  cell_num  \\\n0   task1.ipynb     save_notebook                              None       NaN   \n1   task1.ipynb           execute  e4836a849dea49f1a753df2274fbdbc5       0.0   \n2   task1.ipynb            create  dbcf462e8f6c4e3a89c0d6d0d083c0b2       0.0   \n3   task1.ipynb  finished_execute  e4836a849dea49f1a753df2274fbdbc5       1.0   \n4   task1.ipynb           execute  dbcf462e8f6c4e3a89c0d6d0d083c0b2       1.0   \n\n  cell_type                                        cell_source  \\\n0      None  [\\n  {\\n    \"id\": \"e4836a849dea49f1a753df2274f...   \n1      code  # # Do not forget to check if your notebook lo...   \n2      code                                               None   \n3      code  # # Do not forget to check if your notebook lo...   \n4      code                                     !ls data/task1   \n\n                            cell_output  expert  user_id  \n0                                  None   False        4  \n1                                  None   False        4  \n2                                  None   False        4  \n3  [{\"output_type\":\"stream\",\"size\":23}]   False        4  \n4                                  None   False        4  ",
      "text/html": "<div>\n<style scoped>\n    .dataframe tbody tr th:only-of-type {\n        vertical-align: middle;\n    }\n\n    .dataframe tbody tr th {\n        vertical-align: top;\n    }\n\n    .dataframe thead th {\n        text-align: right;\n    }\n</style>\n<table border=\"1\" class=\"dataframe\">\n  <thead>\n    <tr style=\"text-align: right;\">\n      <th></th>\n      <th>id</th>\n      <th>ip_address</th>\n      <th>time</th>\n      <th>session_id</th>\n      <th>kernel_id</th>\n      <th>notebook_name</th>\n      <th>event</th>\n      <th>cell_index</th>\n      <th>cell_num</th>\n      <th>cell_type</th>\n      <th>cell_source</th>\n      <th>cell_output</th>\n      <th>expert</th>\n      <th>user_id</th>\n    </tr>\n  </thead>\n  <tbody>\n    <tr>\n      <th>0</th>\n      <td>10</td>\n      <td>None</td>\n      <td>2023-05-06T08:30:38.037Z</td>\n      <td>a7b38785-5e80-4d1b-9722-6673e4c78877</td>\n      <td>5c2e86ab-cd96-4e48-98bc-28ed10fa8aac</td>\n      <td>task1.ipynb</td>\n      <td>save_notebook</td>\n      <td>None</td>\n      <td>NaN</td>\n      <td>None</td>\n      <td>[\\n  {\\n    \"id\": \"e4836a849dea49f1a753df2274f...</td>\n      <td>None</td>\n      <td>False</td>\n      <td>4</td>\n    </tr>\n    <tr>\n      <th>1</th>\n      <td>17</td>\n      <td>192.168.1.56</td>\n      <td>2023-05-06T08:31:35.929Z</td>\n      <td>a7b38785-5e80-4d1b-9722-6673e4c78877</td>\n      <td>5c2e86ab-cd96-4e48-98bc-28ed10fa8aac</td>\n      <td>task1.ipynb</td>\n      <td>execute</td>\n      <td>e4836a849dea49f1a753df2274fbdbc5</td>\n      <td>0.0</td>\n      <td>code</td>\n      <td># # Do not forget to check if your notebook lo...</td>\n      <td>None</td>\n      <td>False</td>\n      <td>4</td>\n    </tr>\n    <tr>\n      <th>2</th>\n      <td>18</td>\n      <td>192.168.1.56</td>\n      <td>2023-05-06T08:31:35.944Z</td>\n      <td>a7b38785-5e80-4d1b-9722-6673e4c78877</td>\n      <td>5c2e86ab-cd96-4e48-98bc-28ed10fa8aac</td>\n      <td>task1.ipynb</td>\n      <td>create</td>\n      <td>dbcf462e8f6c4e3a89c0d6d0d083c0b2</td>\n      <td>0.0</td>\n      <td>code</td>\n      <td>None</td>\n      <td>None</td>\n      <td>False</td>\n      <td>4</td>\n    </tr>\n    <tr>\n      <th>3</th>\n      <td>19</td>\n      <td>192.168.1.56</td>\n      <td>2023-05-06T08:31:36.049Z</td>\n      <td>a7b38785-5e80-4d1b-9722-6673e4c78877</td>\n      <td>5c2e86ab-cd96-4e48-98bc-28ed10fa8aac</td>\n      <td>task1.ipynb</td>\n      <td>finished_execute</td>\n      <td>e4836a849dea49f1a753df2274fbdbc5</td>\n      <td>1.0</td>\n      <td>code</td>\n      <td># # Do not forget to check if your notebook lo...</td>\n      <td>[{\"output_type\":\"stream\",\"size\":23}]</td>\n      <td>False</td>\n      <td>4</td>\n    </tr>\n    <tr>\n      <th>4</th>\n      <td>41</td>\n      <td>192.168.1.56</td>\n      <td>2023-05-06T08:37:46.346Z</td>\n      <td>a7b38785-5e80-4d1b-9722-6673e4c78877</td>\n      <td>5c2e86ab-cd96-4e48-98bc-28ed10fa8aac</td>\n      <td>task1.ipynb</td>\n      <td>execute</td>\n      <td>dbcf462e8f6c4e3a89c0d6d0d083c0b2</td>\n      <td>1.0</td>\n      <td>code</td>\n      <td>!ls data/task1</td>\n      <td>None</td>\n      <td>False</td>\n      <td>4</td>\n    </tr>\n  </tbody>\n</table>\n</div>"
     },
     "execution_count": 32,
     "metadata": {},
     "output_type": "execute_result"
    }
   ],
   "source": [
    "path = Path(\"data_config.yaml\")\n",
    "df_hack = read_hackathon_data(path, attach_users=True)\n",
    "df_hack.head()\n"
   ],
   "metadata": {
    "collapsed": false,
    "ExecuteTime": {
     "end_time": "2023-07-17T11:00:05.623374Z",
     "start_time": "2023-07-17T11:00:05.542316Z"
    }
   }
  },
  {
   "cell_type": "markdown",
   "source": [
    "# Initialize Metrics Processor"
   ],
   "metadata": {
    "collapsed": false
   }
  },
  {
   "cell_type": "code",
   "execution_count": 33,
   "outputs": [],
   "source": [
    "processor = MetricsProcessor()\n"
   ],
   "metadata": {
    "collapsed": false,
    "ExecuteTime": {
     "end_time": "2023-07-17T11:00:07.061730Z",
     "start_time": "2023-07-17T11:00:07.033077Z"
    }
   }
  },
  {
   "cell_type": "markdown",
   "source": [
    "# Metrics Calculation"
   ],
   "metadata": {
    "collapsed": false
   }
  },
  {
   "cell_type": "code",
   "execution_count": 34,
   "outputs": [
    {
     "name": "stderr",
     "output_type": "stream",
     "text": [
      "100%|██████████| 46/46 [00:02<00:00, 18.76it/s]\n"
     ]
    },
    {
     "data": {
      "text/plain": "                              kernel_id  modularity  average_degree  \\\n0  033a2c63-4cfb-4cc5-9988-59c48a06eb23    0.584378        5.071429   \n1  1d8c1c38-d342-4950-9667-f8b9872d71b7    0.441828       11.157895   \n2  232bcb48-7455-4109-9eeb-809649a6bedc    0.474784       12.985507   \n3  29da7c56-5a69-485f-b181-a0a7199a559c    0.572181        7.943396   \n4  2bc4e2c9-833e-454f-8c6c-2dff1e6e60e9    0.517000        5.037037   \n\n   average_clustering  \n0            0.161154  \n1            0.078947  \n2            0.287237  \n3            0.143793  \n4            0.342387  ",
      "text/html": "<div>\n<style scoped>\n    .dataframe tbody tr th:only-of-type {\n        vertical-align: middle;\n    }\n\n    .dataframe tbody tr th {\n        vertical-align: top;\n    }\n\n    .dataframe thead th {\n        text-align: right;\n    }\n</style>\n<table border=\"1\" class=\"dataframe\">\n  <thead>\n    <tr style=\"text-align: right;\">\n      <th></th>\n      <th>kernel_id</th>\n      <th>modularity</th>\n      <th>average_degree</th>\n      <th>average_clustering</th>\n    </tr>\n  </thead>\n  <tbody>\n    <tr>\n      <th>0</th>\n      <td>033a2c63-4cfb-4cc5-9988-59c48a06eb23</td>\n      <td>0.584378</td>\n      <td>5.071429</td>\n      <td>0.161154</td>\n    </tr>\n    <tr>\n      <th>1</th>\n      <td>1d8c1c38-d342-4950-9667-f8b9872d71b7</td>\n      <td>0.441828</td>\n      <td>11.157895</td>\n      <td>0.078947</td>\n    </tr>\n    <tr>\n      <th>2</th>\n      <td>232bcb48-7455-4109-9eeb-809649a6bedc</td>\n      <td>0.474784</td>\n      <td>12.985507</td>\n      <td>0.287237</td>\n    </tr>\n    <tr>\n      <th>3</th>\n      <td>29da7c56-5a69-485f-b181-a0a7199a559c</td>\n      <td>0.572181</td>\n      <td>7.943396</td>\n      <td>0.143793</td>\n    </tr>\n    <tr>\n      <th>4</th>\n      <td>2bc4e2c9-833e-454f-8c6c-2dff1e6e60e9</td>\n      <td>0.517000</td>\n      <td>5.037037</td>\n      <td>0.342387</td>\n    </tr>\n  </tbody>\n</table>\n</div>"
     },
     "execution_count": 34,
     "metadata": {},
     "output_type": "execute_result"
    }
   ],
   "source": [
    "graph_metrics = processor.calculate_graph_metrics(df_hack)\n",
    "graph_metrics.head()\n"
   ],
   "metadata": {
    "collapsed": false,
    "ExecuteTime": {
     "end_time": "2023-07-17T11:00:11.547947Z",
     "start_time": "2023-07-17T11:00:09.009540Z"
    }
   }
  },
  {
   "cell_type": "code",
   "execution_count": 35,
   "outputs": [
    {
     "data": {
      "text/plain": "   id    ip_address                      time  \\\n0  10          None  2023-05-06T08:30:38.037Z   \n1  17  192.168.1.56  2023-05-06T08:31:35.929Z   \n2  18  192.168.1.56  2023-05-06T08:31:35.944Z   \n3  19  192.168.1.56  2023-05-06T08:31:36.049Z   \n4  41  192.168.1.56  2023-05-06T08:37:46.346Z   \n\n                             session_id                             kernel_id  \\\n0  a7b38785-5e80-4d1b-9722-6673e4c78877  5c2e86ab-cd96-4e48-98bc-28ed10fa8aac   \n1  a7b38785-5e80-4d1b-9722-6673e4c78877  5c2e86ab-cd96-4e48-98bc-28ed10fa8aac   \n2  a7b38785-5e80-4d1b-9722-6673e4c78877  5c2e86ab-cd96-4e48-98bc-28ed10fa8aac   \n3  a7b38785-5e80-4d1b-9722-6673e4c78877  5c2e86ab-cd96-4e48-98bc-28ed10fa8aac   \n4  a7b38785-5e80-4d1b-9722-6673e4c78877  5c2e86ab-cd96-4e48-98bc-28ed10fa8aac   \n\n  notebook_name             event                        cell_index  cell_num  \\\n0   task1.ipynb     save_notebook                              None       NaN   \n1   task1.ipynb           execute  e4836a849dea49f1a753df2274fbdbc5       0.0   \n2   task1.ipynb            create  dbcf462e8f6c4e3a89c0d6d0d083c0b2       0.0   \n3   task1.ipynb  finished_execute  e4836a849dea49f1a753df2274fbdbc5       1.0   \n4   task1.ipynb           execute  dbcf462e8f6c4e3a89c0d6d0d083c0b2       1.0   \n\n  cell_type                                        cell_source  \\\n0      None  [\\n  {\\n    \"id\": \"e4836a849dea49f1a753df2274f...   \n1      code  # # Do not forget to check if your notebook lo...   \n2      code                                               None   \n3      code  # # Do not forget to check if your notebook lo...   \n4      code                                     !ls data/task1   \n\n                            cell_output  expert  user_id  objects  sloc  ccn  \n0                                  None   False        4      NaN   NaN  NaN  \n1                                  None   False        4      1.0   2.0  1.0  \n2                                  None   False        4      NaN   NaN  NaN  \n3  [{\"output_type\":\"stream\",\"size\":23}]   False        4      NaN   NaN  NaN  \n4                                  None   False        4      0.0   1.0  1.0  ",
      "text/html": "<div>\n<style scoped>\n    .dataframe tbody tr th:only-of-type {\n        vertical-align: middle;\n    }\n\n    .dataframe tbody tr th {\n        vertical-align: top;\n    }\n\n    .dataframe thead th {\n        text-align: right;\n    }\n</style>\n<table border=\"1\" class=\"dataframe\">\n  <thead>\n    <tr style=\"text-align: right;\">\n      <th></th>\n      <th>id</th>\n      <th>ip_address</th>\n      <th>time</th>\n      <th>session_id</th>\n      <th>kernel_id</th>\n      <th>notebook_name</th>\n      <th>event</th>\n      <th>cell_index</th>\n      <th>cell_num</th>\n      <th>cell_type</th>\n      <th>cell_source</th>\n      <th>cell_output</th>\n      <th>expert</th>\n      <th>user_id</th>\n      <th>objects</th>\n      <th>sloc</th>\n      <th>ccn</th>\n    </tr>\n  </thead>\n  <tbody>\n    <tr>\n      <th>0</th>\n      <td>10</td>\n      <td>None</td>\n      <td>2023-05-06T08:30:38.037Z</td>\n      <td>a7b38785-5e80-4d1b-9722-6673e4c78877</td>\n      <td>5c2e86ab-cd96-4e48-98bc-28ed10fa8aac</td>\n      <td>task1.ipynb</td>\n      <td>save_notebook</td>\n      <td>None</td>\n      <td>NaN</td>\n      <td>None</td>\n      <td>[\\n  {\\n    \"id\": \"e4836a849dea49f1a753df2274f...</td>\n      <td>None</td>\n      <td>False</td>\n      <td>4</td>\n      <td>NaN</td>\n      <td>NaN</td>\n      <td>NaN</td>\n    </tr>\n    <tr>\n      <th>1</th>\n      <td>17</td>\n      <td>192.168.1.56</td>\n      <td>2023-05-06T08:31:35.929Z</td>\n      <td>a7b38785-5e80-4d1b-9722-6673e4c78877</td>\n      <td>5c2e86ab-cd96-4e48-98bc-28ed10fa8aac</td>\n      <td>task1.ipynb</td>\n      <td>execute</td>\n      <td>e4836a849dea49f1a753df2274fbdbc5</td>\n      <td>0.0</td>\n      <td>code</td>\n      <td># # Do not forget to check if your notebook lo...</td>\n      <td>None</td>\n      <td>False</td>\n      <td>4</td>\n      <td>1.0</td>\n      <td>2.0</td>\n      <td>1.0</td>\n    </tr>\n    <tr>\n      <th>2</th>\n      <td>18</td>\n      <td>192.168.1.56</td>\n      <td>2023-05-06T08:31:35.944Z</td>\n      <td>a7b38785-5e80-4d1b-9722-6673e4c78877</td>\n      <td>5c2e86ab-cd96-4e48-98bc-28ed10fa8aac</td>\n      <td>task1.ipynb</td>\n      <td>create</td>\n      <td>dbcf462e8f6c4e3a89c0d6d0d083c0b2</td>\n      <td>0.0</td>\n      <td>code</td>\n      <td>None</td>\n      <td>None</td>\n      <td>False</td>\n      <td>4</td>\n      <td>NaN</td>\n      <td>NaN</td>\n      <td>NaN</td>\n    </tr>\n    <tr>\n      <th>3</th>\n      <td>19</td>\n      <td>192.168.1.56</td>\n      <td>2023-05-06T08:31:36.049Z</td>\n      <td>a7b38785-5e80-4d1b-9722-6673e4c78877</td>\n      <td>5c2e86ab-cd96-4e48-98bc-28ed10fa8aac</td>\n      <td>task1.ipynb</td>\n      <td>finished_execute</td>\n      <td>e4836a849dea49f1a753df2274fbdbc5</td>\n      <td>1.0</td>\n      <td>code</td>\n      <td># # Do not forget to check if your notebook lo...</td>\n      <td>[{\"output_type\":\"stream\",\"size\":23}]</td>\n      <td>False</td>\n      <td>4</td>\n      <td>NaN</td>\n      <td>NaN</td>\n      <td>NaN</td>\n    </tr>\n    <tr>\n      <th>4</th>\n      <td>41</td>\n      <td>192.168.1.56</td>\n      <td>2023-05-06T08:37:46.346Z</td>\n      <td>a7b38785-5e80-4d1b-9722-6673e4c78877</td>\n      <td>5c2e86ab-cd96-4e48-98bc-28ed10fa8aac</td>\n      <td>task1.ipynb</td>\n      <td>execute</td>\n      <td>dbcf462e8f6c4e3a89c0d6d0d083c0b2</td>\n      <td>1.0</td>\n      <td>code</td>\n      <td>!ls data/task1</td>\n      <td>None</td>\n      <td>False</td>\n      <td>4</td>\n      <td>0.0</td>\n      <td>1.0</td>\n      <td>1.0</td>\n    </tr>\n  </tbody>\n</table>\n</div>"
     },
     "execution_count": 35,
     "metadata": {},
     "output_type": "execute_result"
    }
   ],
   "source": [
    "cells_metrics = processor.calculate_cell_metrics(df_hack)\n",
    "cells_metrics.head()\n"
   ],
   "metadata": {
    "collapsed": false,
    "ExecuteTime": {
     "end_time": "2023-07-17T11:00:14.002084Z",
     "start_time": "2023-07-17T11:00:11.979870Z"
    }
   }
  },
  {
   "cell_type": "code",
   "execution_count": 38,
   "outputs": [
    {
     "data": {
      "text/plain": "                              kernel_id  snap_num  cell_count  objects_mean  \\\n0  0033f76c-6179-4fb4-a9ce-79112a52b51c         0           1      1.000000   \n1  0033f76c-6179-4fb4-a9ce-79112a52b51c         1           1      1.000000   \n2  0033f76c-6179-4fb4-a9ce-79112a52b51c         2          11      0.909091   \n3  0033f76c-6179-4fb4-a9ce-79112a52b51c         3          11      0.909091   \n4  0033f76c-6179-4fb4-a9ce-79112a52b51c         4          11      0.909091   \n\n   objects_sum  sloc_mean  sloc_sum  ccn_mean  ccn_sum             event  \n0          1.0   2.000000       2.0       1.0      1.0           execute  \n1          1.0   2.000000       2.0       1.0      1.0  finished_execute  \n2         10.0   2.636364      29.0       1.0     11.0     save_notebook  \n3         10.0   2.636364      29.0       1.0     11.0           execute  \n4         10.0   2.636364      29.0       1.0     11.0  finished_execute  ",
      "text/html": "<div>\n<style scoped>\n    .dataframe tbody tr th:only-of-type {\n        vertical-align: middle;\n    }\n\n    .dataframe tbody tr th {\n        vertical-align: top;\n    }\n\n    .dataframe thead th {\n        text-align: right;\n    }\n</style>\n<table border=\"1\" class=\"dataframe\">\n  <thead>\n    <tr style=\"text-align: right;\">\n      <th></th>\n      <th>kernel_id</th>\n      <th>snap_num</th>\n      <th>cell_count</th>\n      <th>objects_mean</th>\n      <th>objects_sum</th>\n      <th>sloc_mean</th>\n      <th>sloc_sum</th>\n      <th>ccn_mean</th>\n      <th>ccn_sum</th>\n      <th>event</th>\n    </tr>\n  </thead>\n  <tbody>\n    <tr>\n      <th>0</th>\n      <td>0033f76c-6179-4fb4-a9ce-79112a52b51c</td>\n      <td>0</td>\n      <td>1</td>\n      <td>1.000000</td>\n      <td>1.0</td>\n      <td>2.000000</td>\n      <td>2.0</td>\n      <td>1.0</td>\n      <td>1.0</td>\n      <td>execute</td>\n    </tr>\n    <tr>\n      <th>1</th>\n      <td>0033f76c-6179-4fb4-a9ce-79112a52b51c</td>\n      <td>1</td>\n      <td>1</td>\n      <td>1.000000</td>\n      <td>1.0</td>\n      <td>2.000000</td>\n      <td>2.0</td>\n      <td>1.0</td>\n      <td>1.0</td>\n      <td>finished_execute</td>\n    </tr>\n    <tr>\n      <th>2</th>\n      <td>0033f76c-6179-4fb4-a9ce-79112a52b51c</td>\n      <td>2</td>\n      <td>11</td>\n      <td>0.909091</td>\n      <td>10.0</td>\n      <td>2.636364</td>\n      <td>29.0</td>\n      <td>1.0</td>\n      <td>11.0</td>\n      <td>save_notebook</td>\n    </tr>\n    <tr>\n      <th>3</th>\n      <td>0033f76c-6179-4fb4-a9ce-79112a52b51c</td>\n      <td>3</td>\n      <td>11</td>\n      <td>0.909091</td>\n      <td>10.0</td>\n      <td>2.636364</td>\n      <td>29.0</td>\n      <td>1.0</td>\n      <td>11.0</td>\n      <td>execute</td>\n    </tr>\n    <tr>\n      <th>4</th>\n      <td>0033f76c-6179-4fb4-a9ce-79112a52b51c</td>\n      <td>4</td>\n      <td>11</td>\n      <td>0.909091</td>\n      <td>10.0</td>\n      <td>2.636364</td>\n      <td>29.0</td>\n      <td>1.0</td>\n      <td>11.0</td>\n      <td>finished_execute</td>\n    </tr>\n  </tbody>\n</table>\n</div>"
     },
     "execution_count": 38,
     "metadata": {},
     "output_type": "execute_result"
    }
   ],
   "source": [
    "notebooks_metrics = processor.calculate_notebook_metrics(df_hack)\n",
    "notebooks_metrics.head()\n"
   ],
   "metadata": {
    "collapsed": false,
    "ExecuteTime": {
     "end_time": "2023-07-17T11:03:31.357293Z",
     "start_time": "2023-07-17T11:03:31.336962Z"
    }
   }
  },
  {
   "cell_type": "markdown",
   "source": [
    "# Transitions between cells"
   ],
   "metadata": {
    "collapsed": false
   }
  },
  {
   "cell_type": "code",
   "execution_count": 48,
   "outputs": [
    {
     "name": "stderr",
     "output_type": "stream",
     "text": [
      "100%|██████████| 3/3 [00:02<00:00,  1.09it/s]\n"
     ]
    },
    {
     "data": {
      "text/plain": "                              kernel_id                     cell_idx_from  \\\n0  5c2e86ab-cd96-4e48-98bc-28ed10fa8aac  e4836a849dea49f1a753df2274fbdbc5   \n1  5c2e86ab-cd96-4e48-98bc-28ed10fa8aac  dbcf462e8f6c4e3a89c0d6d0d083c0b2   \n2  5c2e86ab-cd96-4e48-98bc-28ed10fa8aac  dbcf462e8f6c4e3a89c0d6d0d083c0b2   \n3  5c2e86ab-cd96-4e48-98bc-28ed10fa8aac  dbcf462e8f6c4e3a89c0d6d0d083c0b2   \n4  bc147b33-fa74-4bff-9f48-c88809c5bdcd  35c0b3b694f84140846a21197ea62f68   \n\n   cell_num_from                                   cell_source_from  \\\n0            0.0  # # Do not forget to check if your notebook lo...   \n1            1.0                                     !ls data/task1   \n2            1.0                                                !ls   \n3            1.0                                                !ls   \n4            0.0  from mining_extension import check_logging \\nc...   \n\n                        cell_idx_to  cell_num_to  \\\n0  dbcf462e8f6c4e3a89c0d6d0d083c0b2          1.0   \n1  dbcf462e8f6c4e3a89c0d6d0d083c0b2          1.0   \n2  dbcf462e8f6c4e3a89c0d6d0d083c0b2          1.0   \n3  dbcf462e8f6c4e3a89c0d6d0d083c0b2          1.0   \n4  35c0b3b694f84140846a21197ea62f68          0.0   \n\n                                      cell_source_to  inner_transition  \\\n0                                     !ls data/task1             False   \n1                                                !ls              True   \n2                                                !ls              True   \n3                                         \"checking\"              True   \n4  from mining_extension import check_logging \\nc...              True   \n\n                                             changes  \n0                                                 []  \n1  [Move(target_node=ASTNode(type=expression_stat...  \n2                                                 []  \n3  [Insert(target_node=IN(type=root), node=('modu...  \n4                                                 []  ",
      "text/html": "<div>\n<style scoped>\n    .dataframe tbody tr th:only-of-type {\n        vertical-align: middle;\n    }\n\n    .dataframe tbody tr th {\n        vertical-align: top;\n    }\n\n    .dataframe thead th {\n        text-align: right;\n    }\n</style>\n<table border=\"1\" class=\"dataframe\">\n  <thead>\n    <tr style=\"text-align: right;\">\n      <th></th>\n      <th>kernel_id</th>\n      <th>cell_idx_from</th>\n      <th>cell_num_from</th>\n      <th>cell_source_from</th>\n      <th>cell_idx_to</th>\n      <th>cell_num_to</th>\n      <th>cell_source_to</th>\n      <th>inner_transition</th>\n      <th>changes</th>\n    </tr>\n  </thead>\n  <tbody>\n    <tr>\n      <th>0</th>\n      <td>5c2e86ab-cd96-4e48-98bc-28ed10fa8aac</td>\n      <td>e4836a849dea49f1a753df2274fbdbc5</td>\n      <td>0.0</td>\n      <td># # Do not forget to check if your notebook lo...</td>\n      <td>dbcf462e8f6c4e3a89c0d6d0d083c0b2</td>\n      <td>1.0</td>\n      <td>!ls data/task1</td>\n      <td>False</td>\n      <td>[]</td>\n    </tr>\n    <tr>\n      <th>1</th>\n      <td>5c2e86ab-cd96-4e48-98bc-28ed10fa8aac</td>\n      <td>dbcf462e8f6c4e3a89c0d6d0d083c0b2</td>\n      <td>1.0</td>\n      <td>!ls data/task1</td>\n      <td>dbcf462e8f6c4e3a89c0d6d0d083c0b2</td>\n      <td>1.0</td>\n      <td>!ls</td>\n      <td>True</td>\n      <td>[Move(target_node=ASTNode(type=expression_stat...</td>\n    </tr>\n    <tr>\n      <th>2</th>\n      <td>5c2e86ab-cd96-4e48-98bc-28ed10fa8aac</td>\n      <td>dbcf462e8f6c4e3a89c0d6d0d083c0b2</td>\n      <td>1.0</td>\n      <td>!ls</td>\n      <td>dbcf462e8f6c4e3a89c0d6d0d083c0b2</td>\n      <td>1.0</td>\n      <td>!ls</td>\n      <td>True</td>\n      <td>[]</td>\n    </tr>\n    <tr>\n      <th>3</th>\n      <td>5c2e86ab-cd96-4e48-98bc-28ed10fa8aac</td>\n      <td>dbcf462e8f6c4e3a89c0d6d0d083c0b2</td>\n      <td>1.0</td>\n      <td>!ls</td>\n      <td>dbcf462e8f6c4e3a89c0d6d0d083c0b2</td>\n      <td>1.0</td>\n      <td>\"checking\"</td>\n      <td>True</td>\n      <td>[Insert(target_node=IN(type=root), node=('modu...</td>\n    </tr>\n    <tr>\n      <th>4</th>\n      <td>bc147b33-fa74-4bff-9f48-c88809c5bdcd</td>\n      <td>35c0b3b694f84140846a21197ea62f68</td>\n      <td>0.0</td>\n      <td>from mining_extension import check_logging \\nc...</td>\n      <td>35c0b3b694f84140846a21197ea62f68</td>\n      <td>0.0</td>\n      <td>from mining_extension import check_logging \\nc...</td>\n      <td>True</td>\n      <td>[]</td>\n    </tr>\n  </tbody>\n</table>\n</div>"
     },
     "execution_count": 48,
     "metadata": {},
     "output_type": "execute_result"
    }
   ],
   "source": [
    "transitions = processor.get_execution_transitions(df_hack[:200])\n",
    "transitions.head()\n"
   ],
   "metadata": {
    "collapsed": false,
    "ExecuteTime": {
     "end_time": "2023-07-17T11:12:47.144723Z",
     "start_time": "2023-07-17T11:12:44.368301Z"
    }
   }
  },
  {
   "cell_type": "code",
   "execution_count": null,
   "outputs": [],
   "source": [],
   "metadata": {
    "collapsed": false
   }
  },
  {
   "cell_type": "markdown",
   "source": [
    "# Complexity evolution"
   ],
   "metadata": {
    "collapsed": false
   }
  },
  {
   "cell_type": "code",
   "execution_count": 44,
   "outputs": [
    {
     "data": {
      "text/plain": "[<matplotlib.lines.Line2D at 0x17a256e10>]"
     },
     "execution_count": 44,
     "metadata": {},
     "output_type": "execute_result"
    },
    {
     "data": {
      "text/plain": "<Figure size 640x480 with 1 Axes>",
      "image/png": "[encoded data removed]"
     },
     "metadata": {},
     "output_type": "display_data"
    }
   ],
   "source": [
    "fig, ax = plt.subplots()\n",
    "\n",
    "ax.plot(notebooks_metrics.groupby('kernel_id').get_group(\"0033f76c-6179-4fb4-a9ce-79112a52b51c\").ccn_sum)\n"
   ],
   "metadata": {
    "collapsed": false,
    "ExecuteTime": {
     "end_time": "2023-07-17T11:07:52.338125Z",
     "start_time": "2023-07-17T11:07:52.239499Z"
    }
   }
  },
  {
   "cell_type": "code",
   "execution_count": 44,
   "outputs": [],
   "source": [],
   "metadata": {
    "collapsed": false,
    "ExecuteTime": {
     "end_time": "2023-07-17T11:09:02.731524Z",
     "start_time": "2023-07-17T11:09:02.728162Z"
    }
   }
  },
  {
   "cell_type": "code",
   "execution_count": 45,
   "outputs": [],
   "source": [
    "# fig, ax = plt.subplots(1, 2, figsize=(2 * 8, 5))\n",
    "#\n",
    "# complexities_dict = complexities_dict_sum\n",
    "# interpolation_size = 1000\n",
    "# xp = np.linspace(0, 1, interpolation_size)\n",
    "# key = 'objects'\n",
    "#\n",
    "# dd = {'task1': 0, 'task2': 1}\n",
    "# mn, mx = np.inf, -np.inf\n",
    "#\n",
    "# for group, ids in groups_mapping.items():\n",
    "#     agg = np.zeros(interpolation_size)\n",
    "#     for idx in ids:\n",
    "#         d = complexities_dict[idx]\n",
    "#         y = np.array(d[key])\n",
    "#         y[np.isnan(y)] = 0\n",
    "#         x = np.linspace(0, 1, len(y))\n",
    "#\n",
    "#         y = np.interp(xp, x, y) + 1e-5\n",
    "#         if y.min() < mn:\n",
    "#             mn = y.min()\n",
    "#         if y.max() > mx:\n",
    "#             mx = y.max()\n",
    "#\n",
    "#         ax[dd[group]].plot(xp, y, color='k', alpha=0.2)\n",
    "#         agg += y\n",
    "#\n",
    "#     ax[dd[group]].set_title(group)\n",
    "#     ax[dd[group]].set_ylabel(key)\n",
    "#     ax[dd[group]].plot(xp, agg / len(ids), c='r', lw=2, label='average')\n",
    "#     ax[dd[group]].axhline((agg / len(ids))[-1], color='k', ls=(0, (5, 5)))\n",
    "#     ax[dd[group]].legend()\n",
    "#\n",
    "# for axi in ax:\n",
    "#     axi.set_ylim(mn*0.9, mx*1.1)\n",
    "#\n"
   ],
   "metadata": {
    "collapsed": false,
    "ExecuteTime": {
     "end_time": "2023-07-17T11:09:02.882437Z",
     "start_time": "2023-07-17T11:09:02.863579Z"
    }
   }
  },
  {
   "cell_type": "code",
   "execution_count": 44,
   "outputs": [],
   "source": [],
   "metadata": {
    "collapsed": false,
    "ExecuteTime": {
     "end_time": "2023-07-17T11:08:49.587342Z",
     "start_time": "2023-07-17T11:08:49.584704Z"
    }
   }
  },
  {
   "cell_type": "markdown",
   "source": [],
   "metadata": {
    "collapsed": false
   }
  },
  {
   "cell_type": "code",
   "execution_count": 44,
   "outputs": [],
   "source": [],
   "metadata": {
    "collapsed": false,
    "ExecuteTime": {
     "end_time": "2023-07-17T11:08:49.953314Z",
     "start_time": "2023-07-17T11:08:49.950044Z"
    }
   }
  },
  {
   "cell_type": "code",
   "execution_count": null,
   "outputs": [],
   "source": [],
   "metadata": {
    "collapsed": false
   }
  }
 ],
 "metadata": {
  "kernelspec": {
   "display_name": "Python 3",
   "language": "python",
   "name": "python3"
  },
  "language_info": {
   "codemirror_mode": {
    "name": "ipython",
    "version": 2
   },
   "file_extension": ".py",
   "mimetype": "text/x-python",
   "name": "python",
   "nbconvert_exporter": "python",
   "pygments_lexer": "ipython2",
   "version": "2.7.6"
  }
 },
 "nbformat": 4,
 "nbformat_minor": 0
}
