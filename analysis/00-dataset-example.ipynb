{
 "cells": [
  {
   "cell_type": "code",
   "execution_count": 18,
   "metadata": {
    "collapsed": true,
    "ExecuteTime": {
     "end_time": "2023-08-28T12:47:04.740214Z",
     "start_time": "2023-08-28T12:47:04.670776Z"
    }
   },
   "outputs": [
    {
     "name": "stdout",
     "output_type": "stream",
     "text": [
      "The autoreload extension is already loaded. To reload it, use:\n",
      "  %reload_ext autoreload\n"
     ]
    }
   ],
   "source": [
    "%load_ext autoreload\n",
    "%autoreload 2\n",
    "\n",
    "from pathlib import Path\n",
    "\n",
    "from data_loading import read_hackathon_data\n"
   ]
  },
  {
   "cell_type": "code",
   "execution_count": 19,
   "outputs": [
    {
     "name": "stdout",
     "output_type": "stream",
     "text": [
      "hack_db.db\n"
     ]
    },
    {
     "data": {
      "text/plain": "   id    ip_address                      time  \\\n0  10          None  2023-05-06T08:30:38.037Z   \n1  17  192.168.1.56  2023-05-06T08:31:35.929Z   \n2  18  192.168.1.56  2023-05-06T08:31:35.944Z   \n3  19  192.168.1.56  2023-05-06T08:31:36.049Z   \n4  41  192.168.1.56  2023-05-06T08:37:46.346Z   \n\n                             session_id                             kernel_id  \\\n0  a7b38785-5e80-4d1b-9722-6673e4c78877  5c2e86ab-cd96-4e48-98bc-28ed10fa8aac   \n1  a7b38785-5e80-4d1b-9722-6673e4c78877  5c2e86ab-cd96-4e48-98bc-28ed10fa8aac   \n2  a7b38785-5e80-4d1b-9722-6673e4c78877  5c2e86ab-cd96-4e48-98bc-28ed10fa8aac   \n3  a7b38785-5e80-4d1b-9722-6673e4c78877  5c2e86ab-cd96-4e48-98bc-28ed10fa8aac   \n4  a7b38785-5e80-4d1b-9722-6673e4c78877  5c2e86ab-cd96-4e48-98bc-28ed10fa8aac   \n\n  notebook_name             event                        cell_index  cell_num  \\\n0   task1.ipynb     save_notebook                              None       NaN   \n1   task1.ipynb           execute  e4836a849dea49f1a753df2274fbdbc5       0.0   \n2   task1.ipynb            create  dbcf462e8f6c4e3a89c0d6d0d083c0b2       0.0   \n3   task1.ipynb  finished_execute  e4836a849dea49f1a753df2274fbdbc5       1.0   \n4   task1.ipynb           execute  dbcf462e8f6c4e3a89c0d6d0d083c0b2       1.0   \n\n  cell_type                                        cell_source  \\\n0      None  [\\n  {\\n    \"id\": \"e4836a849dea49f1a753df2274f...   \n1      code  # # Do not forget to check if your notebook lo...   \n2      code                                               None   \n3      code  # # Do not forget to check if your notebook lo...   \n4      code                                     !ls data/task1   \n\n                            cell_output  expert    user_id  \n0                                  None   False  student_2  \n1                                  None   False  student_2  \n2                                  None   False  student_2  \n3  [{\"output_type\":\"stream\",\"size\":23}]   False  student_2  \n4                                  None   False  student_2  ",
      "text/html": "<div>\n<style scoped>\n    .dataframe tbody tr th:only-of-type {\n        vertical-align: middle;\n    }\n\n    .dataframe tbody tr th {\n        vertical-align: top;\n    }\n\n    .dataframe thead th {\n        text-align: right;\n    }\n</style>\n<table border=\"1\" class=\"dataframe\">\n  <thead>\n    <tr style=\"text-align: right;\">\n      <th></th>\n      <th>id</th>\n      <th>ip_address</th>\n      <th>time</th>\n      <th>session_id</th>\n      <th>kernel_id</th>\n      <th>notebook_name</th>\n      <th>event</th>\n      <th>cell_index</th>\n      <th>cell_num</th>\n      <th>cell_type</th>\n      <th>cell_source</th>\n      <th>cell_output</th>\n      <th>expert</th>\n      <th>user_id</th>\n    </tr>\n  </thead>\n  <tbody>\n    <tr>\n      <th>0</th>\n      <td>10</td>\n      <td>None</td>\n      <td>2023-05-06T08:30:38.037Z</td>\n      <td>a7b38785-5e80-4d1b-9722-6673e4c78877</td>\n      <td>5c2e86ab-cd96-4e48-98bc-28ed10fa8aac</td>\n      <td>task1.ipynb</td>\n      <td>save_notebook</td>\n      <td>None</td>\n      <td>NaN</td>\n      <td>None</td>\n      <td>[\\n  {\\n    \"id\": \"e4836a849dea49f1a753df2274f...</td>\n      <td>None</td>\n      <td>False</td>\n      <td>student_2</td>\n    </tr>\n    <tr>\n      <th>1</th>\n      <td>17</td>\n      <td>192.168.1.56</td>\n      <td>2023-05-06T08:31:35.929Z</td>\n      <td>a7b38785-5e80-4d1b-9722-6673e4c78877</td>\n      <td>5c2e86ab-cd96-4e48-98bc-28ed10fa8aac</td>\n      <td>task1.ipynb</td>\n      <td>execute</td>\n      <td>e4836a849dea49f1a753df2274fbdbc5</td>\n      <td>0.0</td>\n      <td>code</td>\n      <td># # Do not forget to check if your notebook lo...</td>\n      <td>None</td>\n      <td>False</td>\n      <td>student_2</td>\n    </tr>\n    <tr>\n      <th>2</th>\n      <td>18</td>\n      <td>192.168.1.56</td>\n      <td>2023-05-06T08:31:35.944Z</td>\n      <td>a7b38785-5e80-4d1b-9722-6673e4c78877</td>\n      <td>5c2e86ab-cd96-4e48-98bc-28ed10fa8aac</td>\n      <td>task1.ipynb</td>\n      <td>create</td>\n      <td>dbcf462e8f6c4e3a89c0d6d0d083c0b2</td>\n      <td>0.0</td>\n      <td>code</td>\n      <td>None</td>\n      <td>None</td>\n      <td>False</td>\n      <td>student_2</td>\n    </tr>\n    <tr>\n      <th>3</th>\n      <td>19</td>\n      <td>192.168.1.56</td>\n      <td>2023-05-06T08:31:36.049Z</td>\n      <td>a7b38785-5e80-4d1b-9722-6673e4c78877</td>\n      <td>5c2e86ab-cd96-4e48-98bc-28ed10fa8aac</td>\n      <td>task1.ipynb</td>\n      <td>finished_execute</td>\n      <td>e4836a849dea49f1a753df2274fbdbc5</td>\n      <td>1.0</td>\n      <td>code</td>\n      <td># # Do not forget to check if your notebook lo...</td>\n      <td>[{\"output_type\":\"stream\",\"size\":23}]</td>\n      <td>False</td>\n      <td>student_2</td>\n    </tr>\n    <tr>\n      <th>4</th>\n      <td>41</td>\n      <td>192.168.1.56</td>\n      <td>2023-05-06T08:37:46.346Z</td>\n      <td>a7b38785-5e80-4d1b-9722-6673e4c78877</td>\n      <td>5c2e86ab-cd96-4e48-98bc-28ed10fa8aac</td>\n      <td>task1.ipynb</td>\n      <td>execute</td>\n      <td>dbcf462e8f6c4e3a89c0d6d0d083c0b2</td>\n      <td>1.0</td>\n      <td>code</td>\n      <td>!ls data/task1</td>\n      <td>None</td>\n      <td>False</td>\n      <td>student_2</td>\n    </tr>\n  </tbody>\n</table>\n</div>"
     },
     "execution_count": 19,
     "metadata": {},
     "output_type": "execute_result"
    }
   ],
   "source": [
    "path = Path(\"data_config.yaml\")\n",
    "df_hack = read_hackathon_data(path, attach_users=True)\n",
    "df_hack.head()\n"
   ],
   "metadata": {
    "collapsed": false,
    "ExecuteTime": {
     "end_time": "2023-08-28T12:47:05.299185Z",
     "start_time": "2023-08-28T12:47:05.182786Z"
    }
   }
  },
  {
   "cell_type": "code",
   "execution_count": 20,
   "outputs": [
    {
     "ename": "ModuleNotFoundError",
     "evalue": "No module named 'metrics.preprocessing'",
     "output_type": "error",
     "traceback": [
      "\u001B[0;31m---------------------------------------------------------------------------\u001B[0m",
      "\u001B[0;31mModuleNotFoundError\u001B[0m                       Traceback (most recent call last)",
      "Cell \u001B[0;32mIn[20], line 1\u001B[0m\n\u001B[0;32m----> 1\u001B[0m \u001B[38;5;28;01mfrom\u001B[39;00m \u001B[38;5;21;01mmetrics\u001B[39;00m\u001B[38;5;21;01m.\u001B[39;00m\u001B[38;5;21;01mpreprocessing\u001B[39;00m \u001B[38;5;28;01mimport\u001B[39;00m JuNEDataset\n",
      "\u001B[0;31mModuleNotFoundError\u001B[0m: No module named 'metrics.preprocessing'"
     ]
    }
   ],
   "source": [
    "from metrics.preprocessing import JuNEDataset\n"
   ],
   "metadata": {
    "collapsed": false,
    "ExecuteTime": {
     "end_time": "2023-08-28T12:47:09.727052Z",
     "start_time": "2023-08-28T12:47:09.709031Z"
    }
   }
  },
  {
   "cell_type": "code",
   "execution_count": 21,
   "outputs": [],
   "source": [
    "june = JuNEDataset(df_hack)\n",
    "june.prepare_dataset()\n"
   ],
   "metadata": {
    "collapsed": false,
    "ExecuteTime": {
     "end_time": "2023-08-20T15:13:59.494868Z",
     "start_time": "2023-08-20T15:13:59.311506Z"
    }
   }
  },
  {
   "cell_type": "code",
   "execution_count": 22,
   "outputs": [
    {
     "data": {
      "text/plain": "         id      ip_address                    time  \\\n0        10            None 2023-05-06 10:30:38.037   \n11       11            None 2023-05-06 10:30:47.693   \n13       14   10.82.188.240 2023-05-06 10:31:14.874   \n12       13   10.82.188.240 2023-05-06 10:31:14.883   \n14       15   10.82.188.240 2023-05-06 10:31:15.115   \n...     ...             ...                     ...   \n20979  2675  46.223.162.124 2023-07-03 17:11:04.775   \n20980  2676  46.223.162.124 2023-07-03 17:11:05.060   \n20981  2677  46.223.162.124 2023-07-03 17:12:10.432   \n20982  2678  46.223.162.124 2023-07-03 17:12:12.134   \n20983  2679  46.223.162.124 2023-07-03 17:12:12.154   \n\n                                 session_id  \\\n0      a7b38785-5e80-4d1b-9722-6673e4c78877   \n11     a3faa4bd-d034-41dc-a1a0-b2ac15757097   \n13     a3faa4bd-d034-41dc-a1a0-b2ac15757097   \n12     a3faa4bd-d034-41dc-a1a0-b2ac15757097   \n14     a3faa4bd-d034-41dc-a1a0-b2ac15757097   \n...                                     ...   \n20979  7e660212-236c-414c-8326-ef7c28b2f0e2   \n20980  7e660212-236c-414c-8326-ef7c28b2f0e2   \n20981  7e660212-236c-414c-8326-ef7c28b2f0e2   \n20982  7e660212-236c-414c-8326-ef7c28b2f0e2   \n20983  7e660212-236c-414c-8326-ef7c28b2f0e2   \n\n                                  kernel_id notebook_name             event  \\\n0      5c2e86ab-cd96-4e48-98bc-28ed10fa8aac   task1.ipynb     save_notebook   \n11     eeedb543-cbc3-4e59-8e63-511e29518da4   task1.ipynb     save_notebook   \n13     eeedb543-cbc3-4e59-8e63-511e29518da4   task1.ipynb           execute   \n12     eeedb543-cbc3-4e59-8e63-511e29518da4   task1.ipynb            create   \n14     eeedb543-cbc3-4e59-8e63-511e29518da4   task1.ipynb  finished_execute   \n...                                     ...           ...               ...   \n20979  bb4138c1-dd04-480d-a5b6-d51e1b9048d8   task2.ipynb           execute   \n20980  bb4138c1-dd04-480d-a5b6-d51e1b9048d8   task2.ipynb  finished_execute   \n20981  bb4138c1-dd04-480d-a5b6-d51e1b9048d8   task2.ipynb            create   \n20982  bb4138c1-dd04-480d-a5b6-d51e1b9048d8   task2.ipynb           execute   \n20983  bb4138c1-dd04-480d-a5b6-d51e1b9048d8   task2.ipynb  finished_execute   \n\n                             cell_index cell_num cell_type  \\\n0                                  None     None      None   \n11                                 None     None      None   \n13     cc973487bf764ec49c8636c0f02f886c      0.0      code   \n12     b96452a97f01456883542ea0ac111479      0.0      code   \n14     cc973487bf764ec49c8636c0f02f886c      1.0      code   \n...                                 ...      ...       ...   \n20979  63ef60bff06745028aa11ede4424e4fe     30.0      code   \n20980  63ef60bff06745028aa11ede4424e4fe     30.0      code   \n20981  327eace519e342328b854732db0e883a     10.0      code   \n20982  327eace519e342328b854732db0e883a     11.0      code   \n20983  327eace519e342328b854732db0e883a     11.0      code   \n\n                                             cell_source  \\\n0      [\\n  {\\n    \"id\": \"e4836a849dea49f1a753df2274f...   \n11     [\\n  {\\n    \"id\": \"cc973487bf764ec49c8636c0f02...   \n13     # # Do not forget to check if your notebook lo...   \n12                                                  None   \n14     # # Do not forget to check if your notebook lo...   \n...                                                  ...   \n20979  f1_score(y_test_primary, rfclf.predict(prepare...   \n20980  f1_score(y_test_primary, rfclf.predict(prepare...   \n20981                                               None   \n20982                                          class_map   \n20983                                          class_map   \n\n                                             cell_output    user_id  \n0                                                   None  student_2  \n11                                                  None  student_8  \n13                                                  None  student_8  \n12                                                  None  student_8  \n14                  [{\"output_type\":\"stream\",\"size\":23}]  student_8  \n...                                                  ...        ...  \n20979                                               None   expert_1  \n20980  [{\"output_type\":\"stream\",\"size\":471},{\"output_...   expert_1  \n20981                                               None   expert_1  \n20982                                               None   expert_1  \n20983      [{\"output_type\":\"execute_result\",\"size\":237}]   expert_1  \n\n[20984 rows x 13 columns]",
      "text/html": "<div>\n<style scoped>\n    .dataframe tbody tr th:only-of-type {\n        vertical-align: middle;\n    }\n\n    .dataframe tbody tr th {\n        vertical-align: top;\n    }\n\n    .dataframe thead th {\n        text-align: right;\n    }\n</style>\n<table border=\"1\" class=\"dataframe\">\n  <thead>\n    <tr style=\"text-align: right;\">\n      <th></th>\n      <th>id</th>\n      <th>ip_address</th>\n      <th>time</th>\n      <th>session_id</th>\n      <th>kernel_id</th>\n      <th>notebook_name</th>\n      <th>event</th>\n      <th>cell_index</th>\n      <th>cell_num</th>\n      <th>cell_type</th>\n      <th>cell_source</th>\n      <th>cell_output</th>\n      <th>user_id</th>\n    </tr>\n  </thead>\n  <tbody>\n    <tr>\n      <th>0</th>\n      <td>10</td>\n      <td>None</td>\n      <td>2023-05-06 10:30:38.037</td>\n      <td>a7b38785-5e80-4d1b-9722-6673e4c78877</td>\n      <td>5c2e86ab-cd96-4e48-98bc-28ed10fa8aac</td>\n      <td>task1.ipynb</td>\n      <td>save_notebook</td>\n      <td>None</td>\n      <td>None</td>\n      <td>None</td>\n      <td>[\\n  {\\n    \"id\": \"e4836a849dea49f1a753df2274f...</td>\n      <td>None</td>\n      <td>student_2</td>\n    </tr>\n    <tr>\n      <th>11</th>\n      <td>11</td>\n      <td>None</td>\n      <td>2023-05-06 10:30:47.693</td>\n      <td>a3faa4bd-d034-41dc-a1a0-b2ac15757097</td>\n      <td>eeedb543-cbc3-4e59-8e63-511e29518da4</td>\n      <td>task1.ipynb</td>\n      <td>save_notebook</td>\n      <td>None</td>\n      <td>None</td>\n      <td>None</td>\n      <td>[\\n  {\\n    \"id\": \"cc973487bf764ec49c8636c0f02...</td>\n      <td>None</td>\n      <td>student_8</td>\n    </tr>\n    <tr>\n      <th>13</th>\n      <td>14</td>\n      <td>10.82.188.240</td>\n      <td>2023-05-06 10:31:14.874</td>\n      <td>a3faa4bd-d034-41dc-a1a0-b2ac15757097</td>\n      <td>eeedb543-cbc3-4e59-8e63-511e29518da4</td>\n      <td>task1.ipynb</td>\n      <td>execute</td>\n      <td>cc973487bf764ec49c8636c0f02f886c</td>\n      <td>0.0</td>\n      <td>code</td>\n      <td># # Do not forget to check if your notebook lo...</td>\n      <td>None</td>\n      <td>student_8</td>\n    </tr>\n    <tr>\n      <th>12</th>\n      <td>13</td>\n      <td>10.82.188.240</td>\n      <td>2023-05-06 10:31:14.883</td>\n      <td>a3faa4bd-d034-41dc-a1a0-b2ac15757097</td>\n      <td>eeedb543-cbc3-4e59-8e63-511e29518da4</td>\n      <td>task1.ipynb</td>\n      <td>create</td>\n      <td>b96452a97f01456883542ea0ac111479</td>\n      <td>0.0</td>\n      <td>code</td>\n      <td>None</td>\n      <td>None</td>\n      <td>student_8</td>\n    </tr>\n    <tr>\n      <th>14</th>\n      <td>15</td>\n      <td>10.82.188.240</td>\n      <td>2023-05-06 10:31:15.115</td>\n      <td>a3faa4bd-d034-41dc-a1a0-b2ac15757097</td>\n      <td>eeedb543-cbc3-4e59-8e63-511e29518da4</td>\n      <td>task1.ipynb</td>\n      <td>finished_execute</td>\n      <td>cc973487bf764ec49c8636c0f02f886c</td>\n      <td>1.0</td>\n      <td>code</td>\n      <td># # Do not forget to check if your notebook lo...</td>\n      <td>[{\"output_type\":\"stream\",\"size\":23}]</td>\n      <td>student_8</td>\n    </tr>\n    <tr>\n      <th>...</th>\n      <td>...</td>\n      <td>...</td>\n      <td>...</td>\n      <td>...</td>\n      <td>...</td>\n      <td>...</td>\n      <td>...</td>\n      <td>...</td>\n      <td>...</td>\n      <td>...</td>\n      <td>...</td>\n      <td>...</td>\n      <td>...</td>\n    </tr>\n    <tr>\n      <th>20979</th>\n      <td>2675</td>\n      <td>46.223.162.124</td>\n      <td>2023-07-03 17:11:04.775</td>\n      <td>7e660212-236c-414c-8326-ef7c28b2f0e2</td>\n      <td>bb4138c1-dd04-480d-a5b6-d51e1b9048d8</td>\n      <td>task2.ipynb</td>\n      <td>execute</td>\n      <td>63ef60bff06745028aa11ede4424e4fe</td>\n      <td>30.0</td>\n      <td>code</td>\n      <td>f1_score(y_test_primary, rfclf.predict(prepare...</td>\n      <td>None</td>\n      <td>expert_1</td>\n    </tr>\n    <tr>\n      <th>20980</th>\n      <td>2676</td>\n      <td>46.223.162.124</td>\n      <td>2023-07-03 17:11:05.060</td>\n      <td>7e660212-236c-414c-8326-ef7c28b2f0e2</td>\n      <td>bb4138c1-dd04-480d-a5b6-d51e1b9048d8</td>\n      <td>task2.ipynb</td>\n      <td>finished_execute</td>\n      <td>63ef60bff06745028aa11ede4424e4fe</td>\n      <td>30.0</td>\n      <td>code</td>\n      <td>f1_score(y_test_primary, rfclf.predict(prepare...</td>\n      <td>[{\"output_type\":\"stream\",\"size\":471},{\"output_...</td>\n      <td>expert_1</td>\n    </tr>\n    <tr>\n      <th>20981</th>\n      <td>2677</td>\n      <td>46.223.162.124</td>\n      <td>2023-07-03 17:12:10.432</td>\n      <td>7e660212-236c-414c-8326-ef7c28b2f0e2</td>\n      <td>bb4138c1-dd04-480d-a5b6-d51e1b9048d8</td>\n      <td>task2.ipynb</td>\n      <td>create</td>\n      <td>327eace519e342328b854732db0e883a</td>\n      <td>10.0</td>\n      <td>code</td>\n      <td>None</td>\n      <td>None</td>\n      <td>expert_1</td>\n    </tr>\n    <tr>\n      <th>20982</th>\n      <td>2678</td>\n      <td>46.223.162.124</td>\n      <td>2023-07-03 17:12:12.134</td>\n      <td>7e660212-236c-414c-8326-ef7c28b2f0e2</td>\n      <td>bb4138c1-dd04-480d-a5b6-d51e1b9048d8</td>\n      <td>task2.ipynb</td>\n      <td>execute</td>\n      <td>327eace519e342328b854732db0e883a</td>\n      <td>11.0</td>\n      <td>code</td>\n      <td>class_map</td>\n      <td>None</td>\n      <td>expert_1</td>\n    </tr>\n    <tr>\n      <th>20983</th>\n      <td>2679</td>\n      <td>46.223.162.124</td>\n      <td>2023-07-03 17:12:12.154</td>\n      <td>7e660212-236c-414c-8326-ef7c28b2f0e2</td>\n      <td>bb4138c1-dd04-480d-a5b6-d51e1b9048d8</td>\n      <td>task2.ipynb</td>\n      <td>finished_execute</td>\n      <td>327eace519e342328b854732db0e883a</td>\n      <td>11.0</td>\n      <td>code</td>\n      <td>class_map</td>\n      <td>[{\"output_type\":\"execute_result\",\"size\":237}]</td>\n      <td>expert_1</td>\n    </tr>\n  </tbody>\n</table>\n<p>20984 rows × 13 columns</p>\n</div>"
     },
     "execution_count": 22,
     "metadata": {},
     "output_type": "execute_result"
    }
   ],
   "source": [
    "june.to_dataframe()"
   ],
   "metadata": {
    "collapsed": false,
    "ExecuteTime": {
     "end_time": "2023-08-20T15:13:59.566505Z",
     "start_time": "2023-08-20T15:13:59.543269Z"
    }
   }
  },
  {
   "cell_type": "code",
   "execution_count": 9,
   "outputs": [
    {
     "ename": "ModuleNotFoundError",
     "evalue": "No module named 'metrics.preprocessing'",
     "output_type": "error",
     "traceback": [
      "\u001B[0;31m---------------------------------------------------------------------------\u001B[0m",
      "\u001B[0;31mModuleNotFoundError\u001B[0m                       Traceback (most recent call last)",
      "Cell \u001B[0;32mIn[9], line 1\u001B[0m\n\u001B[0;32m----> 1\u001B[0m \u001B[38;5;28;01mfrom\u001B[39;00m \u001B[38;5;21;01mmetrics\u001B[39;00m\u001B[38;5;21;01m.\u001B[39;00m\u001B[38;5;21;01mpreprocessing\u001B[39;00m \u001B[38;5;28;01mimport\u001B[39;00m JuNEDataset\n",
      "\u001B[0;31mModuleNotFoundError\u001B[0m: No module named 'metrics.preprocessing'"
     ]
    }
   ],
   "source": [
    "evol_df = june.to_evolution_dataframe()\n",
    "evol_df.head()"
   ],
   "metadata": {
    "collapsed": false,
    "ExecuteTime": {
     "end_time": "2023-08-28T12:43:05.633783Z",
     "start_time": "2023-08-28T12:43:05.600152Z"
    }
   }
  },
  {
   "cell_type": "code",
   "execution_count": 27,
   "outputs": [
    {
     "data": {
      "text/plain": "   state_num                        cell_index  cell_num  \\\n0          1  e4836a849dea49f1a753df2274fbdbc5       0.0   \n0          2  e4836a849dea49f1a753df2274fbdbc5       0.0   \n0          3  e4836a849dea49f1a753df2274fbdbc5       0.0   \n1          3  dbcf462e8f6c4e3a89c0d6d0d083c0b2       1.0   \n0          4  e4836a849dea49f1a753df2274fbdbc5       0.0   \n1          4  dbcf462e8f6c4e3a89c0d6d0d083c0b2       1.0   \n0          5  e4836a849dea49f1a753df2274fbdbc5       0.0   \n1          5  dbcf462e8f6c4e3a89c0d6d0d083c0b2       1.0   \n0          6  e4836a849dea49f1a753df2274fbdbc5       0.0   \n1          6  dbcf462e8f6c4e3a89c0d6d0d083c0b2       1.0   \n\n                                         cell_source  action_id  \\\n0  # # Do not forget to check if your notebook lo...       10.0   \n0  # # Do not forget to check if your notebook lo...       17.0   \n0  # # Do not forget to check if your notebook lo...       18.0   \n1                                               None       18.0   \n0  # # Do not forget to check if your notebook lo...       19.0   \n1                                               None       19.0   \n0  # # Do not forget to check if your notebook lo...       41.0   \n1                                     !ls data/task1       41.0   \n0  # # Do not forget to check if your notebook lo...       42.0   \n1                                     !ls data/task1       42.0   \n\n                              kernel_id  \n0  5c2e86ab-cd96-4e48-98bc-28ed10fa8aac  \n0  5c2e86ab-cd96-4e48-98bc-28ed10fa8aac  \n0  5c2e86ab-cd96-4e48-98bc-28ed10fa8aac  \n1  5c2e86ab-cd96-4e48-98bc-28ed10fa8aac  \n0  5c2e86ab-cd96-4e48-98bc-28ed10fa8aac  \n1  5c2e86ab-cd96-4e48-98bc-28ed10fa8aac  \n0  5c2e86ab-cd96-4e48-98bc-28ed10fa8aac  \n1  5c2e86ab-cd96-4e48-98bc-28ed10fa8aac  \n0  5c2e86ab-cd96-4e48-98bc-28ed10fa8aac  \n1  5c2e86ab-cd96-4e48-98bc-28ed10fa8aac  ",
      "text/html": "<div>\n<style scoped>\n    .dataframe tbody tr th:only-of-type {\n        vertical-align: middle;\n    }\n\n    .dataframe tbody tr th {\n        vertical-align: top;\n    }\n\n    .dataframe thead th {\n        text-align: right;\n    }\n</style>\n<table border=\"1\" class=\"dataframe\">\n  <thead>\n    <tr style=\"text-align: right;\">\n      <th></th>\n      <th>state_num</th>\n      <th>cell_index</th>\n      <th>cell_num</th>\n      <th>cell_source</th>\n      <th>action_id</th>\n      <th>kernel_id</th>\n    </tr>\n  </thead>\n  <tbody>\n    <tr>\n      <th>0</th>\n      <td>1</td>\n      <td>e4836a849dea49f1a753df2274fbdbc5</td>\n      <td>0.0</td>\n      <td># # Do not forget to check if your notebook lo...</td>\n      <td>10.0</td>\n      <td>5c2e86ab-cd96-4e48-98bc-28ed10fa8aac</td>\n    </tr>\n    <tr>\n      <th>0</th>\n      <td>2</td>\n      <td>e4836a849dea49f1a753df2274fbdbc5</td>\n      <td>0.0</td>\n      <td># # Do not forget to check if your notebook lo...</td>\n      <td>17.0</td>\n      <td>5c2e86ab-cd96-4e48-98bc-28ed10fa8aac</td>\n    </tr>\n    <tr>\n      <th>0</th>\n      <td>3</td>\n      <td>e4836a849dea49f1a753df2274fbdbc5</td>\n      <td>0.0</td>\n      <td># # Do not forget to check if your notebook lo...</td>\n      <td>18.0</td>\n      <td>5c2e86ab-cd96-4e48-98bc-28ed10fa8aac</td>\n    </tr>\n    <tr>\n      <th>1</th>\n      <td>3</td>\n      <td>dbcf462e8f6c4e3a89c0d6d0d083c0b2</td>\n      <td>1.0</td>\n      <td>None</td>\n      <td>18.0</td>\n      <td>5c2e86ab-cd96-4e48-98bc-28ed10fa8aac</td>\n    </tr>\n    <tr>\n      <th>0</th>\n      <td>4</td>\n      <td>e4836a849dea49f1a753df2274fbdbc5</td>\n      <td>0.0</td>\n      <td># # Do not forget to check if your notebook lo...</td>\n      <td>19.0</td>\n      <td>5c2e86ab-cd96-4e48-98bc-28ed10fa8aac</td>\n    </tr>\n    <tr>\n      <th>1</th>\n      <td>4</td>\n      <td>dbcf462e8f6c4e3a89c0d6d0d083c0b2</td>\n      <td>1.0</td>\n      <td>None</td>\n      <td>19.0</td>\n      <td>5c2e86ab-cd96-4e48-98bc-28ed10fa8aac</td>\n    </tr>\n    <tr>\n      <th>0</th>\n      <td>5</td>\n      <td>e4836a849dea49f1a753df2274fbdbc5</td>\n      <td>0.0</td>\n      <td># # Do not forget to check if your notebook lo...</td>\n      <td>41.0</td>\n      <td>5c2e86ab-cd96-4e48-98bc-28ed10fa8aac</td>\n    </tr>\n    <tr>\n      <th>1</th>\n      <td>5</td>\n      <td>dbcf462e8f6c4e3a89c0d6d0d083c0b2</td>\n      <td>1.0</td>\n      <td>!ls data/task1</td>\n      <td>41.0</td>\n      <td>5c2e86ab-cd96-4e48-98bc-28ed10fa8aac</td>\n    </tr>\n    <tr>\n      <th>0</th>\n      <td>6</td>\n      <td>e4836a849dea49f1a753df2274fbdbc5</td>\n      <td>0.0</td>\n      <td># # Do not forget to check if your notebook lo...</td>\n      <td>42.0</td>\n      <td>5c2e86ab-cd96-4e48-98bc-28ed10fa8aac</td>\n    </tr>\n    <tr>\n      <th>1</th>\n      <td>6</td>\n      <td>dbcf462e8f6c4e3a89c0d6d0d083c0b2</td>\n      <td>1.0</td>\n      <td>!ls data/task1</td>\n      <td>42.0</td>\n      <td>5c2e86ab-cd96-4e48-98bc-28ed10fa8aac</td>\n    </tr>\n  </tbody>\n</table>\n</div>"
     },
     "execution_count": 27,
     "metadata": {},
     "output_type": "execute_result"
    }
   ],
   "source": [
    "june.get_notebook_state_by_id(10)"
   ],
   "metadata": {
    "collapsed": false,
    "ExecuteTime": {
     "end_time": "2023-08-20T15:15:02.388944Z",
     "start_time": "2023-08-20T15:15:02.363765Z"
    }
   }
  },
  {
   "cell_type": "code",
   "execution_count": null,
   "outputs": [],
   "source": [],
   "metadata": {
    "collapsed": false
   }
  }
 ],
 "metadata": {
  "kernelspec": {
   "display_name": "Python 3",
   "language": "python",
   "name": "python3"
  },
  "language_info": {
   "codemirror_mode": {
    "name": "ipython",
    "version": 2
   },
   "file_extension": ".py",
   "mimetype": "text/x-python",
   "name": "python",
   "nbconvert_exporter": "python",
   "pygments_lexer": "ipython2",
   "version": "2.7.6"
  }
 },
 "nbformat": 4,
 "nbformat_minor": 0
}
