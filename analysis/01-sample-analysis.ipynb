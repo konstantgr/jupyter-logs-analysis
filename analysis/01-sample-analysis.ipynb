{
 "cells": [
  {
   "cell_type": "code",
   "execution_count": 2,
   "metadata": {
    "collapsed": true,
    "ExecuteTime": {
     "end_time": "2023-09-28T15:55:57.458728Z",
     "start_time": "2023-09-28T15:55:57.398218Z"
    }
   },
   "outputs": [],
   "source": [
    "from pathlib import Path\n",
    "\n",
    "import pandas as pd\n",
    "import yaml\n",
    "\n",
    "\n",
    "def read_config(config_path: Path = Path(\"data_config.yaml\")) -> dict:\n",
    "    with config_path.open(\"r\") as stream:\n",
    "        try:\n",
    "            return yaml.safe_load(stream)\n",
    "        except yaml.YAMLError:\n",
    "            return {}\n",
    "\n",
    "config = read_config()\n"
   ]
  },
  {
   "cell_type": "code",
   "execution_count": 3,
   "outputs": [],
   "source": [
    "sample_df = pd.read_csv(config.get(\"sample_path\"))\n"
   ],
   "metadata": {
    "collapsed": false,
    "ExecuteTime": {
     "end_time": "2023-09-28T15:55:57.458840Z",
     "start_time": "2023-09-28T15:55:57.415758Z"
    }
   }
  },
  {
   "cell_type": "code",
   "execution_count": 4,
   "outputs": [
    {
     "data": {
      "text/plain": "20"
     },
     "execution_count": 4,
     "metadata": {},
     "output_type": "execute_result"
    }
   ],
   "source": [
    "n_participants = len(sample_df)\n",
    "n_participants\n"
   ],
   "metadata": {
    "collapsed": false,
    "ExecuteTime": {
     "end_time": "2023-09-28T15:55:57.458937Z",
     "start_time": "2023-09-28T15:55:57.421714Z"
    }
   }
  },
  {
   "cell_type": "code",
   "execution_count": 5,
   "outputs": [
    {
     "data": {
      "text/plain": "             User_id                                                     \\\n               count       mean       std   min   25%   50%   75%   max   \nStatus                                                                    \nProfessional     9.0  14.000000  2.738613  10.0  12.0  14.0  16.0  18.0   \nStudent         11.0   7.636364  6.360389   1.0   3.5   6.0   8.5  20.0   \n\n             Expirience             ...               note                   \\\n                  count       mean  ...   75%    max count mean std min 25%   \nStatus                              ...                                       \nProfessional        9.0  56.333333  ...  60.0  120.0   0.0  NaN NaN NaN NaN   \nStudent            11.0  33.272727  ...  36.0   50.0   0.0  NaN NaN NaN NaN   \n\n                          \n             50% 75% max  \nStatus                    \nProfessional NaN NaN NaN  \nStudent      NaN NaN NaN  \n\n[2 rows x 24 columns]",
      "text/html": "<div>\n<style scoped>\n    .dataframe tbody tr th:only-of-type {\n        vertical-align: middle;\n    }\n\n    .dataframe tbody tr th {\n        vertical-align: top;\n    }\n\n    .dataframe thead tr th {\n        text-align: left;\n    }\n\n    .dataframe thead tr:last-of-type th {\n        text-align: right;\n    }\n</style>\n<table border=\"1\" class=\"dataframe\">\n  <thead>\n    <tr>\n      <th></th>\n      <th colspan=\"8\" halign=\"left\">User_id</th>\n      <th colspan=\"5\" halign=\"left\">Expirience</th>\n      <th colspan=\"8\" halign=\"left\">note</th>\n    </tr>\n    <tr>\n      <th></th>\n      <th>count</th>\n      <th>mean</th>\n      <th>std</th>\n      <th>min</th>\n      <th>25%</th>\n      <th>50%</th>\n      <th>75%</th>\n      <th>max</th>\n      <th>count</th>\n      <th>mean</th>\n      <th>...</th>\n      <th>75%</th>\n      <th>max</th>\n      <th>count</th>\n      <th>mean</th>\n      <th>std</th>\n      <th>min</th>\n      <th>25%</th>\n      <th>50%</th>\n      <th>75%</th>\n      <th>max</th>\n    </tr>\n    <tr>\n      <th>Status</th>\n      <th></th>\n      <th></th>\n      <th></th>\n      <th></th>\n      <th></th>\n      <th></th>\n      <th></th>\n      <th></th>\n      <th></th>\n      <th></th>\n      <th></th>\n      <th></th>\n      <th></th>\n      <th></th>\n      <th></th>\n      <th></th>\n      <th></th>\n      <th></th>\n      <th></th>\n      <th></th>\n      <th></th>\n    </tr>\n  </thead>\n  <tbody>\n    <tr>\n      <th>Professional</th>\n      <td>9.0</td>\n      <td>14.000000</td>\n      <td>2.738613</td>\n      <td>10.0</td>\n      <td>12.0</td>\n      <td>14.0</td>\n      <td>16.0</td>\n      <td>18.0</td>\n      <td>9.0</td>\n      <td>56.333333</td>\n      <td>...</td>\n      <td>60.0</td>\n      <td>120.0</td>\n      <td>0.0</td>\n      <td>NaN</td>\n      <td>NaN</td>\n      <td>NaN</td>\n      <td>NaN</td>\n      <td>NaN</td>\n      <td>NaN</td>\n      <td>NaN</td>\n    </tr>\n    <tr>\n      <th>Student</th>\n      <td>11.0</td>\n      <td>7.636364</td>\n      <td>6.360389</td>\n      <td>1.0</td>\n      <td>3.5</td>\n      <td>6.0</td>\n      <td>8.5</td>\n      <td>20.0</td>\n      <td>11.0</td>\n      <td>33.272727</td>\n      <td>...</td>\n      <td>36.0</td>\n      <td>50.0</td>\n      <td>0.0</td>\n      <td>NaN</td>\n      <td>NaN</td>\n      <td>NaN</td>\n      <td>NaN</td>\n      <td>NaN</td>\n      <td>NaN</td>\n      <td>NaN</td>\n    </tr>\n  </tbody>\n</table>\n<p>2 rows × 24 columns</p>\n</div>"
     },
     "execution_count": 5,
     "metadata": {},
     "output_type": "execute_result"
    }
   ],
   "source": [
    "sample_df.groupby('Status').describe()\n"
   ],
   "metadata": {
    "collapsed": false,
    "ExecuteTime": {
     "end_time": "2023-09-28T15:55:57.459134Z",
     "start_time": "2023-09-28T15:55:57.425834Z"
    }
   }
  },
  {
   "cell_type": "code",
   "execution_count": 6,
   "outputs": [
    {
     "data": {
      "text/plain": "Notebook use\nOften (more then 3 times a week)    0.8\nSometimes (1-2 times a week)        0.2\nName: proportion, dtype: float64"
     },
     "execution_count": 6,
     "metadata": {},
     "output_type": "execute_result"
    }
   ],
   "source": [
    "sample_df[\"Notebook use\"].value_counts(normalize=True)\n"
   ],
   "metadata": {
    "collapsed": false,
    "ExecuteTime": {
     "end_time": "2023-09-28T15:55:57.459230Z",
     "start_time": "2023-09-28T15:55:57.441297Z"
    }
   }
  },
  {
   "cell_type": "code",
   "execution_count": 7,
   "outputs": [
    {
     "data": {
      "text/plain": "29"
     },
     "execution_count": 7,
     "metadata": {},
     "output_type": "execute_result"
    }
   ],
   "source": [
    "sum(sample_df.ML) + sum(sample_df.DA)\n"
   ],
   "metadata": {
    "collapsed": false,
    "ExecuteTime": {
     "end_time": "2023-09-28T15:55:57.459379Z",
     "start_time": "2023-09-28T15:55:57.443853Z"
    }
   }
  },
  {
   "cell_type": "code",
   "execution_count": 8,
   "outputs": [
    {
     "data": {
      "text/plain": "   action_id                     time                            session_id  \\\n0          0  2023-05-06 10:32:26.282  709ce80b-90a5-457e-bf6f-b7033a3261b5   \n1          1  2023-05-06 10:32:55.892  709ce80b-90a5-457e-bf6f-b7033a3261b5   \n2          2  2023-05-06 10:32:56.229  709ce80b-90a5-457e-bf6f-b7033a3261b5   \n3          3  2023-05-06 10:32:58.048  709ce80b-90a5-457e-bf6f-b7033a3261b5   \n4          4  2023-05-06 10:32:58.429  709ce80b-90a5-457e-bf6f-b7033a3261b5   \n\n                              kernel_id notebook_name             event  \\\n0  bc147b33-fa74-4bff-9f48-c88809c5bdcd   task1.ipynb     save_notebook   \n1  bc147b33-fa74-4bff-9f48-c88809c5bdcd   task1.ipynb           execute   \n2  bc147b33-fa74-4bff-9f48-c88809c5bdcd   task1.ipynb  finished_execute   \n3  bc147b33-fa74-4bff-9f48-c88809c5bdcd   task1.ipynb           execute   \n4  bc147b33-fa74-4bff-9f48-c88809c5bdcd   task1.ipynb  finished_execute   \n\n                         cell_index  cell_num cell_type  \\\n0                               NaN       NaN       NaN   \n1  35c0b3b694f84140846a21197ea62f68       0.0      code   \n2  35c0b3b694f84140846a21197ea62f68       0.0      code   \n3  35c0b3b694f84140846a21197ea62f68       0.0      code   \n4  35c0b3b694f84140846a21197ea62f68       0.0      code   \n\n                                         cell_source  \\\n0  [\\n  {\\n    \"id\": \"35c0b3b694f84140846a21197ea...   \n1  from mining_extension import check_logging \\nc...   \n2  from mining_extension import check_logging \\nc...   \n3  from mining_extension import check_logging \\nc...   \n4  from mining_extension import check_logging \\nc...   \n\n                            cell_output    user_id  expert        cell_label  \n0                                   NaN  student_7   False               NaN  \n1                                   NaN  student_7   False  helper_functions  \n2  [{\"output_type\":\"stream\",\"size\":23}]  student_7   False  helper_functions  \n3                                   NaN  student_7   False  helper_functions  \n4  [{\"output_type\":\"stream\",\"size\":23}]  student_7   False  helper_functions  ",
      "text/html": "<div>\n<style scoped>\n    .dataframe tbody tr th:only-of-type {\n        vertical-align: middle;\n    }\n\n    .dataframe tbody tr th {\n        vertical-align: top;\n    }\n\n    .dataframe thead th {\n        text-align: right;\n    }\n</style>\n<table border=\"1\" class=\"dataframe\">\n  <thead>\n    <tr style=\"text-align: right;\">\n      <th></th>\n      <th>action_id</th>\n      <th>time</th>\n      <th>session_id</th>\n      <th>kernel_id</th>\n      <th>notebook_name</th>\n      <th>event</th>\n      <th>cell_index</th>\n      <th>cell_num</th>\n      <th>cell_type</th>\n      <th>cell_source</th>\n      <th>cell_output</th>\n      <th>user_id</th>\n      <th>expert</th>\n      <th>cell_label</th>\n    </tr>\n  </thead>\n  <tbody>\n    <tr>\n      <th>0</th>\n      <td>0</td>\n      <td>2023-05-06 10:32:26.282</td>\n      <td>709ce80b-90a5-457e-bf6f-b7033a3261b5</td>\n      <td>bc147b33-fa74-4bff-9f48-c88809c5bdcd</td>\n      <td>task1.ipynb</td>\n      <td>save_notebook</td>\n      <td>NaN</td>\n      <td>NaN</td>\n      <td>NaN</td>\n      <td>[\\n  {\\n    \"id\": \"35c0b3b694f84140846a21197ea...</td>\n      <td>NaN</td>\n      <td>student_7</td>\n      <td>False</td>\n      <td>NaN</td>\n    </tr>\n    <tr>\n      <th>1</th>\n      <td>1</td>\n      <td>2023-05-06 10:32:55.892</td>\n      <td>709ce80b-90a5-457e-bf6f-b7033a3261b5</td>\n      <td>bc147b33-fa74-4bff-9f48-c88809c5bdcd</td>\n      <td>task1.ipynb</td>\n      <td>execute</td>\n      <td>35c0b3b694f84140846a21197ea62f68</td>\n      <td>0.0</td>\n      <td>code</td>\n      <td>from mining_extension import check_logging \\nc...</td>\n      <td>NaN</td>\n      <td>student_7</td>\n      <td>False</td>\n      <td>helper_functions</td>\n    </tr>\n    <tr>\n      <th>2</th>\n      <td>2</td>\n      <td>2023-05-06 10:32:56.229</td>\n      <td>709ce80b-90a5-457e-bf6f-b7033a3261b5</td>\n      <td>bc147b33-fa74-4bff-9f48-c88809c5bdcd</td>\n      <td>task1.ipynb</td>\n      <td>finished_execute</td>\n      <td>35c0b3b694f84140846a21197ea62f68</td>\n      <td>0.0</td>\n      <td>code</td>\n      <td>from mining_extension import check_logging \\nc...</td>\n      <td>[{\"output_type\":\"stream\",\"size\":23}]</td>\n      <td>student_7</td>\n      <td>False</td>\n      <td>helper_functions</td>\n    </tr>\n    <tr>\n      <th>3</th>\n      <td>3</td>\n      <td>2023-05-06 10:32:58.048</td>\n      <td>709ce80b-90a5-457e-bf6f-b7033a3261b5</td>\n      <td>bc147b33-fa74-4bff-9f48-c88809c5bdcd</td>\n      <td>task1.ipynb</td>\n      <td>execute</td>\n      <td>35c0b3b694f84140846a21197ea62f68</td>\n      <td>0.0</td>\n      <td>code</td>\n      <td>from mining_extension import check_logging \\nc...</td>\n      <td>NaN</td>\n      <td>student_7</td>\n      <td>False</td>\n      <td>helper_functions</td>\n    </tr>\n    <tr>\n      <th>4</th>\n      <td>4</td>\n      <td>2023-05-06 10:32:58.429</td>\n      <td>709ce80b-90a5-457e-bf6f-b7033a3261b5</td>\n      <td>bc147b33-fa74-4bff-9f48-c88809c5bdcd</td>\n      <td>task1.ipynb</td>\n      <td>finished_execute</td>\n      <td>35c0b3b694f84140846a21197ea62f68</td>\n      <td>0.0</td>\n      <td>code</td>\n      <td>from mining_extension import check_logging \\nc...</td>\n      <td>[{\"output_type\":\"stream\",\"size\":23}]</td>\n      <td>student_7</td>\n      <td>False</td>\n      <td>helper_functions</td>\n    </tr>\n  </tbody>\n</table>\n</div>"
     },
     "execution_count": 8,
     "metadata": {},
     "output_type": "execute_result"
    }
   ],
   "source": [
    "df_hack = pd.read_csv(config.get(\"dataset_path\"), index_col=0)\n",
    "df_labels = pd.read_csv(config.get(\"label_mapping_path\"), index_col=0)\n",
    "df_hack = df_hack.merge(df_labels, on='action_id')\n",
    "\n",
    "df_hack.head()\n"
   ],
   "metadata": {
    "collapsed": false,
    "ExecuteTime": {
     "end_time": "2023-09-28T15:55:57.567610Z",
     "start_time": "2023-09-28T15:55:57.446565Z"
    }
   }
  },
  {
   "cell_type": "code",
   "execution_count": 9,
   "outputs": [
    {
     "data": {
      "text/plain": "2655"
     },
     "execution_count": 9,
     "metadata": {},
     "output_type": "execute_result"
    }
   ],
   "source": [
    "len(df_hack.cell_index.dropna().unique())\n"
   ],
   "metadata": {
    "collapsed": false,
    "ExecuteTime": {
     "end_time": "2023-09-28T15:55:57.567881Z",
     "start_time": "2023-09-28T15:55:57.536404Z"
    }
   }
  },
  {
   "cell_type": "code",
   "execution_count": 10,
   "outputs": [
    {
     "data": {
      "text/plain": "23622"
     },
     "execution_count": 10,
     "metadata": {},
     "output_type": "execute_result"
    }
   ],
   "source": [
    "len(df_hack)\n"
   ],
   "metadata": {
    "collapsed": false,
    "ExecuteTime": {
     "end_time": "2023-09-28T15:55:57.567961Z",
     "start_time": "2023-09-28T15:55:57.540184Z"
    }
   }
  },
  {
   "cell_type": "code",
   "execution_count": 11,
   "outputs": [
    {
     "data": {
      "text/plain": "9207"
     },
     "execution_count": 11,
     "metadata": {},
     "output_type": "execute_result"
    }
   ],
   "source": [
    "len(df_hack[df_hack.event == 'execute'])\n"
   ],
   "metadata": {
    "collapsed": false,
    "ExecuteTime": {
     "end_time": "2023-09-28T15:55:57.568068Z",
     "start_time": "2023-09-28T15:55:57.543150Z"
    }
   }
  },
  {
   "cell_type": "code",
   "execution_count": 12,
   "outputs": [
    {
     "data": {
      "text/plain": "730"
     },
     "execution_count": 12,
     "metadata": {},
     "output_type": "execute_result"
    }
   ],
   "source": [
    "len(df_hack[df_hack.event == 'delete'])\n"
   ],
   "metadata": {
    "collapsed": false,
    "ExecuteTime": {
     "end_time": "2023-09-28T15:55:57.568112Z",
     "start_time": "2023-09-28T15:55:57.547193Z"
    }
   }
  },
  {
   "cell_type": "code",
   "execution_count": 13,
   "outputs": [
    {
     "data": {
      "text/plain": "1930"
     },
     "execution_count": 13,
     "metadata": {},
     "output_type": "execute_result"
    }
   ],
   "source": [
    "len(df_hack[df_hack.event == 'create'])\n"
   ],
   "metadata": {
    "collapsed": false,
    "ExecuteTime": {
     "end_time": "2023-09-28T15:55:57.568853Z",
     "start_time": "2023-09-28T15:55:57.550384Z"
    }
   }
  },
  {
   "cell_type": "code",
   "execution_count": 14,
   "outputs": [
    {
     "data": {
      "text/plain": "730"
     },
     "execution_count": 14,
     "metadata": {},
     "output_type": "execute_result"
    }
   ],
   "source": [
    "len(df_hack[df_hack.event == 'delete'])\n"
   ],
   "metadata": {
    "collapsed": false,
    "ExecuteTime": {
     "end_time": "2023-09-28T15:55:57.568901Z",
     "start_time": "2023-09-28T15:55:57.552880Z"
    }
   }
  },
  {
   "cell_type": "code",
   "execution_count": 15,
   "outputs": [
    {
     "data": {
      "text/plain": "14641"
     },
     "execution_count": 15,
     "metadata": {},
     "output_type": "execute_result"
    }
   ],
   "source": [
    "len(df_hack[~(df_hack.event == 'finished_execute')])\n"
   ],
   "metadata": {
    "collapsed": false,
    "ExecuteTime": {
     "end_time": "2023-09-28T15:55:57.568942Z",
     "start_time": "2023-09-28T15:55:57.558204Z"
    }
   }
  },
  {
   "cell_type": "code",
   "execution_count": 18,
   "outputs": [
    {
     "data": {
      "text/plain": "                      fraction\ncell_label                    \ndata_exploration      0.280528\ncomment_only          0.261196\ndata_preprocessing    0.227365\nhelper_functions      0.110783\nload_data             0.041403\nmodelling             0.040168\nprediction            0.021426\nresult_visualization  0.014123\nevaluation            0.002041\nsave_results          0.000967",
      "text/html": "<div>\n<style scoped>\n    .dataframe tbody tr th:only-of-type {\n        vertical-align: middle;\n    }\n\n    .dataframe tbody tr th {\n        vertical-align: top;\n    }\n\n    .dataframe thead th {\n        text-align: right;\n    }\n</style>\n<table border=\"1\" class=\"dataframe\">\n  <thead>\n    <tr style=\"text-align: right;\">\n      <th></th>\n      <th>fraction</th>\n    </tr>\n    <tr>\n      <th>cell_label</th>\n      <th></th>\n    </tr>\n  </thead>\n  <tbody>\n    <tr>\n      <th>data_exploration</th>\n      <td>0.280528</td>\n    </tr>\n    <tr>\n      <th>comment_only</th>\n      <td>0.261196</td>\n    </tr>\n    <tr>\n      <th>data_preprocessing</th>\n      <td>0.227365</td>\n    </tr>\n    <tr>\n      <th>helper_functions</th>\n      <td>0.110783</td>\n    </tr>\n    <tr>\n      <th>load_data</th>\n      <td>0.041403</td>\n    </tr>\n    <tr>\n      <th>modelling</th>\n      <td>0.040168</td>\n    </tr>\n    <tr>\n      <th>prediction</th>\n      <td>0.021426</td>\n    </tr>\n    <tr>\n      <th>result_visualization</th>\n      <td>0.014123</td>\n    </tr>\n    <tr>\n      <th>evaluation</th>\n      <td>0.002041</td>\n    </tr>\n    <tr>\n      <th>save_results</th>\n      <td>0.000967</td>\n    </tr>\n  </tbody>\n</table>\n</div>"
     },
     "execution_count": 18,
     "metadata": {},
     "output_type": "execute_result"
    }
   ],
   "source": [
    "df_hack.cell_label.value_counts(normalize=True).to_frame(name=\"fraction\")\n"
   ],
   "metadata": {
    "collapsed": false,
    "ExecuteTime": {
     "end_time": "2023-09-28T16:01:22.351099Z",
     "start_time": "2023-09-28T16:01:22.348204Z"
    }
   }
  },
  {
   "cell_type": "code",
   "execution_count": 16,
   "outputs": [],
   "source": [],
   "metadata": {
    "collapsed": false,
    "ExecuteTime": {
     "end_time": "2023-09-28T15:55:57.569011Z",
     "start_time": "2023-09-28T15:55:57.565007Z"
    }
   }
  }
 ],
 "metadata": {
  "kernelspec": {
   "display_name": "Python 3",
   "language": "python",
   "name": "python3"
  },
  "language_info": {
   "codemirror_mode": {
    "name": "ipython",
    "version": 2
   },
   "file_extension": ".py",
   "mimetype": "text/x-python",
   "name": "python",
   "nbconvert_exporter": "python",
   "pygments_lexer": "ipython2",
   "version": "2.7.6"
  }
 },
 "nbformat": 4,
 "nbformat_minor": 0
}
