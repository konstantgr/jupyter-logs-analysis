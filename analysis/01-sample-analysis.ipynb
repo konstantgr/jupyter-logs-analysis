{
 "cells": [
  {
   "cell_type": "code",
   "execution_count": 1,
   "metadata": {
    "collapsed": true,
    "ExecuteTime": {
     "end_time": "2023-09-19T16:57:25.565392Z",
     "start_time": "2023-09-19T16:57:25.538422Z"
    }
   },
   "outputs": [],
   "source": [
    "import pandas as pd\n",
    "import sqlite3"
   ]
  },
  {
   "cell_type": "code",
   "execution_count": 4,
   "outputs": [
    {
     "data": {
      "text/plain": "   User_id   Status  Expirience                      Notebook use    ML    DA  \\\n0        1  Student          36  Often (more then 3 times a week)  True  True   \n1        2  Student          36      Sometimes (1-2 times a week)  True  True   \n2        3  Student          12  Often (more then 3 times a week)  True  True   \n3        4  Student          50  Often (more then 3 times a week)  True  True   \n4        5  Student          20  Often (more then 3 times a week)  True  True   \n\n  Participated  note Hacathon  \n0          yes   NaN      YES  \n1          yes   NaN      YES  \n2          yes   NaN      YES  \n3          yes   NaN      YES  \n4          yes   NaN      YES  ",
      "text/html": "<div>\n<style scoped>\n    .dataframe tbody tr th:only-of-type {\n        vertical-align: middle;\n    }\n\n    .dataframe tbody tr th {\n        vertical-align: top;\n    }\n\n    .dataframe thead th {\n        text-align: right;\n    }\n</style>\n<table border=\"1\" class=\"dataframe\">\n  <thead>\n    <tr style=\"text-align: right;\">\n      <th></th>\n      <th>User_id</th>\n      <th>Status</th>\n      <th>Expirience</th>\n      <th>Notebook use</th>\n      <th>ML</th>\n      <th>DA</th>\n      <th>Participated</th>\n      <th>note</th>\n      <th>Hacathon</th>\n    </tr>\n  </thead>\n  <tbody>\n    <tr>\n      <th>0</th>\n      <td>1</td>\n      <td>Student</td>\n      <td>36</td>\n      <td>Often (more then 3 times a week)</td>\n      <td>True</td>\n      <td>True</td>\n      <td>yes</td>\n      <td>NaN</td>\n      <td>YES</td>\n    </tr>\n    <tr>\n      <th>1</th>\n      <td>2</td>\n      <td>Student</td>\n      <td>36</td>\n      <td>Sometimes (1-2 times a week)</td>\n      <td>True</td>\n      <td>True</td>\n      <td>yes</td>\n      <td>NaN</td>\n      <td>YES</td>\n    </tr>\n    <tr>\n      <th>2</th>\n      <td>3</td>\n      <td>Student</td>\n      <td>12</td>\n      <td>Often (more then 3 times a week)</td>\n      <td>True</td>\n      <td>True</td>\n      <td>yes</td>\n      <td>NaN</td>\n      <td>YES</td>\n    </tr>\n    <tr>\n      <th>3</th>\n      <td>4</td>\n      <td>Student</td>\n      <td>50</td>\n      <td>Often (more then 3 times a week)</td>\n      <td>True</td>\n      <td>True</td>\n      <td>yes</td>\n      <td>NaN</td>\n      <td>YES</td>\n    </tr>\n    <tr>\n      <th>4</th>\n      <td>5</td>\n      <td>Student</td>\n      <td>20</td>\n      <td>Often (more then 3 times a week)</td>\n      <td>True</td>\n      <td>True</td>\n      <td>yes</td>\n      <td>NaN</td>\n      <td>YES</td>\n    </tr>\n  </tbody>\n</table>\n</div>"
     },
     "execution_count": 4,
     "metadata": {},
     "output_type": "execute_result"
    }
   ],
   "source": [
    "sample_df = pd.read_csv('../data/Sample.csv')"
   ],
   "metadata": {
    "collapsed": false,
    "ExecuteTime": {
     "end_time": "2023-09-19T16:57:41.649404Z",
     "start_time": "2023-09-19T16:57:41.629642Z"
    }
   }
  },
  {
   "cell_type": "code",
   "execution_count": 6,
   "outputs": [
    {
     "data": {
      "text/plain": "20"
     },
     "execution_count": 6,
     "metadata": {},
     "output_type": "execute_result"
    }
   ],
   "source": [
    "n_participants = len(sample_df)\n",
    "n_participants"
   ],
   "metadata": {
    "collapsed": false,
    "ExecuteTime": {
     "end_time": "2023-09-19T16:57:45.627472Z",
     "start_time": "2023-09-19T16:57:45.608916Z"
    }
   }
  },
  {
   "cell_type": "code",
   "execution_count": 7,
   "outputs": [
    {
     "data": {
      "text/plain": "             User_id                                                     \\\n               count       mean       std   min   25%   50%   75%   max   \nStatus                                                                    \nProfessional     9.0  14.000000  2.738613  10.0  12.0  14.0  16.0  18.0   \nStudent         11.0   7.636364  6.360389   1.0   3.5   6.0   8.5  20.0   \n\n             Expirience             ...               note                   \\\n                  count       mean  ...   75%    max count mean std min 25%   \nStatus                              ...                                       \nProfessional        9.0  56.333333  ...  60.0  120.0   0.0  NaN NaN NaN NaN   \nStudent            11.0  33.272727  ...  36.0   50.0   0.0  NaN NaN NaN NaN   \n\n                          \n             50% 75% max  \nStatus                    \nProfessional NaN NaN NaN  \nStudent      NaN NaN NaN  \n\n[2 rows x 24 columns]",
      "text/html": "<div>\n<style scoped>\n    .dataframe tbody tr th:only-of-type {\n        vertical-align: middle;\n    }\n\n    .dataframe tbody tr th {\n        vertical-align: top;\n    }\n\n    .dataframe thead tr th {\n        text-align: left;\n    }\n\n    .dataframe thead tr:last-of-type th {\n        text-align: right;\n    }\n</style>\n<table border=\"1\" class=\"dataframe\">\n  <thead>\n    <tr>\n      <th></th>\n      <th colspan=\"8\" halign=\"left\">User_id</th>\n      <th colspan=\"5\" halign=\"left\">Expirience</th>\n      <th colspan=\"8\" halign=\"left\">note</th>\n    </tr>\n    <tr>\n      <th></th>\n      <th>count</th>\n      <th>mean</th>\n      <th>std</th>\n      <th>min</th>\n      <th>25%</th>\n      <th>50%</th>\n      <th>75%</th>\n      <th>max</th>\n      <th>count</th>\n      <th>mean</th>\n      <th>...</th>\n      <th>75%</th>\n      <th>max</th>\n      <th>count</th>\n      <th>mean</th>\n      <th>std</th>\n      <th>min</th>\n      <th>25%</th>\n      <th>50%</th>\n      <th>75%</th>\n      <th>max</th>\n    </tr>\n    <tr>\n      <th>Status</th>\n      <th></th>\n      <th></th>\n      <th></th>\n      <th></th>\n      <th></th>\n      <th></th>\n      <th></th>\n      <th></th>\n      <th></th>\n      <th></th>\n      <th></th>\n      <th></th>\n      <th></th>\n      <th></th>\n      <th></th>\n      <th></th>\n      <th></th>\n      <th></th>\n      <th></th>\n      <th></th>\n      <th></th>\n    </tr>\n  </thead>\n  <tbody>\n    <tr>\n      <th>Professional</th>\n      <td>9.0</td>\n      <td>14.000000</td>\n      <td>2.738613</td>\n      <td>10.0</td>\n      <td>12.0</td>\n      <td>14.0</td>\n      <td>16.0</td>\n      <td>18.0</td>\n      <td>9.0</td>\n      <td>56.333333</td>\n      <td>...</td>\n      <td>60.0</td>\n      <td>120.0</td>\n      <td>0.0</td>\n      <td>NaN</td>\n      <td>NaN</td>\n      <td>NaN</td>\n      <td>NaN</td>\n      <td>NaN</td>\n      <td>NaN</td>\n      <td>NaN</td>\n    </tr>\n    <tr>\n      <th>Student</th>\n      <td>11.0</td>\n      <td>7.636364</td>\n      <td>6.360389</td>\n      <td>1.0</td>\n      <td>3.5</td>\n      <td>6.0</td>\n      <td>8.5</td>\n      <td>20.0</td>\n      <td>11.0</td>\n      <td>33.272727</td>\n      <td>...</td>\n      <td>36.0</td>\n      <td>50.0</td>\n      <td>0.0</td>\n      <td>NaN</td>\n      <td>NaN</td>\n      <td>NaN</td>\n      <td>NaN</td>\n      <td>NaN</td>\n      <td>NaN</td>\n      <td>NaN</td>\n    </tr>\n  </tbody>\n</table>\n<p>2 rows × 24 columns</p>\n</div>"
     },
     "execution_count": 7,
     "metadata": {},
     "output_type": "execute_result"
    }
   ],
   "source": [
    "sample_df.groupby('Status').describe()"
   ],
   "metadata": {
    "collapsed": false,
    "ExecuteTime": {
     "end_time": "2023-09-19T16:57:47.148191Z",
     "start_time": "2023-09-19T16:57:47.129912Z"
    }
   }
  },
  {
   "cell_type": "code",
   "execution_count": 8,
   "outputs": [
    {
     "data": {
      "text/plain": "29"
     },
     "execution_count": 8,
     "metadata": {},
     "output_type": "execute_result"
    }
   ],
   "source": [
    "sum(sample_df.ML) + sum(sample_df.DA)"
   ],
   "metadata": {
    "collapsed": false,
    "ExecuteTime": {
     "end_time": "2023-09-19T16:57:49.637236Z",
     "start_time": "2023-09-19T16:57:49.616849Z"
    }
   }
  },
  {
   "cell_type": "code",
   "execution_count": 9,
   "outputs": [
    {
     "data": {
      "text/plain": "   action_id                     time                            session_id  \\\n0          0  2023-05-06 10:32:26.282  709ce80b-90a5-457e-bf6f-b7033a3261b5   \n1          1  2023-05-06 10:32:55.892  709ce80b-90a5-457e-bf6f-b7033a3261b5   \n2          2  2023-05-06 10:32:56.229  709ce80b-90a5-457e-bf6f-b7033a3261b5   \n3          3  2023-05-06 10:32:58.048  709ce80b-90a5-457e-bf6f-b7033a3261b5   \n4          4  2023-05-06 10:32:58.429  709ce80b-90a5-457e-bf6f-b7033a3261b5   \n\n                              kernel_id notebook_name             event  \\\n0  bc147b33-fa74-4bff-9f48-c88809c5bdcd   task1.ipynb     save_notebook   \n1  bc147b33-fa74-4bff-9f48-c88809c5bdcd   task1.ipynb           execute   \n2  bc147b33-fa74-4bff-9f48-c88809c5bdcd   task1.ipynb  finished_execute   \n3  bc147b33-fa74-4bff-9f48-c88809c5bdcd   task1.ipynb           execute   \n4  bc147b33-fa74-4bff-9f48-c88809c5bdcd   task1.ipynb  finished_execute   \n\n                         cell_index  cell_num cell_type  \\\n0                               NaN       NaN       NaN   \n1  35c0b3b694f84140846a21197ea62f68       0.0      code   \n2  35c0b3b694f84140846a21197ea62f68       0.0      code   \n3  35c0b3b694f84140846a21197ea62f68       0.0      code   \n4  35c0b3b694f84140846a21197ea62f68       0.0      code   \n\n                                         cell_source  \\\n0  [\\n  {\\n    \"id\": \"35c0b3b694f84140846a21197ea...   \n1  from mining_extension import check_logging \\nc...   \n2  from mining_extension import check_logging \\nc...   \n3  from mining_extension import check_logging \\nc...   \n4  from mining_extension import check_logging \\nc...   \n\n                            cell_output    user_id  expert        cell_label  \n0                                   NaN  student_7   False               NaN  \n1                                   NaN  student_7   False  helper_functions  \n2  [{\"output_type\":\"stream\",\"size\":23}]  student_7   False  helper_functions  \n3                                   NaN  student_7   False  helper_functions  \n4  [{\"output_type\":\"stream\",\"size\":23}]  student_7   False  helper_functions  ",
      "text/html": "<div>\n<style scoped>\n    .dataframe tbody tr th:only-of-type {\n        vertical-align: middle;\n    }\n\n    .dataframe tbody tr th {\n        vertical-align: top;\n    }\n\n    .dataframe thead th {\n        text-align: right;\n    }\n</style>\n<table border=\"1\" class=\"dataframe\">\n  <thead>\n    <tr style=\"text-align: right;\">\n      <th></th>\n      <th>action_id</th>\n      <th>time</th>\n      <th>session_id</th>\n      <th>kernel_id</th>\n      <th>notebook_name</th>\n      <th>event</th>\n      <th>cell_index</th>\n      <th>cell_num</th>\n      <th>cell_type</th>\n      <th>cell_source</th>\n      <th>cell_output</th>\n      <th>user_id</th>\n      <th>expert</th>\n      <th>cell_label</th>\n    </tr>\n  </thead>\n  <tbody>\n    <tr>\n      <th>0</th>\n      <td>0</td>\n      <td>2023-05-06 10:32:26.282</td>\n      <td>709ce80b-90a5-457e-bf6f-b7033a3261b5</td>\n      <td>bc147b33-fa74-4bff-9f48-c88809c5bdcd</td>\n      <td>task1.ipynb</td>\n      <td>save_notebook</td>\n      <td>NaN</td>\n      <td>NaN</td>\n      <td>NaN</td>\n      <td>[\\n  {\\n    \"id\": \"35c0b3b694f84140846a21197ea...</td>\n      <td>NaN</td>\n      <td>student_7</td>\n      <td>False</td>\n      <td>NaN</td>\n    </tr>\n    <tr>\n      <th>1</th>\n      <td>1</td>\n      <td>2023-05-06 10:32:55.892</td>\n      <td>709ce80b-90a5-457e-bf6f-b7033a3261b5</td>\n      <td>bc147b33-fa74-4bff-9f48-c88809c5bdcd</td>\n      <td>task1.ipynb</td>\n      <td>execute</td>\n      <td>35c0b3b694f84140846a21197ea62f68</td>\n      <td>0.0</td>\n      <td>code</td>\n      <td>from mining_extension import check_logging \\nc...</td>\n      <td>NaN</td>\n      <td>student_7</td>\n      <td>False</td>\n      <td>helper_functions</td>\n    </tr>\n    <tr>\n      <th>2</th>\n      <td>2</td>\n      <td>2023-05-06 10:32:56.229</td>\n      <td>709ce80b-90a5-457e-bf6f-b7033a3261b5</td>\n      <td>bc147b33-fa74-4bff-9f48-c88809c5bdcd</td>\n      <td>task1.ipynb</td>\n      <td>finished_execute</td>\n      <td>35c0b3b694f84140846a21197ea62f68</td>\n      <td>0.0</td>\n      <td>code</td>\n      <td>from mining_extension import check_logging \\nc...</td>\n      <td>[{\"output_type\":\"stream\",\"size\":23}]</td>\n      <td>student_7</td>\n      <td>False</td>\n      <td>helper_functions</td>\n    </tr>\n    <tr>\n      <th>3</th>\n      <td>3</td>\n      <td>2023-05-06 10:32:58.048</td>\n      <td>709ce80b-90a5-457e-bf6f-b7033a3261b5</td>\n      <td>bc147b33-fa74-4bff-9f48-c88809c5bdcd</td>\n      <td>task1.ipynb</td>\n      <td>execute</td>\n      <td>35c0b3b694f84140846a21197ea62f68</td>\n      <td>0.0</td>\n      <td>code</td>\n      <td>from mining_extension import check_logging \\nc...</td>\n      <td>NaN</td>\n      <td>student_7</td>\n      <td>False</td>\n      <td>helper_functions</td>\n    </tr>\n    <tr>\n      <th>4</th>\n      <td>4</td>\n      <td>2023-05-06 10:32:58.429</td>\n      <td>709ce80b-90a5-457e-bf6f-b7033a3261b5</td>\n      <td>bc147b33-fa74-4bff-9f48-c88809c5bdcd</td>\n      <td>task1.ipynb</td>\n      <td>finished_execute</td>\n      <td>35c0b3b694f84140846a21197ea62f68</td>\n      <td>0.0</td>\n      <td>code</td>\n      <td>from mining_extension import check_logging \\nc...</td>\n      <td>[{\"output_type\":\"stream\",\"size\":23}]</td>\n      <td>student_7</td>\n      <td>False</td>\n      <td>helper_functions</td>\n    </tr>\n  </tbody>\n</table>\n</div>"
     },
     "execution_count": 9,
     "metadata": {},
     "output_type": "execute_result"
    }
   ],
   "source": [
    "from pathlib import Path\n",
    "from data_loading import read_hackathon_data\n",
    "\n",
    "path = Path(\"data_config.yaml\")\n",
    "df_hack = read_hackathon_data(path, attach_users=True)\n",
    "df_hack.head()\n"
   ],
   "metadata": {
    "collapsed": false,
    "ExecuteTime": {
     "end_time": "2023-09-19T16:58:17.557757Z",
     "start_time": "2023-09-19T16:58:17.414474Z"
    }
   }
  },
  {
   "cell_type": "code",
   "execution_count": 12,
   "outputs": [
    {
     "data": {
      "text/plain": "2655"
     },
     "execution_count": 12,
     "metadata": {},
     "output_type": "execute_result"
    }
   ],
   "source": [
    "len(df_hack.cell_index.dropna().unique())"
   ],
   "metadata": {
    "collapsed": false,
    "ExecuteTime": {
     "end_time": "2023-09-19T16:58:39.980803Z",
     "start_time": "2023-09-19T16:58:39.952604Z"
    }
   }
  },
  {
   "cell_type": "code",
   "execution_count": 13,
   "outputs": [
    {
     "data": {
      "text/plain": "23622"
     },
     "execution_count": 13,
     "metadata": {},
     "output_type": "execute_result"
    }
   ],
   "source": [
    "len(df_hack)"
   ],
   "metadata": {
    "collapsed": false,
    "ExecuteTime": {
     "end_time": "2023-09-19T16:58:40.259817Z",
     "start_time": "2023-09-19T16:58:40.240032Z"
    }
   }
  },
  {
   "cell_type": "code",
   "execution_count": 14,
   "outputs": [
    {
     "data": {
      "text/plain": "9207"
     },
     "execution_count": 14,
     "metadata": {},
     "output_type": "execute_result"
    }
   ],
   "source": [
    "len(df_hack[df_hack.event == 'execute'])"
   ],
   "metadata": {
    "collapsed": false,
    "ExecuteTime": {
     "end_time": "2023-09-19T16:58:40.529391Z",
     "start_time": "2023-09-19T16:58:40.508251Z"
    }
   }
  },
  {
   "cell_type": "code",
   "execution_count": 15,
   "outputs": [
    {
     "data": {
      "text/plain": "730"
     },
     "execution_count": 15,
     "metadata": {},
     "output_type": "execute_result"
    }
   ],
   "source": [
    "len(df_hack[df_hack.event == 'delete'])"
   ],
   "metadata": {
    "collapsed": false,
    "ExecuteTime": {
     "end_time": "2023-09-19T16:58:41.081780Z",
     "start_time": "2023-09-19T16:58:41.063068Z"
    }
   }
  },
  {
   "cell_type": "code",
   "execution_count": 16,
   "outputs": [
    {
     "data": {
      "text/plain": "1930"
     },
     "execution_count": 16,
     "metadata": {},
     "output_type": "execute_result"
    }
   ],
   "source": [
    "len(df_hack[df_hack.event == 'create'])"
   ],
   "metadata": {
    "collapsed": false,
    "ExecuteTime": {
     "end_time": "2023-09-19T16:58:41.429442Z",
     "start_time": "2023-09-19T16:58:41.406205Z"
    }
   }
  },
  {
   "cell_type": "code",
   "execution_count": 17,
   "outputs": [
    {
     "data": {
      "text/plain": "730"
     },
     "execution_count": 17,
     "metadata": {},
     "output_type": "execute_result"
    }
   ],
   "source": [
    "len(df_hack[df_hack.event == 'delete'])"
   ],
   "metadata": {
    "collapsed": false,
    "ExecuteTime": {
     "end_time": "2023-09-19T16:58:41.945442Z",
     "start_time": "2023-09-19T16:58:41.905750Z"
    }
   }
  },
  {
   "cell_type": "code",
   "execution_count": 17,
   "outputs": [],
   "source": [
    "df_hack"
   ],
   "metadata": {
    "collapsed": false,
    "ExecuteTime": {
     "end_time": "2023-09-19T16:58:43.194243Z",
     "start_time": "2023-09-19T16:58:43.175196Z"
    }
   }
  },
  {
   "cell_type": "code",
   "execution_count": null,
   "outputs": [],
   "source": [],
   "metadata": {
    "collapsed": false
   }
  }
 ],
 "metadata": {
  "kernelspec": {
   "display_name": "Python 3",
   "language": "python",
   "name": "python3"
  },
  "language_info": {
   "codemirror_mode": {
    "name": "ipython",
    "version": 2
   },
   "file_extension": ".py",
   "mimetype": "text/x-python",
   "name": "python",
   "nbconvert_exporter": "python",
   "pygments_lexer": "ipython2",
   "version": "2.7.6"
  }
 },
 "nbformat": 4,
 "nbformat_minor": 0
}
