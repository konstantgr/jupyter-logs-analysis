{
 "cells": [
  {
   "cell_type": "code",
   "execution_count": 3,
   "metadata": {
    "collapsed": true,
    "ExecuteTime": {
     "end_time": "2023-08-08T11:38:16.535227Z",
     "start_time": "2023-08-08T11:38:16.533070Z"
    }
   },
   "outputs": [],
   "source": [
    "import pandas as pd\n",
    "import sqlite3"
   ]
  },
  {
   "cell_type": "code",
   "execution_count": 56,
   "outputs": [],
   "source": [
    "sample_df = pd.read_csv('../data/Sample.csv')"
   ],
   "metadata": {
    "collapsed": false,
    "ExecuteTime": {
     "end_time": "2023-08-08T12:28:45.841277Z",
     "start_time": "2023-08-08T12:28:45.837807Z"
    }
   }
  },
  {
   "cell_type": "code",
   "execution_count": 59,
   "outputs": [
    {
     "data": {
      "text/plain": "20"
     },
     "execution_count": 59,
     "metadata": {},
     "output_type": "execute_result"
    }
   ],
   "source": [
    "n_participants = len(sample_df)\n",
    "n_participants"
   ],
   "metadata": {
    "collapsed": false,
    "ExecuteTime": {
     "end_time": "2023-08-08T12:29:30.755755Z",
     "start_time": "2023-08-08T12:29:30.753556Z"
    }
   }
  },
  {
   "cell_type": "code",
   "execution_count": 64,
   "outputs": [
    {
     "data": {
      "text/plain": "             User_id                                                     \\\n               count       mean       std   min   25%   50%   75%   max   \nStatus                                                                    \nProfessional     9.0  14.000000  2.738613  10.0  12.0  14.0  16.0  18.0   \nStudent         11.0   7.636364  6.360389   1.0   3.5   6.0   8.5  20.0   \n\n             Expirience                                                      \n                  count       mean        std   min   25%   50%   75%   max  \nStatus                                                                       \nProfessional        3.0  60.666667  17.009801  48.0  51.0  54.0  67.0  80.0  \nStudent             9.0  33.333333  12.767145  12.0  24.0  36.0  36.0  50.0  ",
      "text/html": "<div>\n<style scoped>\n    .dataframe tbody tr th:only-of-type {\n        vertical-align: middle;\n    }\n\n    .dataframe tbody tr th {\n        vertical-align: top;\n    }\n\n    .dataframe thead tr th {\n        text-align: left;\n    }\n\n    .dataframe thead tr:last-of-type th {\n        text-align: right;\n    }\n</style>\n<table border=\"1\" class=\"dataframe\">\n  <thead>\n    <tr>\n      <th></th>\n      <th colspan=\"8\" halign=\"left\">User_id</th>\n      <th colspan=\"8\" halign=\"left\">Expirience</th>\n    </tr>\n    <tr>\n      <th></th>\n      <th>count</th>\n      <th>mean</th>\n      <th>std</th>\n      <th>min</th>\n      <th>25%</th>\n      <th>50%</th>\n      <th>75%</th>\n      <th>max</th>\n      <th>count</th>\n      <th>mean</th>\n      <th>std</th>\n      <th>min</th>\n      <th>25%</th>\n      <th>50%</th>\n      <th>75%</th>\n      <th>max</th>\n    </tr>\n    <tr>\n      <th>Status</th>\n      <th></th>\n      <th></th>\n      <th></th>\n      <th></th>\n      <th></th>\n      <th></th>\n      <th></th>\n      <th></th>\n      <th></th>\n      <th></th>\n      <th></th>\n      <th></th>\n      <th></th>\n      <th></th>\n      <th></th>\n      <th></th>\n    </tr>\n  </thead>\n  <tbody>\n    <tr>\n      <th>Professional</th>\n      <td>9.0</td>\n      <td>14.000000</td>\n      <td>2.738613</td>\n      <td>10.0</td>\n      <td>12.0</td>\n      <td>14.0</td>\n      <td>16.0</td>\n      <td>18.0</td>\n      <td>3.0</td>\n      <td>60.666667</td>\n      <td>17.009801</td>\n      <td>48.0</td>\n      <td>51.0</td>\n      <td>54.0</td>\n      <td>67.0</td>\n      <td>80.0</td>\n    </tr>\n    <tr>\n      <th>Student</th>\n      <td>11.0</td>\n      <td>7.636364</td>\n      <td>6.360389</td>\n      <td>1.0</td>\n      <td>3.5</td>\n      <td>6.0</td>\n      <td>8.5</td>\n      <td>20.0</td>\n      <td>9.0</td>\n      <td>33.333333</td>\n      <td>12.767145</td>\n      <td>12.0</td>\n      <td>24.0</td>\n      <td>36.0</td>\n      <td>36.0</td>\n      <td>50.0</td>\n    </tr>\n  </tbody>\n</table>\n</div>"
     },
     "execution_count": 64,
     "metadata": {},
     "output_type": "execute_result"
    }
   ],
   "source": [
    "sample_df.groupby('Status').describe()"
   ],
   "metadata": {
    "collapsed": false,
    "ExecuteTime": {
     "end_time": "2023-08-08T12:32:02.623039Z",
     "start_time": "2023-08-08T12:32:02.600245Z"
    }
   }
  },
  {
   "cell_type": "code",
   "execution_count": 73,
   "outputs": [
    {
     "data": {
      "text/plain": "29"
     },
     "execution_count": 73,
     "metadata": {},
     "output_type": "execute_result"
    }
   ],
   "source": [
    "sum(sample_df.ML) + sum(sample_df.DA)"
   ],
   "metadata": {
    "collapsed": false,
    "ExecuteTime": {
     "end_time": "2023-08-08T13:32:08.583332Z",
     "start_time": "2023-08-08T13:32:08.575455Z"
    }
   }
  },
  {
   "cell_type": "code",
   "execution_count": 66,
   "outputs": [
    {
     "data": {
      "text/plain": "   id    ip_address                      time  \\\n0  10          None  2023-05-06T08:30:38.037Z   \n1  17  192.168.1.56  2023-05-06T08:31:35.929Z   \n2  18  192.168.1.56  2023-05-06T08:31:35.944Z   \n3  19  192.168.1.56  2023-05-06T08:31:36.049Z   \n4  41  192.168.1.56  2023-05-06T08:37:46.346Z   \n\n                             session_id                             kernel_id  \\\n0  a7b38785-5e80-4d1b-9722-6673e4c78877  5c2e86ab-cd96-4e48-98bc-28ed10fa8aac   \n1  a7b38785-5e80-4d1b-9722-6673e4c78877  5c2e86ab-cd96-4e48-98bc-28ed10fa8aac   \n2  a7b38785-5e80-4d1b-9722-6673e4c78877  5c2e86ab-cd96-4e48-98bc-28ed10fa8aac   \n3  a7b38785-5e80-4d1b-9722-6673e4c78877  5c2e86ab-cd96-4e48-98bc-28ed10fa8aac   \n4  a7b38785-5e80-4d1b-9722-6673e4c78877  5c2e86ab-cd96-4e48-98bc-28ed10fa8aac   \n\n  notebook_name             event                        cell_index  cell_num  \\\n0   task1.ipynb     save_notebook                              None       NaN   \n1   task1.ipynb           execute  e4836a849dea49f1a753df2274fbdbc5       0.0   \n2   task1.ipynb            create  dbcf462e8f6c4e3a89c0d6d0d083c0b2       0.0   \n3   task1.ipynb  finished_execute  e4836a849dea49f1a753df2274fbdbc5       1.0   \n4   task1.ipynb           execute  dbcf462e8f6c4e3a89c0d6d0d083c0b2       1.0   \n\n  cell_type                                        cell_source  \\\n0      None  [\\n  {\\n    \"id\": \"e4836a849dea49f1a753df2274f...   \n1      code  # # Do not forget to check if your notebook lo...   \n2      code                                               None   \n3      code  # # Do not forget to check if your notebook lo...   \n4      code                                     !ls data/task1   \n\n                            cell_output  expert    user_id  \n0                                  None   False  student_2  \n1                                  None   False  student_2  \n2                                  None   False  student_2  \n3  [{\"output_type\":\"stream\",\"size\":23}]   False  student_2  \n4                                  None   False  student_2  ",
      "text/html": "<div>\n<style scoped>\n    .dataframe tbody tr th:only-of-type {\n        vertical-align: middle;\n    }\n\n    .dataframe tbody tr th {\n        vertical-align: top;\n    }\n\n    .dataframe thead th {\n        text-align: right;\n    }\n</style>\n<table border=\"1\" class=\"dataframe\">\n  <thead>\n    <tr style=\"text-align: right;\">\n      <th></th>\n      <th>id</th>\n      <th>ip_address</th>\n      <th>time</th>\n      <th>session_id</th>\n      <th>kernel_id</th>\n      <th>notebook_name</th>\n      <th>event</th>\n      <th>cell_index</th>\n      <th>cell_num</th>\n      <th>cell_type</th>\n      <th>cell_source</th>\n      <th>cell_output</th>\n      <th>expert</th>\n      <th>user_id</th>\n    </tr>\n  </thead>\n  <tbody>\n    <tr>\n      <th>0</th>\n      <td>10</td>\n      <td>None</td>\n      <td>2023-05-06T08:30:38.037Z</td>\n      <td>a7b38785-5e80-4d1b-9722-6673e4c78877</td>\n      <td>5c2e86ab-cd96-4e48-98bc-28ed10fa8aac</td>\n      <td>task1.ipynb</td>\n      <td>save_notebook</td>\n      <td>None</td>\n      <td>NaN</td>\n      <td>None</td>\n      <td>[\\n  {\\n    \"id\": \"e4836a849dea49f1a753df2274f...</td>\n      <td>None</td>\n      <td>False</td>\n      <td>student_2</td>\n    </tr>\n    <tr>\n      <th>1</th>\n      <td>17</td>\n      <td>192.168.1.56</td>\n      <td>2023-05-06T08:31:35.929Z</td>\n      <td>a7b38785-5e80-4d1b-9722-6673e4c78877</td>\n      <td>5c2e86ab-cd96-4e48-98bc-28ed10fa8aac</td>\n      <td>task1.ipynb</td>\n      <td>execute</td>\n      <td>e4836a849dea49f1a753df2274fbdbc5</td>\n      <td>0.0</td>\n      <td>code</td>\n      <td># # Do not forget to check if your notebook lo...</td>\n      <td>None</td>\n      <td>False</td>\n      <td>student_2</td>\n    </tr>\n    <tr>\n      <th>2</th>\n      <td>18</td>\n      <td>192.168.1.56</td>\n      <td>2023-05-06T08:31:35.944Z</td>\n      <td>a7b38785-5e80-4d1b-9722-6673e4c78877</td>\n      <td>5c2e86ab-cd96-4e48-98bc-28ed10fa8aac</td>\n      <td>task1.ipynb</td>\n      <td>create</td>\n      <td>dbcf462e8f6c4e3a89c0d6d0d083c0b2</td>\n      <td>0.0</td>\n      <td>code</td>\n      <td>None</td>\n      <td>None</td>\n      <td>False</td>\n      <td>student_2</td>\n    </tr>\n    <tr>\n      <th>3</th>\n      <td>19</td>\n      <td>192.168.1.56</td>\n      <td>2023-05-06T08:31:36.049Z</td>\n      <td>a7b38785-5e80-4d1b-9722-6673e4c78877</td>\n      <td>5c2e86ab-cd96-4e48-98bc-28ed10fa8aac</td>\n      <td>task1.ipynb</td>\n      <td>finished_execute</td>\n      <td>e4836a849dea49f1a753df2274fbdbc5</td>\n      <td>1.0</td>\n      <td>code</td>\n      <td># # Do not forget to check if your notebook lo...</td>\n      <td>[{\"output_type\":\"stream\",\"size\":23}]</td>\n      <td>False</td>\n      <td>student_2</td>\n    </tr>\n    <tr>\n      <th>4</th>\n      <td>41</td>\n      <td>192.168.1.56</td>\n      <td>2023-05-06T08:37:46.346Z</td>\n      <td>a7b38785-5e80-4d1b-9722-6673e4c78877</td>\n      <td>5c2e86ab-cd96-4e48-98bc-28ed10fa8aac</td>\n      <td>task1.ipynb</td>\n      <td>execute</td>\n      <td>dbcf462e8f6c4e3a89c0d6d0d083c0b2</td>\n      <td>1.0</td>\n      <td>code</td>\n      <td>!ls data/task1</td>\n      <td>None</td>\n      <td>False</td>\n      <td>student_2</td>\n    </tr>\n  </tbody>\n</table>\n</div>"
     },
     "execution_count": 66,
     "metadata": {},
     "output_type": "execute_result"
    }
   ],
   "source": [
    "from pathlib import Path\n",
    "from data_loading import read_hackathon_data\n",
    "\n",
    "path = Path(\"data_config.yaml\")\n",
    "df_hack = read_hackathon_data(path, attach_users=True)\n",
    "df_hack.head()\n"
   ],
   "metadata": {
    "collapsed": false,
    "ExecuteTime": {
     "end_time": "2023-08-08T12:55:24.775131Z",
     "start_time": "2023-08-08T12:55:24.686208Z"
    }
   }
  },
  {
   "cell_type": "code",
   "execution_count": 70,
   "outputs": [
    {
     "data": {
      "text/plain": "2567"
     },
     "execution_count": 70,
     "metadata": {},
     "output_type": "execute_result"
    }
   ],
   "source": [
    "len(df_hack.cell_index.dropna().unique())"
   ],
   "metadata": {
    "collapsed": false,
    "ExecuteTime": {
     "end_time": "2023-08-08T13:00:28.685474Z",
     "start_time": "2023-08-08T13:00:28.679135Z"
    }
   }
  },
  {
   "cell_type": "code",
   "execution_count": 75,
   "outputs": [
    {
     "data": {
      "text/plain": "20984"
     },
     "execution_count": 75,
     "metadata": {},
     "output_type": "execute_result"
    }
   ],
   "source": [
    "len(df_hack)"
   ],
   "metadata": {
    "collapsed": false,
    "ExecuteTime": {
     "end_time": "2023-08-08T13:34:01.468232Z",
     "start_time": "2023-08-08T13:34:01.463030Z"
    }
   }
  },
  {
   "cell_type": "code",
   "execution_count": 79,
   "outputs": [
    {
     "data": {
      "text/plain": "8244"
     },
     "execution_count": 79,
     "metadata": {},
     "output_type": "execute_result"
    }
   ],
   "source": [
    "len(df_hack[df_hack.event == 'execute'])"
   ],
   "metadata": {
    "collapsed": false,
    "ExecuteTime": {
     "end_time": "2023-08-08T13:35:12.327882Z",
     "start_time": "2023-08-08T13:35:12.318735Z"
    }
   }
  },
  {
   "cell_type": "code",
   "execution_count": 82,
   "outputs": [
    {
     "data": {
      "text/plain": "701"
     },
     "execution_count": 82,
     "metadata": {},
     "output_type": "execute_result"
    }
   ],
   "source": [
    "len(df_hack[df_hack.event == 'delete'])"
   ],
   "metadata": {
    "collapsed": false,
    "ExecuteTime": {
     "end_time": "2023-08-08T13:35:46.722944Z",
     "start_time": "2023-08-08T13:35:46.717825Z"
    }
   }
  },
  {
   "cell_type": "code",
   "execution_count": 83,
   "outputs": [
    {
     "data": {
      "text/plain": "1729"
     },
     "execution_count": 83,
     "metadata": {},
     "output_type": "execute_result"
    }
   ],
   "source": [
    "len(df_hack[df_hack.event == 'create'])"
   ],
   "metadata": {
    "collapsed": false,
    "ExecuteTime": {
     "end_time": "2023-08-08T13:35:54.519540Z",
     "start_time": "2023-08-08T13:35:54.514994Z"
    }
   }
  },
  {
   "cell_type": "code",
   "execution_count": null,
   "outputs": [],
   "source": [
    "len(df_hack[df_hack.event == 'delete'])"
   ],
   "metadata": {
    "collapsed": false
   }
  },
  {
   "cell_type": "code",
   "execution_count": 84,
   "outputs": [
    {
     "data": {
      "text/plain": "         id      ip_address                      time  \\\n0        10            None  2023-05-06T08:30:38.037Z   \n1        17    192.168.1.56  2023-05-06T08:31:35.929Z   \n2        18    192.168.1.56  2023-05-06T08:31:35.944Z   \n3        19    192.168.1.56  2023-05-06T08:31:36.049Z   \n4        41    192.168.1.56  2023-05-06T08:37:46.346Z   \n...     ...             ...                       ...   \n20979  2675  46.223.162.124  2023-07-03T15:11:04.775Z   \n20980  2676  46.223.162.124  2023-07-03T15:11:05.060Z   \n20981  2677  46.223.162.124  2023-07-03T15:12:10.432Z   \n20982  2678  46.223.162.124  2023-07-03T15:12:12.134Z   \n20983  2679  46.223.162.124  2023-07-03T15:12:12.154Z   \n\n                                 session_id  \\\n0      a7b38785-5e80-4d1b-9722-6673e4c78877   \n1      a7b38785-5e80-4d1b-9722-6673e4c78877   \n2      a7b38785-5e80-4d1b-9722-6673e4c78877   \n3      a7b38785-5e80-4d1b-9722-6673e4c78877   \n4      a7b38785-5e80-4d1b-9722-6673e4c78877   \n...                                     ...   \n20979  7e660212-236c-414c-8326-ef7c28b2f0e2   \n20980  7e660212-236c-414c-8326-ef7c28b2f0e2   \n20981  7e660212-236c-414c-8326-ef7c28b2f0e2   \n20982  7e660212-236c-414c-8326-ef7c28b2f0e2   \n20983  7e660212-236c-414c-8326-ef7c28b2f0e2   \n\n                                  kernel_id notebook_name             event  \\\n0      5c2e86ab-cd96-4e48-98bc-28ed10fa8aac   task1.ipynb     save_notebook   \n1      5c2e86ab-cd96-4e48-98bc-28ed10fa8aac   task1.ipynb           execute   \n2      5c2e86ab-cd96-4e48-98bc-28ed10fa8aac   task1.ipynb            create   \n3      5c2e86ab-cd96-4e48-98bc-28ed10fa8aac   task1.ipynb  finished_execute   \n4      5c2e86ab-cd96-4e48-98bc-28ed10fa8aac   task1.ipynb           execute   \n...                                     ...           ...               ...   \n20979  bb4138c1-dd04-480d-a5b6-d51e1b9048d8   task2.ipynb           execute   \n20980  bb4138c1-dd04-480d-a5b6-d51e1b9048d8   task2.ipynb  finished_execute   \n20981  bb4138c1-dd04-480d-a5b6-d51e1b9048d8   task2.ipynb            create   \n20982  bb4138c1-dd04-480d-a5b6-d51e1b9048d8   task2.ipynb           execute   \n20983  bb4138c1-dd04-480d-a5b6-d51e1b9048d8   task2.ipynb  finished_execute   \n\n                             cell_index  cell_num cell_type  \\\n0                                  None       NaN      None   \n1      e4836a849dea49f1a753df2274fbdbc5       0.0      code   \n2      dbcf462e8f6c4e3a89c0d6d0d083c0b2       0.0      code   \n3      e4836a849dea49f1a753df2274fbdbc5       1.0      code   \n4      dbcf462e8f6c4e3a89c0d6d0d083c0b2       1.0      code   \n...                                 ...       ...       ...   \n20979  63ef60bff06745028aa11ede4424e4fe      30.0      code   \n20980  63ef60bff06745028aa11ede4424e4fe      30.0      code   \n20981  327eace519e342328b854732db0e883a      10.0      code   \n20982  327eace519e342328b854732db0e883a      11.0      code   \n20983  327eace519e342328b854732db0e883a      11.0      code   \n\n                                             cell_source  \\\n0      [\\n  {\\n    \"id\": \"e4836a849dea49f1a753df2274f...   \n1      # # Do not forget to check if your notebook lo...   \n2                                                   None   \n3      # # Do not forget to check if your notebook lo...   \n4                                         !ls data/task1   \n...                                                  ...   \n20979  f1_score(y_test_primary, rfclf.predict(prepare...   \n20980  f1_score(y_test_primary, rfclf.predict(prepare...   \n20981                                               None   \n20982                                          class_map   \n20983                                          class_map   \n\n                                             cell_output  expert    user_id  \n0                                                   None   False  student_2  \n1                                                   None   False  student_2  \n2                                                   None   False  student_2  \n3                   [{\"output_type\":\"stream\",\"size\":23}]   False  student_2  \n4                                                   None   False  student_2  \n...                                                  ...     ...        ...  \n20979                                               None    True   expert_1  \n20980  [{\"output_type\":\"stream\",\"size\":471},{\"output_...    True   expert_1  \n20981                                               None    True   expert_1  \n20982                                               None    True   expert_1  \n20983      [{\"output_type\":\"execute_result\",\"size\":237}]    True   expert_1  \n\n[20984 rows x 14 columns]",
      "text/html": "<div>\n<style scoped>\n    .dataframe tbody tr th:only-of-type {\n        vertical-align: middle;\n    }\n\n    .dataframe tbody tr th {\n        vertical-align: top;\n    }\n\n    .dataframe thead th {\n        text-align: right;\n    }\n</style>\n<table border=\"1\" class=\"dataframe\">\n  <thead>\n    <tr style=\"text-align: right;\">\n      <th></th>\n      <th>id</th>\n      <th>ip_address</th>\n      <th>time</th>\n      <th>session_id</th>\n      <th>kernel_id</th>\n      <th>notebook_name</th>\n      <th>event</th>\n      <th>cell_index</th>\n      <th>cell_num</th>\n      <th>cell_type</th>\n      <th>cell_source</th>\n      <th>cell_output</th>\n      <th>expert</th>\n      <th>user_id</th>\n    </tr>\n  </thead>\n  <tbody>\n    <tr>\n      <th>0</th>\n      <td>10</td>\n      <td>None</td>\n      <td>2023-05-06T08:30:38.037Z</td>\n      <td>a7b38785-5e80-4d1b-9722-6673e4c78877</td>\n      <td>5c2e86ab-cd96-4e48-98bc-28ed10fa8aac</td>\n      <td>task1.ipynb</td>\n      <td>save_notebook</td>\n      <td>None</td>\n      <td>NaN</td>\n      <td>None</td>\n      <td>[\\n  {\\n    \"id\": \"e4836a849dea49f1a753df2274f...</td>\n      <td>None</td>\n      <td>False</td>\n      <td>student_2</td>\n    </tr>\n    <tr>\n      <th>1</th>\n      <td>17</td>\n      <td>192.168.1.56</td>\n      <td>2023-05-06T08:31:35.929Z</td>\n      <td>a7b38785-5e80-4d1b-9722-6673e4c78877</td>\n      <td>5c2e86ab-cd96-4e48-98bc-28ed10fa8aac</td>\n      <td>task1.ipynb</td>\n      <td>execute</td>\n      <td>e4836a849dea49f1a753df2274fbdbc5</td>\n      <td>0.0</td>\n      <td>code</td>\n      <td># # Do not forget to check if your notebook lo...</td>\n      <td>None</td>\n      <td>False</td>\n      <td>student_2</td>\n    </tr>\n    <tr>\n      <th>2</th>\n      <td>18</td>\n      <td>192.168.1.56</td>\n      <td>2023-05-06T08:31:35.944Z</td>\n      <td>a7b38785-5e80-4d1b-9722-6673e4c78877</td>\n      <td>5c2e86ab-cd96-4e48-98bc-28ed10fa8aac</td>\n      <td>task1.ipynb</td>\n      <td>create</td>\n      <td>dbcf462e8f6c4e3a89c0d6d0d083c0b2</td>\n      <td>0.0</td>\n      <td>code</td>\n      <td>None</td>\n      <td>None</td>\n      <td>False</td>\n      <td>student_2</td>\n    </tr>\n    <tr>\n      <th>3</th>\n      <td>19</td>\n      <td>192.168.1.56</td>\n      <td>2023-05-06T08:31:36.049Z</td>\n      <td>a7b38785-5e80-4d1b-9722-6673e4c78877</td>\n      <td>5c2e86ab-cd96-4e48-98bc-28ed10fa8aac</td>\n      <td>task1.ipynb</td>\n      <td>finished_execute</td>\n      <td>e4836a849dea49f1a753df2274fbdbc5</td>\n      <td>1.0</td>\n      <td>code</td>\n      <td># # Do not forget to check if your notebook lo...</td>\n      <td>[{\"output_type\":\"stream\",\"size\":23}]</td>\n      <td>False</td>\n      <td>student_2</td>\n    </tr>\n    <tr>\n      <th>4</th>\n      <td>41</td>\n      <td>192.168.1.56</td>\n      <td>2023-05-06T08:37:46.346Z</td>\n      <td>a7b38785-5e80-4d1b-9722-6673e4c78877</td>\n      <td>5c2e86ab-cd96-4e48-98bc-28ed10fa8aac</td>\n      <td>task1.ipynb</td>\n      <td>execute</td>\n      <td>dbcf462e8f6c4e3a89c0d6d0d083c0b2</td>\n      <td>1.0</td>\n      <td>code</td>\n      <td>!ls data/task1</td>\n      <td>None</td>\n      <td>False</td>\n      <td>student_2</td>\n    </tr>\n    <tr>\n      <th>...</th>\n      <td>...</td>\n      <td>...</td>\n      <td>...</td>\n      <td>...</td>\n      <td>...</td>\n      <td>...</td>\n      <td>...</td>\n      <td>...</td>\n      <td>...</td>\n      <td>...</td>\n      <td>...</td>\n      <td>...</td>\n      <td>...</td>\n      <td>...</td>\n    </tr>\n    <tr>\n      <th>20979</th>\n      <td>2675</td>\n      <td>46.223.162.124</td>\n      <td>2023-07-03T15:11:04.775Z</td>\n      <td>7e660212-236c-414c-8326-ef7c28b2f0e2</td>\n      <td>bb4138c1-dd04-480d-a5b6-d51e1b9048d8</td>\n      <td>task2.ipynb</td>\n      <td>execute</td>\n      <td>63ef60bff06745028aa11ede4424e4fe</td>\n      <td>30.0</td>\n      <td>code</td>\n      <td>f1_score(y_test_primary, rfclf.predict(prepare...</td>\n      <td>None</td>\n      <td>True</td>\n      <td>expert_1</td>\n    </tr>\n    <tr>\n      <th>20980</th>\n      <td>2676</td>\n      <td>46.223.162.124</td>\n      <td>2023-07-03T15:11:05.060Z</td>\n      <td>7e660212-236c-414c-8326-ef7c28b2f0e2</td>\n      <td>bb4138c1-dd04-480d-a5b6-d51e1b9048d8</td>\n      <td>task2.ipynb</td>\n      <td>finished_execute</td>\n      <td>63ef60bff06745028aa11ede4424e4fe</td>\n      <td>30.0</td>\n      <td>code</td>\n      <td>f1_score(y_test_primary, rfclf.predict(prepare...</td>\n      <td>[{\"output_type\":\"stream\",\"size\":471},{\"output_...</td>\n      <td>True</td>\n      <td>expert_1</td>\n    </tr>\n    <tr>\n      <th>20981</th>\n      <td>2677</td>\n      <td>46.223.162.124</td>\n      <td>2023-07-03T15:12:10.432Z</td>\n      <td>7e660212-236c-414c-8326-ef7c28b2f0e2</td>\n      <td>bb4138c1-dd04-480d-a5b6-d51e1b9048d8</td>\n      <td>task2.ipynb</td>\n      <td>create</td>\n      <td>327eace519e342328b854732db0e883a</td>\n      <td>10.0</td>\n      <td>code</td>\n      <td>None</td>\n      <td>None</td>\n      <td>True</td>\n      <td>expert_1</td>\n    </tr>\n    <tr>\n      <th>20982</th>\n      <td>2678</td>\n      <td>46.223.162.124</td>\n      <td>2023-07-03T15:12:12.134Z</td>\n      <td>7e660212-236c-414c-8326-ef7c28b2f0e2</td>\n      <td>bb4138c1-dd04-480d-a5b6-d51e1b9048d8</td>\n      <td>task2.ipynb</td>\n      <td>execute</td>\n      <td>327eace519e342328b854732db0e883a</td>\n      <td>11.0</td>\n      <td>code</td>\n      <td>class_map</td>\n      <td>None</td>\n      <td>True</td>\n      <td>expert_1</td>\n    </tr>\n    <tr>\n      <th>20983</th>\n      <td>2679</td>\n      <td>46.223.162.124</td>\n      <td>2023-07-03T15:12:12.154Z</td>\n      <td>7e660212-236c-414c-8326-ef7c28b2f0e2</td>\n      <td>bb4138c1-dd04-480d-a5b6-d51e1b9048d8</td>\n      <td>task2.ipynb</td>\n      <td>finished_execute</td>\n      <td>327eace519e342328b854732db0e883a</td>\n      <td>11.0</td>\n      <td>code</td>\n      <td>class_map</td>\n      <td>[{\"output_type\":\"execute_result\",\"size\":237}]</td>\n      <td>True</td>\n      <td>expert_1</td>\n    </tr>\n  </tbody>\n</table>\n<p>20984 rows × 14 columns</p>\n</div>"
     },
     "execution_count": 84,
     "metadata": {},
     "output_type": "execute_result"
    }
   ],
   "source": [
    "df_hack"
   ],
   "metadata": {
    "collapsed": false,
    "ExecuteTime": {
     "end_time": "2023-08-08T13:38:26.466178Z",
     "start_time": "2023-08-08T13:38:26.460582Z"
    }
   }
  },
  {
   "cell_type": "code",
   "execution_count": null,
   "outputs": [],
   "source": [],
   "metadata": {
    "collapsed": false
   }
  }
 ],
 "metadata": {
  "kernelspec": {
   "display_name": "Python 3",
   "language": "python",
   "name": "python3"
  },
  "language_info": {
   "codemirror_mode": {
    "name": "ipython",
    "version": 2
   },
   "file_extension": ".py",
   "mimetype": "text/x-python",
   "name": "python",
   "nbconvert_exporter": "python",
   "pygments_lexer": "ipython2",
   "version": "2.7.6"
  }
 },
 "nbformat": 4,
 "nbformat_minor": 0
}
