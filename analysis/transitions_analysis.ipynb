{
 "cells": [
  {
   "cell_type": "markdown",
   "source": [
    "# Packages Loading\n"
   ],
   "metadata": {
    "collapsed": false
   }
  },
  {
   "cell_type": "code",
   "execution_count": 151,
   "outputs": [
    {
     "name": "stdout",
     "output_type": "stream",
     "text": [
      "The autoreload extension is already loaded. To reload it, use:\n",
      "  %reload_ext autoreload\n"
     ]
    }
   ],
   "source": [
    "%load_ext autoreload\n",
    "%autoreload 2\n",
    "\n",
    "from pathlib import Path\n",
    "\n",
    "import graphviz\n",
    "import numpy as np\n",
    "import pandas as pd\n",
    "from matplotlib import cm as cmx\n",
    "from matplotlib import colors\n",
    "from matplotlib import pyplot as plt\n",
    "\n",
    "from data_loading import read_hackathon_data\n",
    "from data_preprocessing import MetricsProcessor\n"
   ],
   "metadata": {
    "collapsed": false,
    "ExecuteTime": {
     "end_time": "2023-07-18T13:23:35.498742Z",
     "start_time": "2023-07-18T13:23:35.474459Z"
    }
   }
  },
  {
   "cell_type": "markdown",
   "source": [
    "# Reading Data\n"
   ],
   "metadata": {
    "collapsed": false
   }
  },
  {
   "cell_type": "code",
   "execution_count": 2,
   "outputs": [
    {
     "data": {
      "text/plain": "   id    ip_address                      time  \\\n0  10          None  2023-05-06T08:30:38.037Z   \n1  17  192.168.1.56  2023-05-06T08:31:35.929Z   \n2  18  192.168.1.56  2023-05-06T08:31:35.944Z   \n3  19  192.168.1.56  2023-05-06T08:31:36.049Z   \n4  41  192.168.1.56  2023-05-06T08:37:46.346Z   \n\n                             session_id                             kernel_id  \\\n0  a7b38785-5e80-4d1b-9722-6673e4c78877  5c2e86ab-cd96-4e48-98bc-28ed10fa8aac   \n1  a7b38785-5e80-4d1b-9722-6673e4c78877  5c2e86ab-cd96-4e48-98bc-28ed10fa8aac   \n2  a7b38785-5e80-4d1b-9722-6673e4c78877  5c2e86ab-cd96-4e48-98bc-28ed10fa8aac   \n3  a7b38785-5e80-4d1b-9722-6673e4c78877  5c2e86ab-cd96-4e48-98bc-28ed10fa8aac   \n4  a7b38785-5e80-4d1b-9722-6673e4c78877  5c2e86ab-cd96-4e48-98bc-28ed10fa8aac   \n\n  notebook_name             event                        cell_index  cell_num  \\\n0   task1.ipynb     save_notebook                              None       NaN   \n1   task1.ipynb           execute  e4836a849dea49f1a753df2274fbdbc5       0.0   \n2   task1.ipynb            create  dbcf462e8f6c4e3a89c0d6d0d083c0b2       0.0   \n3   task1.ipynb  finished_execute  e4836a849dea49f1a753df2274fbdbc5       1.0   \n4   task1.ipynb           execute  dbcf462e8f6c4e3a89c0d6d0d083c0b2       1.0   \n\n  cell_type                                        cell_source  \\\n0      None  [\\n  {\\n    \"id\": \"e4836a849dea49f1a753df2274f...   \n1      code  # # Do not forget to check if your notebook lo...   \n2      code                                               None   \n3      code  # # Do not forget to check if your notebook lo...   \n4      code                                     !ls data/task1   \n\n                            cell_output  expert  user_id  \n0                                  None   False        4  \n1                                  None   False        4  \n2                                  None   False        4  \n3  [{\"output_type\":\"stream\",\"size\":23}]   False        4  \n4                                  None   False        4  ",
      "text/html": "<div>\n<style scoped>\n    .dataframe tbody tr th:only-of-type {\n        vertical-align: middle;\n    }\n\n    .dataframe tbody tr th {\n        vertical-align: top;\n    }\n\n    .dataframe thead th {\n        text-align: right;\n    }\n</style>\n<table border=\"1\" class=\"dataframe\">\n  <thead>\n    <tr style=\"text-align: right;\">\n      <th></th>\n      <th>id</th>\n      <th>ip_address</th>\n      <th>time</th>\n      <th>session_id</th>\n      <th>kernel_id</th>\n      <th>notebook_name</th>\n      <th>event</th>\n      <th>cell_index</th>\n      <th>cell_num</th>\n      <th>cell_type</th>\n      <th>cell_source</th>\n      <th>cell_output</th>\n      <th>expert</th>\n      <th>user_id</th>\n    </tr>\n  </thead>\n  <tbody>\n    <tr>\n      <th>0</th>\n      <td>10</td>\n      <td>None</td>\n      <td>2023-05-06T08:30:38.037Z</td>\n      <td>a7b38785-5e80-4d1b-9722-6673e4c78877</td>\n      <td>5c2e86ab-cd96-4e48-98bc-28ed10fa8aac</td>\n      <td>task1.ipynb</td>\n      <td>save_notebook</td>\n      <td>None</td>\n      <td>NaN</td>\n      <td>None</td>\n      <td>[\\n  {\\n    \"id\": \"e4836a849dea49f1a753df2274f...</td>\n      <td>None</td>\n      <td>False</td>\n      <td>4</td>\n    </tr>\n    <tr>\n      <th>1</th>\n      <td>17</td>\n      <td>192.168.1.56</td>\n      <td>2023-05-06T08:31:35.929Z</td>\n      <td>a7b38785-5e80-4d1b-9722-6673e4c78877</td>\n      <td>5c2e86ab-cd96-4e48-98bc-28ed10fa8aac</td>\n      <td>task1.ipynb</td>\n      <td>execute</td>\n      <td>e4836a849dea49f1a753df2274fbdbc5</td>\n      <td>0.0</td>\n      <td>code</td>\n      <td># # Do not forget to check if your notebook lo...</td>\n      <td>None</td>\n      <td>False</td>\n      <td>4</td>\n    </tr>\n    <tr>\n      <th>2</th>\n      <td>18</td>\n      <td>192.168.1.56</td>\n      <td>2023-05-06T08:31:35.944Z</td>\n      <td>a7b38785-5e80-4d1b-9722-6673e4c78877</td>\n      <td>5c2e86ab-cd96-4e48-98bc-28ed10fa8aac</td>\n      <td>task1.ipynb</td>\n      <td>create</td>\n      <td>dbcf462e8f6c4e3a89c0d6d0d083c0b2</td>\n      <td>0.0</td>\n      <td>code</td>\n      <td>None</td>\n      <td>None</td>\n      <td>False</td>\n      <td>4</td>\n    </tr>\n    <tr>\n      <th>3</th>\n      <td>19</td>\n      <td>192.168.1.56</td>\n      <td>2023-05-06T08:31:36.049Z</td>\n      <td>a7b38785-5e80-4d1b-9722-6673e4c78877</td>\n      <td>5c2e86ab-cd96-4e48-98bc-28ed10fa8aac</td>\n      <td>task1.ipynb</td>\n      <td>finished_execute</td>\n      <td>e4836a849dea49f1a753df2274fbdbc5</td>\n      <td>1.0</td>\n      <td>code</td>\n      <td># # Do not forget to check if your notebook lo...</td>\n      <td>[{\"output_type\":\"stream\",\"size\":23}]</td>\n      <td>False</td>\n      <td>4</td>\n    </tr>\n    <tr>\n      <th>4</th>\n      <td>41</td>\n      <td>192.168.1.56</td>\n      <td>2023-05-06T08:37:46.346Z</td>\n      <td>a7b38785-5e80-4d1b-9722-6673e4c78877</td>\n      <td>5c2e86ab-cd96-4e48-98bc-28ed10fa8aac</td>\n      <td>task1.ipynb</td>\n      <td>execute</td>\n      <td>dbcf462e8f6c4e3a89c0d6d0d083c0b2</td>\n      <td>1.0</td>\n      <td>code</td>\n      <td>!ls data/task1</td>\n      <td>None</td>\n      <td>False</td>\n      <td>4</td>\n    </tr>\n  </tbody>\n</table>\n</div>"
     },
     "execution_count": 2,
     "metadata": {},
     "output_type": "execute_result"
    }
   ],
   "source": [
    "path = Path(\"data_config.yaml\")\n",
    "df_hack = read_hackathon_data(path, attach_users=True)\n",
    "df_hack.head()\n"
   ],
   "metadata": {
    "collapsed": false,
    "ExecuteTime": {
     "end_time": "2023-07-18T12:26:53.366638Z",
     "start_time": "2023-07-18T12:26:53.257661Z"
    }
   }
  },
  {
   "cell_type": "markdown",
   "source": [
    "# Initializing of Metrics Processor\n"
   ],
   "metadata": {
    "collapsed": false
   }
  },
  {
   "cell_type": "code",
   "execution_count": 3,
   "outputs": [],
   "source": [
    "processor = MetricsProcessor()\n"
   ],
   "metadata": {
    "collapsed": false,
    "ExecuteTime": {
     "end_time": "2023-07-18T12:26:53.374433Z",
     "start_time": "2023-07-18T12:26:53.366102Z"
    }
   }
  },
  {
   "cell_type": "code",
   "execution_count": 33,
   "outputs": [
    {
     "name": "stderr",
     "output_type": "stream",
     "text": [
      "100%|██████████| 44/44 [02:41<00:00,  3.66s/it]\n"
     ]
    },
    {
     "data": {
      "text/plain": "                              kernel_id                     cell_idx_from  \\\n0  0033f76c-6179-4fb4-a9ce-79112a52b51c  e139884774504ae997d7e38e6be6da88   \n1  0033f76c-6179-4fb4-a9ce-79112a52b51c  a47800e62cbe40c1ad4003b2879f5f03   \n2  0033f76c-6179-4fb4-a9ce-79112a52b51c  832d6ff5591b46a0ab57d4f57fb6bff4   \n3  0033f76c-6179-4fb4-a9ce-79112a52b51c  da13661b37a24a319d339a52b96bd0c7   \n4  0033f76c-6179-4fb4-a9ce-79112a52b51c  fcbfe01318394ee78c110d6efe344931   \n\n   cell_num_from                                   cell_source_from  \\\n0            0.0  # # Do not forget to check if your notebook lo...   \n1            1.0                              !pip install pandas\\n   \n2            2.0                               !pip install sklearn   \n3            3.0        !pip install catboost\\n!pip install xgboost   \n4            4.0  import pandas as pd\\nimport sklearn\\nimport ca...   \n\n                        cell_idx_to  cell_num_to  \\\n0  a47800e62cbe40c1ad4003b2879f5f03          1.0   \n1  832d6ff5591b46a0ab57d4f57fb6bff4          2.0   \n2  da13661b37a24a319d339a52b96bd0c7          3.0   \n3  fcbfe01318394ee78c110d6efe344931          4.0   \n4  8fd58da2205544c1a978c43701cd5678          0.0   \n\n                                      cell_source_to  inner_transition changes  \n0                              !pip install pandas\\n             False      []  \n1                               !pip install sklearn             False      []  \n2        !pip install catboost\\n!pip install xgboost             False      []  \n3  import pandas as pd\\nimport sklearn\\nimport ca...             False      []  \n4  # # Do not forget to check if your notebook lo...             False      []  ",
      "text/html": "<div>\n<style scoped>\n    .dataframe tbody tr th:only-of-type {\n        vertical-align: middle;\n    }\n\n    .dataframe tbody tr th {\n        vertical-align: top;\n    }\n\n    .dataframe thead th {\n        text-align: right;\n    }\n</style>\n<table border=\"1\" class=\"dataframe\">\n  <thead>\n    <tr style=\"text-align: right;\">\n      <th></th>\n      <th>kernel_id</th>\n      <th>cell_idx_from</th>\n      <th>cell_num_from</th>\n      <th>cell_source_from</th>\n      <th>cell_idx_to</th>\n      <th>cell_num_to</th>\n      <th>cell_source_to</th>\n      <th>inner_transition</th>\n      <th>changes</th>\n    </tr>\n  </thead>\n  <tbody>\n    <tr>\n      <th>0</th>\n      <td>0033f76c-6179-4fb4-a9ce-79112a52b51c</td>\n      <td>e139884774504ae997d7e38e6be6da88</td>\n      <td>0.0</td>\n      <td># # Do not forget to check if your notebook lo...</td>\n      <td>a47800e62cbe40c1ad4003b2879f5f03</td>\n      <td>1.0</td>\n      <td>!pip install pandas\\n</td>\n      <td>False</td>\n      <td>[]</td>\n    </tr>\n    <tr>\n      <th>1</th>\n      <td>0033f76c-6179-4fb4-a9ce-79112a52b51c</td>\n      <td>a47800e62cbe40c1ad4003b2879f5f03</td>\n      <td>1.0</td>\n      <td>!pip install pandas\\n</td>\n      <td>832d6ff5591b46a0ab57d4f57fb6bff4</td>\n      <td>2.0</td>\n      <td>!pip install sklearn</td>\n      <td>False</td>\n      <td>[]</td>\n    </tr>\n    <tr>\n      <th>2</th>\n      <td>0033f76c-6179-4fb4-a9ce-79112a52b51c</td>\n      <td>832d6ff5591b46a0ab57d4f57fb6bff4</td>\n      <td>2.0</td>\n      <td>!pip install sklearn</td>\n      <td>da13661b37a24a319d339a52b96bd0c7</td>\n      <td>3.0</td>\n      <td>!pip install catboost\\n!pip install xgboost</td>\n      <td>False</td>\n      <td>[]</td>\n    </tr>\n    <tr>\n      <th>3</th>\n      <td>0033f76c-6179-4fb4-a9ce-79112a52b51c</td>\n      <td>da13661b37a24a319d339a52b96bd0c7</td>\n      <td>3.0</td>\n      <td>!pip install catboost\\n!pip install xgboost</td>\n      <td>fcbfe01318394ee78c110d6efe344931</td>\n      <td>4.0</td>\n      <td>import pandas as pd\\nimport sklearn\\nimport ca...</td>\n      <td>False</td>\n      <td>[]</td>\n    </tr>\n    <tr>\n      <th>4</th>\n      <td>0033f76c-6179-4fb4-a9ce-79112a52b51c</td>\n      <td>fcbfe01318394ee78c110d6efe344931</td>\n      <td>4.0</td>\n      <td>import pandas as pd\\nimport sklearn\\nimport ca...</td>\n      <td>8fd58da2205544c1a978c43701cd5678</td>\n      <td>0.0</td>\n      <td># # Do not forget to check if your notebook lo...</td>\n      <td>False</td>\n      <td>[]</td>\n    </tr>\n  </tbody>\n</table>\n</div>"
     },
     "execution_count": 33,
     "metadata": {},
     "output_type": "execute_result"
    }
   ],
   "source": [
    "transitions = processor.get_execution_transitions(df_hack[:])\n",
    "transitions.head()\n"
   ],
   "metadata": {
    "collapsed": false,
    "ExecuteTime": {
     "end_time": "2023-07-18T12:47:14.394111Z",
     "start_time": "2023-07-18T12:44:33.103718Z"
    }
   }
  },
  {
   "cell_type": "markdown",
   "source": [
    "# Transitions Analysis\n"
   ],
   "metadata": {
    "collapsed": false
   }
  },
  {
   "cell_type": "code",
   "execution_count": 36,
   "outputs": [],
   "source": [
    "transitions['change_num'] = transitions.cell_num_to - transitions.cell_num_from\n",
    "transitions['transition_type'] = transitions.change_num.apply(\n",
    "    lambda x: 'forward' if x > 0 else (\"inner\" if x == 0 else 'backward')\n",
    ")\n"
   ],
   "metadata": {
    "collapsed": false,
    "ExecuteTime": {
     "end_time": "2023-07-18T12:49:16.472348Z",
     "start_time": "2023-07-18T12:49:16.396100Z"
    }
   }
  },
  {
   "cell_type": "code",
   "execution_count": 102,
   "outputs": [
    {
     "data": {
      "text/plain": "   user_id                             kernel_id  expert notebook_name  \\\n0        4  5c2e86ab-cd96-4e48-98bc-28ed10fa8aac   False   task1.ipynb   \n1        4  5c2e86ab-cd96-4e48-98bc-28ed10fa8aac   False   task1.ipynb   \n2        4  5c2e86ab-cd96-4e48-98bc-28ed10fa8aac   False   task1.ipynb   \n3        4  5c2e86ab-cd96-4e48-98bc-28ed10fa8aac   False   task1.ipynb   \n4        4  eeedb543-cbc3-4e59-8e63-511e29518da4   False   task1.ipynb   \n\n                      cell_idx_from  cell_num_from  \\\n0  e4836a849dea49f1a753df2274fbdbc5            0.0   \n1  dbcf462e8f6c4e3a89c0d6d0d083c0b2            1.0   \n2  dbcf462e8f6c4e3a89c0d6d0d083c0b2            1.0   \n3  dbcf462e8f6c4e3a89c0d6d0d083c0b2            1.0   \n4  cc973487bf764ec49c8636c0f02f886c            0.0   \n\n                                    cell_source_from  \\\n0  # # Do not forget to check if your notebook lo...   \n1                                     !ls data/task1   \n2                                                !ls   \n3                                                !ls   \n4  # # Do not forget to check if your notebook lo...   \n\n                        cell_idx_to  cell_num_to  cell_source_to  \\\n0  dbcf462e8f6c4e3a89c0d6d0d083c0b2          1.0  !ls data/task1   \n1  dbcf462e8f6c4e3a89c0d6d0d083c0b2          1.0             !ls   \n2  dbcf462e8f6c4e3a89c0d6d0d083c0b2          1.0             !ls   \n3  dbcf462e8f6c4e3a89c0d6d0d083c0b2          1.0      \"checking\"   \n4  b96452a97f01456883542ea0ac111479          1.0             !ls   \n\n   inner_transition                                            changes  \\\n0             False                                                 []   \n1              True  [Move(target_node=ASTNode(type=expression_stat...   \n2              True                                                 []   \n3              True  [Insert(target_node=IN(type=root), node=('modu...   \n4             False                                                 []   \n\n   change_num transition_type  task_type  \n0         1.0         forward          1  \n1         0.0           inner          1  \n2         0.0           inner          1  \n3         0.0           inner          1  \n4         1.0         forward          1  ",
      "text/html": "<div>\n<style scoped>\n    .dataframe tbody tr th:only-of-type {\n        vertical-align: middle;\n    }\n\n    .dataframe tbody tr th {\n        vertical-align: top;\n    }\n\n    .dataframe thead th {\n        text-align: right;\n    }\n</style>\n<table border=\"1\" class=\"dataframe\">\n  <thead>\n    <tr style=\"text-align: right;\">\n      <th></th>\n      <th>user_id</th>\n      <th>kernel_id</th>\n      <th>expert</th>\n      <th>notebook_name</th>\n      <th>cell_idx_from</th>\n      <th>cell_num_from</th>\n      <th>cell_source_from</th>\n      <th>cell_idx_to</th>\n      <th>cell_num_to</th>\n      <th>cell_source_to</th>\n      <th>inner_transition</th>\n      <th>changes</th>\n      <th>change_num</th>\n      <th>transition_type</th>\n      <th>task_type</th>\n    </tr>\n  </thead>\n  <tbody>\n    <tr>\n      <th>0</th>\n      <td>4</td>\n      <td>5c2e86ab-cd96-4e48-98bc-28ed10fa8aac</td>\n      <td>False</td>\n      <td>task1.ipynb</td>\n      <td>e4836a849dea49f1a753df2274fbdbc5</td>\n      <td>0.0</td>\n      <td># # Do not forget to check if your notebook lo...</td>\n      <td>dbcf462e8f6c4e3a89c0d6d0d083c0b2</td>\n      <td>1.0</td>\n      <td>!ls data/task1</td>\n      <td>False</td>\n      <td>[]</td>\n      <td>1.0</td>\n      <td>forward</td>\n      <td>1</td>\n    </tr>\n    <tr>\n      <th>1</th>\n      <td>4</td>\n      <td>5c2e86ab-cd96-4e48-98bc-28ed10fa8aac</td>\n      <td>False</td>\n      <td>task1.ipynb</td>\n      <td>dbcf462e8f6c4e3a89c0d6d0d083c0b2</td>\n      <td>1.0</td>\n      <td>!ls data/task1</td>\n      <td>dbcf462e8f6c4e3a89c0d6d0d083c0b2</td>\n      <td>1.0</td>\n      <td>!ls</td>\n      <td>True</td>\n      <td>[Move(target_node=ASTNode(type=expression_stat...</td>\n      <td>0.0</td>\n      <td>inner</td>\n      <td>1</td>\n    </tr>\n    <tr>\n      <th>2</th>\n      <td>4</td>\n      <td>5c2e86ab-cd96-4e48-98bc-28ed10fa8aac</td>\n      <td>False</td>\n      <td>task1.ipynb</td>\n      <td>dbcf462e8f6c4e3a89c0d6d0d083c0b2</td>\n      <td>1.0</td>\n      <td>!ls</td>\n      <td>dbcf462e8f6c4e3a89c0d6d0d083c0b2</td>\n      <td>1.0</td>\n      <td>!ls</td>\n      <td>True</td>\n      <td>[]</td>\n      <td>0.0</td>\n      <td>inner</td>\n      <td>1</td>\n    </tr>\n    <tr>\n      <th>3</th>\n      <td>4</td>\n      <td>5c2e86ab-cd96-4e48-98bc-28ed10fa8aac</td>\n      <td>False</td>\n      <td>task1.ipynb</td>\n      <td>dbcf462e8f6c4e3a89c0d6d0d083c0b2</td>\n      <td>1.0</td>\n      <td>!ls</td>\n      <td>dbcf462e8f6c4e3a89c0d6d0d083c0b2</td>\n      <td>1.0</td>\n      <td>\"checking\"</td>\n      <td>True</td>\n      <td>[Insert(target_node=IN(type=root), node=('modu...</td>\n      <td>0.0</td>\n      <td>inner</td>\n      <td>1</td>\n    </tr>\n    <tr>\n      <th>4</th>\n      <td>4</td>\n      <td>eeedb543-cbc3-4e59-8e63-511e29518da4</td>\n      <td>False</td>\n      <td>task1.ipynb</td>\n      <td>cc973487bf764ec49c8636c0f02f886c</td>\n      <td>0.0</td>\n      <td># # Do not forget to check if your notebook lo...</td>\n      <td>b96452a97f01456883542ea0ac111479</td>\n      <td>1.0</td>\n      <td>!ls</td>\n      <td>False</td>\n      <td>[]</td>\n      <td>1.0</td>\n      <td>forward</td>\n      <td>1</td>\n    </tr>\n  </tbody>\n</table>\n</div>"
     },
     "execution_count": 102,
     "metadata": {},
     "output_type": "execute_result"
    }
   ],
   "source": [
    "merge_columns = ['user_id', 'kernel_id', 'expert', 'notebook_name']\n",
    "transitions_merged = df_hack[merge_columns].drop_duplicates(keep='last').merge(transitions, on='kernel_id')\n",
    "\n",
    "transitions_merged['task_type'] = transitions_merged.notebook_name.apply(\n",
    "    lambda x: 1 if 'task1' in x else (2 if \"task2\" in x else 1)\n",
    ")\n",
    "transitions_merged.head()\n",
    "\n"
   ],
   "metadata": {
    "collapsed": false,
    "ExecuteTime": {
     "end_time": "2023-07-18T13:04:21.649210Z",
     "start_time": "2023-07-18T13:04:21.590381Z"
    }
   }
  },
  {
   "cell_type": "markdown",
   "source": [
    "## Transition of different types across different tasks"
   ],
   "metadata": {
    "collapsed": false
   }
  },
  {
   "cell_type": "code",
   "execution_count": 150,
   "outputs": [
    {
     "data": {
      "text/plain": "   task_type transition_type  proportion\n0          1        backward    0.073439\n1          1         forward    0.295939\n2          1           inner    0.663504\n3          2        backward    0.111580\n4          2         forward    0.376990\n5          2           inner    0.511431",
      "text/html": "<div>\n<style scoped>\n    .dataframe tbody tr th:only-of-type {\n        vertical-align: middle;\n    }\n\n    .dataframe tbody tr th {\n        vertical-align: top;\n    }\n\n    .dataframe thead th {\n        text-align: right;\n    }\n</style>\n<table border=\"1\" class=\"dataframe\">\n  <thead>\n    <tr style=\"text-align: right;\">\n      <th></th>\n      <th>task_type</th>\n      <th>transition_type</th>\n      <th>proportion</th>\n    </tr>\n  </thead>\n  <tbody>\n    <tr>\n      <th>0</th>\n      <td>1</td>\n      <td>backward</td>\n      <td>0.073439</td>\n    </tr>\n    <tr>\n      <th>1</th>\n      <td>1</td>\n      <td>forward</td>\n      <td>0.295939</td>\n    </tr>\n    <tr>\n      <th>2</th>\n      <td>1</td>\n      <td>inner</td>\n      <td>0.663504</td>\n    </tr>\n    <tr>\n      <th>3</th>\n      <td>2</td>\n      <td>backward</td>\n      <td>0.111580</td>\n    </tr>\n    <tr>\n      <th>4</th>\n      <td>2</td>\n      <td>forward</td>\n      <td>0.376990</td>\n    </tr>\n    <tr>\n      <th>5</th>\n      <td>2</td>\n      <td>inner</td>\n      <td>0.511431</td>\n    </tr>\n  </tbody>\n</table>\n</div>"
     },
     "execution_count": 150,
     "metadata": {},
     "output_type": "execute_result"
    }
   ],
   "source": [
    "task_transition_relations = transitions_merged.groupby(\n",
    "    [\"task_type\", 'user_id'], as_index=False\n",
    ") \\\n",
    "    .transition_type.value_counts(normalize=True) \\\n",
    "    .groupby([\"task_type\", 'transition_type'], as_index=False).proportion.mean()\n",
    "\n",
    "task_transition_relations\n"
   ],
   "metadata": {
    "collapsed": false,
    "ExecuteTime": {
     "end_time": "2023-07-18T13:23:19.826020Z",
     "start_time": "2023-07-18T13:23:19.782228Z"
    }
   }
  },
  {
   "cell_type": "code",
   "execution_count": 147,
   "outputs": [],
   "source": [
    "def get_average_transition_graphs(transitions_df: pd.DataFrame) -> dict[int, graphviz.Digraph]:\n",
    "    jet = plt.get_cmap('plasma')\n",
    "    cNorm = colors.Normalize(vmin=0, vmax=1)\n",
    "    scalarMap = cmx.ScalarMappable(norm=cNorm, cmap=jet)\n",
    "    prev, cur, nx = 'Previous Cells', 'Current Cell', 'Next Cells'\n",
    "\n",
    "    results: dict[int, graphviz.Digraph] = {}\n",
    "    for name, g in transitions_df.groupby(\"task_type\"):\n",
    "        graph = graphviz.Digraph(filename=\"output/plain organogram 2.gv\")\n",
    "        matrix = g[['transition_type', 'proportion']].set_index('transition_type').proportion.to_dict()\n",
    "\n",
    "        forward = matrix['forward']\n",
    "        inner = matrix['inner']\n",
    "        backward = matrix['backward']\n",
    "\n",
    "        graph.edge(\n",
    "            cur, prev,\n",
    "            color=colors.to_hex(scalarMap.to_rgba(backward)), label=str(np.around(backward, 2))\n",
    "        )\n",
    "        graph.edge(\n",
    "            cur, cur,\n",
    "            color=colors.to_hex(scalarMap.to_rgba(inner)), label=str(np.around(inner, 2))\n",
    "        )\n",
    "        graph.edge(\n",
    "            cur, nx,\n",
    "            color=colors.to_hex(scalarMap.to_rgba(forward)), label=str(np.around(forward, 2))\n",
    "        )\n",
    "        results[name] = graph\n",
    "\n",
    "    return results\n"
   ],
   "metadata": {
    "collapsed": false,
    "ExecuteTime": {
     "end_time": "2023-07-18T13:21:18.638425Z",
     "start_time": "2023-07-18T13:21:18.615719Z"
    }
   }
  },
  {
   "cell_type": "markdown",
   "source": [
    "### Task 1"
   ],
   "metadata": {
    "collapsed": false
   }
  },
  {
   "cell_type": "code",
   "execution_count": 152,
   "outputs": [
    {
     "data": {
      "image/svg+xml": "<?xml version=\"1.0\" encoding=\"UTF-8\" standalone=\"no\"?>\n<!DOCTYPE svg PUBLIC \"-//W3C//DTD SVG 1.1//EN\"\n \"http://www.w3.org/Graphics/SVG/1.1/DTD/svg11.dtd\">\n<!-- Generated by graphviz version 8.0.5 (20230430.1635)\n -->\n<!-- Pages: 1 -->\n<svg width=\"256pt\" height=\"133pt\"\n viewBox=\"0.00 0.00 255.99 132.50\" xmlns=\"http://www.w3.org/2000/svg\" xmlns:xlink=\"http://www.w3.org/1999/xlink\">\n<g id=\"graph0\" class=\"graph\" transform=\"scale(1 1) rotate(0) translate(4 128.5)\">\n<polygon fill=\"white\" stroke=\"none\" points=\"-4,4 -4,-128.5 251.99,-128.5 251.99,4 -4,4\"/>\n<!-- Current Cell -->\n<g id=\"node1\" class=\"node\">\n<title>Current Cell</title>\n<ellipse fill=\"none\" stroke=\"black\" cx=\"130.66\" cy=\"-106.5\" rx=\"56.98\" ry=\"18\"/>\n<text text-anchor=\"middle\" x=\"130.66\" y=\"-101.45\" font-family=\"Times,serif\" font-size=\"14.00\">Current Cell</text>\n</g>\n<!-- Current Cell&#45;&gt;Current Cell -->\n<g id=\"edge2\" class=\"edge\">\n<title>Current Cell&#45;&gt;Current Cell</title>\n<path fill=\"none\" stroke=\"#ec7754\" d=\"M181.83,-114.72C195.38,-114.25 205.64,-111.51 205.64,-106.5 205.64,-102.94 200.45,-100.52 192.58,-99.25\"/>\n<polygon fill=\"#ec7754\" stroke=\"#ec7754\" points=\"193.1,-95.69 182.83,-98.28 192.47,-102.67 193.1,-95.69\"/>\n<text text-anchor=\"middle\" x=\"217.64\" y=\"-101.45\" font-family=\"Times,serif\" font-size=\"14.00\">0.66</text>\n</g>\n<!-- Previous Cells -->\n<g id=\"node2\" class=\"node\">\n<title>Previous Cells</title>\n<ellipse fill=\"none\" stroke=\"black\" cx=\"64.66\" cy=\"-18\" rx=\"64.66\" ry=\"18\"/>\n<text text-anchor=\"middle\" x=\"64.66\" y=\"-12.95\" font-family=\"Times,serif\" font-size=\"14.00\">Previous Cells</text>\n</g>\n<!-- Current Cell&#45;&gt;Previous Cells -->\n<g id=\"edge1\" class=\"edge\">\n<title>Current Cell&#45;&gt;Previous Cells</title>\n<path fill=\"none\" stroke=\"#350498\" d=\"M117.93,-88.82C108.32,-76.22 94.95,-58.7 84.01,-44.36\"/>\n<polygon fill=\"#350498\" stroke=\"#350498\" points=\"86.42,-42.75 77.57,-36.92 80.85,-47 86.42,-42.75\"/>\n<text text-anchor=\"middle\" x=\"115.66\" y=\"-57.2\" font-family=\"Times,serif\" font-size=\"14.00\">0.07</text>\n</g>\n<!-- Next Cells -->\n<g id=\"node3\" class=\"node\">\n<title>Next Cells</title>\n<ellipse fill=\"none\" stroke=\"black\" cx=\"197.66\" cy=\"-18\" rx=\"50.33\" ry=\"18\"/>\n<text text-anchor=\"middle\" x=\"197.66\" y=\"-12.95\" font-family=\"Times,serif\" font-size=\"14.00\">Next Cells</text>\n</g>\n<!-- Current Cell&#45;&gt;Next Cells -->\n<g id=\"edge3\" class=\"edge\">\n<title>Current Cell&#45;&gt;Next Cells</title>\n<path fill=\"none\" stroke=\"#8e0ca4\" d=\"M143.58,-88.82C153.4,-76.14 167.08,-58.47 178.23,-44.09\"/>\n<polygon fill=\"#8e0ca4\" stroke=\"#8e0ca4\" points=\"181.42,-46.68 184.78,-36.63 175.89,-42.39 181.42,-46.68\"/>\n<text text-anchor=\"middle\" x=\"178.28\" y=\"-57.2\" font-family=\"Times,serif\" font-size=\"14.00\">0.3</text>\n</g>\n</g>\n</svg>\n",
      "text/plain": "<graphviz.graphs.Digraph at 0x284de0690>"
     },
     "execution_count": 152,
     "metadata": {},
     "output_type": "execute_result"
    }
   ],
   "source": [
    "get_average_transition_graphs(task_transition_relations)[1]\n"
   ],
   "metadata": {
    "collapsed": false,
    "ExecuteTime": {
     "end_time": "2023-07-18T13:23:39.472931Z",
     "start_time": "2023-07-18T13:23:39.243506Z"
    }
   }
  },
  {
   "cell_type": "markdown",
   "source": [
    "### Task 2\n"
   ],
   "metadata": {
    "collapsed": false
   }
  },
  {
   "cell_type": "code",
   "execution_count": 149,
   "outputs": [
    {
     "data": {
      "image/svg+xml": "<?xml version=\"1.0\" encoding=\"UTF-8\" standalone=\"no\"?>\n<!DOCTYPE svg PUBLIC \"-//W3C//DTD SVG 1.1//EN\"\n \"http://www.w3.org/Graphics/SVG/1.1/DTD/svg11.dtd\">\n<!-- Generated by graphviz version 8.0.5 (20230430.1635)\n -->\n<!-- Pages: 1 -->\n<svg width=\"256pt\" height=\"133pt\"\n viewBox=\"0.00 0.00 255.99 132.50\" xmlns=\"http://www.w3.org/2000/svg\" xmlns:xlink=\"http://www.w3.org/1999/xlink\">\n<g id=\"graph0\" class=\"graph\" transform=\"scale(1 1) rotate(0) translate(4 128.5)\">\n<polygon fill=\"white\" stroke=\"none\" points=\"-4,4 -4,-128.5 251.99,-128.5 251.99,4 -4,4\"/>\n<!-- Current Cell -->\n<g id=\"node1\" class=\"node\">\n<title>Current Cell</title>\n<ellipse fill=\"none\" stroke=\"black\" cx=\"130.66\" cy=\"-106.5\" rx=\"56.98\" ry=\"18\"/>\n<text text-anchor=\"middle\" x=\"130.66\" y=\"-101.45\" font-family=\"Times,serif\" font-size=\"14.00\">Current Cell</text>\n</g>\n<!-- Current Cell&#45;&gt;Current Cell -->\n<g id=\"edge2\" class=\"edge\">\n<title>Current Cell&#45;&gt;Current Cell</title>\n<path fill=\"none\" stroke=\"#cd4a76\" d=\"M181.83,-114.72C195.38,-114.25 205.64,-111.51 205.64,-106.5 205.64,-102.94 200.45,-100.52 192.58,-99.25\"/>\n<polygon fill=\"#cd4a76\" stroke=\"#cd4a76\" points=\"193.1,-95.69 182.83,-98.28 192.47,-102.67 193.1,-95.69\"/>\n<text text-anchor=\"middle\" x=\"217.64\" y=\"-101.45\" font-family=\"Times,serif\" font-size=\"14.00\">0.51</text>\n</g>\n<!-- Previous Cells -->\n<g id=\"node2\" class=\"node\">\n<title>Previous Cells</title>\n<ellipse fill=\"none\" stroke=\"black\" cx=\"64.66\" cy=\"-18\" rx=\"64.66\" ry=\"18\"/>\n<text text-anchor=\"middle\" x=\"64.66\" y=\"-12.95\" font-family=\"Times,serif\" font-size=\"14.00\">Previous Cells</text>\n</g>\n<!-- Current Cell&#45;&gt;Previous Cells -->\n<g id=\"edge1\" class=\"edge\">\n<title>Current Cell&#45;&gt;Previous Cells</title>\n<path fill=\"none\" stroke=\"#46039f\" d=\"M117.93,-88.82C108.32,-76.22 94.95,-58.7 84.01,-44.36\"/>\n<polygon fill=\"#46039f\" stroke=\"#46039f\" points=\"86.42,-42.75 77.57,-36.92 80.85,-47 86.42,-42.75\"/>\n<text text-anchor=\"middle\" x=\"115.66\" y=\"-57.2\" font-family=\"Times,serif\" font-size=\"14.00\">0.11</text>\n</g>\n<!-- Next Cells -->\n<g id=\"node3\" class=\"node\">\n<title>Next Cells</title>\n<ellipse fill=\"none\" stroke=\"black\" cx=\"197.66\" cy=\"-18\" rx=\"50.33\" ry=\"18\"/>\n<text text-anchor=\"middle\" x=\"197.66\" y=\"-12.95\" font-family=\"Times,serif\" font-size=\"14.00\">Next Cells</text>\n</g>\n<!-- Current Cell&#45;&gt;Next Cells -->\n<g id=\"edge3\" class=\"edge\">\n<title>Current Cell&#45;&gt;Next Cells</title>\n<path fill=\"none\" stroke=\"#aa2395\" d=\"M143.58,-88.82C153.4,-76.14 167.08,-58.47 178.23,-44.09\"/>\n<polygon fill=\"#aa2395\" stroke=\"#aa2395\" points=\"181.42,-46.68 184.78,-36.63 175.89,-42.39 181.42,-46.68\"/>\n<text text-anchor=\"middle\" x=\"181.66\" y=\"-57.2\" font-family=\"Times,serif\" font-size=\"14.00\">0.38</text>\n</g>\n</g>\n</svg>\n",
      "text/plain": "<graphviz.graphs.Digraph at 0x28501c650>"
     },
     "execution_count": 149,
     "metadata": {},
     "output_type": "execute_result"
    }
   ],
   "source": [
    "get_average_transition_graphs(task_transition_relations)[2]\n"
   ],
   "metadata": {
    "collapsed": false,
    "ExecuteTime": {
     "end_time": "2023-07-18T13:21:28.812481Z",
     "start_time": "2023-07-18T13:21:28.646815Z"
    }
   }
  },
  {
   "cell_type": "code",
   "execution_count": null,
   "outputs": [],
   "source": [],
   "metadata": {
    "collapsed": false
   }
  }
 ],
 "metadata": {
  "kernelspec": {
   "display_name": "Python 3",
   "language": "python",
   "name": "python3"
  },
  "language_info": {
   "codemirror_mode": {
    "name": "ipython",
    "version": 2
   },
   "file_extension": ".py",
   "mimetype": "text/x-python",
   "name": "python",
   "nbconvert_exporter": "python",
   "pygments_lexer": "ipython2",
   "version": "2.7.6"
  }
 },
 "nbformat": 4,
 "nbformat_minor": 0
}
