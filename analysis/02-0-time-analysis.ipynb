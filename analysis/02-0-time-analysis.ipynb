{
 "cells": [
  {
   "cell_type": "code",
   "execution_count": null,
   "outputs": [],
   "source": [
    "%load_ext autoreload\n",
    "%autoreload 2\n",
    "\n",
    "from itertools import product\n",
    "from pathlib import Path\n",
    "\n",
    "import matplotlib.pyplot as plt\n",
    "import numpy as np\n",
    "import pandas as pd\n",
    "import pingouin as pg\n",
    "import seaborn as sns\n",
    "import yaml\n",
    "\n",
    "from dataset.june_dataset import JuNEDataset\n",
    "from metrics.metrics_time import TimeMetrics\n",
    "\n",
    "\n",
    "def read_config(config_path: Path = Path(\"data_config.yaml\")) -> dict:\n",
    "    with config_path.open(\"r\") as stream:\n",
    "        try:\n",
    "            return yaml.safe_load(stream)\n",
    "        except yaml.YAMLError:\n",
    "            return {}\n",
    "\n",
    "\n",
    "config = read_config()\n"
   ],
   "metadata": {
    "collapsed": false
   }
  },
  {
   "cell_type": "code",
   "execution_count": null,
   "outputs": [],
   "source": [
    "df_hack = pd.read_csv(config.get(\"dataset_path\"), index_col=0)\n",
    "df_labels = pd.read_csv(config.get(\"label_mapping_path\"), index_col=0)\n",
    "df_hack = df_hack.merge(df_labels, on='action_id')\n",
    "\n",
    "df_hack.head()\n"
   ],
   "metadata": {
    "collapsed": false
   }
  },
  {
   "cell_type": "code",
   "execution_count": null,
   "outputs": [],
   "source": [
    "june = JuNEDataset(df_hack)\n",
    "june.prepare_dataset()\n",
    "june.df.head()\n"
   ],
   "metadata": {
    "collapsed": false
   }
  },
  {
   "cell_type": "code",
   "execution_count": null,
   "outputs": [],
   "source": [
    "TM = TimeMetrics()\n",
    "metrics = TM.calculate_metrics(june.df)\n",
    "metrics.head()\n",
    "kernel_mapping  = metrics.loc[:, ['kernel_id', 'task', 'expert']].drop_duplicates()\n"
   ],
   "metadata": {
    "collapsed": false
   }
  },
  {
   "cell_type": "code",
   "execution_count": null,
   "outputs": [],
   "source": [
    "sum([len(i) for i in TM.unfinished])"
   ],
   "metadata": {
    "collapsed": false
   }
  },
  {
   "cell_type": "code",
   "execution_count": null,
   "outputs": [],
   "source": [],
   "metadata": {
    "collapsed": false
   }
  },
  {
   "cell_type": "markdown",
   "source": [
    "# Action time"
   ],
   "metadata": {
    "collapsed": false
   }
  },
  {
   "cell_type": "code",
   "execution_count": null,
   "outputs": [],
   "source": [
    "tr = metrics.next_action_time.quantile(.95)\n",
    "# TODO recalculate execute time\n",
    "at_df = metrics.loc[(metrics.next_action_time < tr), :]\n"
   ],
   "metadata": {
    "collapsed": false
   }
  },
  {
   "cell_type": "code",
   "execution_count": null,
   "outputs": [],
   "source": [
    "def calc_description_stats(df, metrics = ['percent'], stats= ['mean', 'std']):\n",
    "\n",
    "    cols = list(product(metrics,stats))\n",
    "\n",
    "    split = df.groupby(['task', 'expert']).describe().loc[:,cols].reset_index()\n",
    "    expert = df.groupby(['expert']).describe().loc[:,cols].reset_index()\n",
    "    task = df.groupby(['task']).describe().loc[:,cols].reset_index()\n",
    "    return pd.concat([split, expert, task])\n",
    "\n"
   ],
   "metadata": {
    "collapsed": false
   }
  },
  {
   "cell_type": "code",
   "execution_count": null,
   "outputs": [],
   "source": [
    "\n",
    "sum_exec = metrics.groupby('kernel_id').apply(lambda x: x.loc[x.event == 'execute', 'execution_time_sec'].sum()).to_frame('exec_time_sum') / 60\n",
    "sum_all = metrics.groupby('kernel_id').next_action_time.sum().to_frame('overall_time') / 60\n",
    "percent = (sum_exec.exec_time_sum / sum_all.overall_time * 100).to_frame('percent').reset_index().merge(metrics[['kernel_id','task','expert']], on='kernel_id', how='left').drop_duplicates()\n",
    "\n",
    "a = calc_description_stats(at_df, ['next_action_time'],['mean', 'std'])\n",
    "b = calc_description_stats(metrics, ['execution_time_sec'],['mean', 'std'])\n",
    "c = calc_description_stats(percent, ['percent'],['mean', 'std'])\n",
    "\n",
    "merged_stats = a.merge(b, on=['task', 'expert']).merge(c, on=['task', 'expert'])\n",
    "all = [[np.NaN, np.NaN, at_df.next_action_time.mean(), at_df.next_action_time.std(),\n",
    "       metrics.execution_time_sec.mean(), metrics.execution_time_sec.std(),\n",
    "       percent.percent.mean(), percent.percent.std()]]\n",
    "\n",
    "merged_stats = pd.concat([merged_stats, pd.DataFrame(all, columns=merged_stats.columns)], axis=0).reset_index(drop=True)\n",
    "\n",
    "pretty_lang = {'task1': 'DA', 'task2': 'ML', np.NaN: 'All',\n",
    "               False: 'Student', True: 'Professional'}\n",
    "new_names = ['Task','Level of expertise', 'Time between actions (sec)', 'Time between actions (sec)', 'Execution time (sec)', 'Execution time (sec)', '% of total time', '% of total time']\n",
    "merged_stats.columns =  pd.MultiIndex.from_tuples([(new_names[i] ,column[1]) for i, column in enumerate(merged_stats.columns.to_list())])\n",
    "merged_stats = merged_stats.replace(pretty_lang).set_index(['Task', 'Level of expertise']).applymap(lambda x: str.format(\"{:0_.2f}\", x).replace('_', '.'))\n",
    "merged_stats = merged_stats.loc[merged_stats.index.sort_values(ascending=False)]"
   ],
   "metadata": {
    "collapsed": false
   }
  },
  {
   "cell_type": "code",
   "execution_count": null,
   "outputs": [],
   "source": [
    "print(merged_stats.to_latex(escape=True))"
   ],
   "metadata": {
    "collapsed": false
   }
  },
  {
   "cell_type": "code",
   "execution_count": null,
   "outputs": [],
   "source": [
    "pg.homoscedasticity(data=at_df, dv= 'next_action_time', group='expert')"
   ],
   "metadata": {
    "collapsed": false
   }
  },
  {
   "cell_type": "code",
   "execution_count": null,
   "outputs": [],
   "source": [
    "pg.anova(data=at_df, dv= 'next_action_time', between=['task', 'expert'])\n"
   ],
   "metadata": {
    "collapsed": false
   }
  },
  {
   "cell_type": "code",
   "execution_count": null,
   "outputs": [],
   "source": [
    "pg.mwu(at_df.loc[at_df.task == 'task1', 'next_action_time'], at_df.loc[at_df.task != 'task1', 'next_action_time'])"
   ],
   "metadata": {
    "collapsed": false
   }
  },
  {
   "cell_type": "code",
   "execution_count": null,
   "outputs": [],
   "source": [
    "pg.mwu(at_df.loc[at_df.expert, 'next_action_time'], at_df.loc[~at_df.expert , 'next_action_time'])"
   ],
   "metadata": {
    "collapsed": false
   }
  },
  {
   "cell_type": "code",
   "execution_count": null,
   "outputs": [],
   "source": [
    "sns.set(rc={'figure.figsize':(13.7,6.27)})\n",
    "def plot_box_time(df, var='next_action_time', label= 'cell_label'):\n",
    "    my_order = df.groupby(by=[label])[var].mean()\n",
    "    my_order = my_order.sort_values().index\n",
    "\n",
    "    sns.boxplot(df, x=label, y =var, order=my_order)\n",
    "\n",
    "    plt.xticks(rotation=90)\n"
   ],
   "metadata": {
    "collapsed": false
   }
  },
  {
   "cell_type": "code",
   "execution_count": null,
   "outputs": [],
   "source": [
    "plot_box_time(at_df, label='matched_label')"
   ],
   "metadata": {
    "collapsed": false
   }
  },
  {
   "cell_type": "code",
   "execution_count": null,
   "outputs": [],
   "source": [
    "plot_box_time(at_df)"
   ],
   "metadata": {
    "collapsed": false
   }
  },
  {
   "cell_type": "code",
   "execution_count": null,
   "outputs": [],
   "source": [
    "plot_box_time(at_df[at_df.task == 'task2'], label='matched_label')"
   ],
   "metadata": {
    "collapsed": false
   }
  },
  {
   "cell_type": "code",
   "execution_count": null,
   "outputs": [],
   "source": [
    "plot_box_time(at_df[at_df.task == 'task1'], label='matched_label')"
   ],
   "metadata": {
    "collapsed": false
   }
  },
  {
   "cell_type": "markdown",
   "source": [
    "# Execution time"
   ],
   "metadata": {
    "collapsed": false,
    "ExecuteTime": {
     "end_time": "2023-09-06T11:16:07.654995Z",
     "start_time": "2023-09-06T11:16:07.632654Z"
    }
   }
  },
  {
   "cell_type": "code",
   "execution_count": null,
   "outputs": [],
   "source": [
    "# TODO:\n",
    "# deal with missing execs\n",
    "# metrics.loc[metrics.event == 'execute', ['kernel_id','expert','task', 'state_time_dt']].state_time_dt.isna().sum()"
   ],
   "metadata": {
    "collapsed": false
   }
  },
  {
   "cell_type": "code",
   "execution_count": null,
   "outputs": [],
   "source": [
    "metrics.loc[metrics.event == 'execute', 'cell_index'].nunique(), len(metrics[metrics.event == 'execute'])"
   ],
   "metadata": {
    "collapsed": false
   }
  },
  {
   "cell_type": "code",
   "execution_count": null,
   "outputs": [],
   "source": [
    "execs = metrics.loc[metrics.event == 'execute', ['kernel_id','expert','task', 'execution_time_sec']].dropna()"
   ],
   "metadata": {
    "collapsed": false
   }
  },
  {
   "cell_type": "code",
   "execution_count": null,
   "outputs": [],
   "source": [
    "execs.anova(dv=\"execution_time_sec\", between=[\"expert\", \"task\"]).round(3)"
   ],
   "metadata": {
    "collapsed": false
   }
  },
  {
   "cell_type": "code",
   "execution_count": null,
   "outputs": [],
   "source": [
    "t1_execs_s = execs.loc[((~execs.expert) & (execs.task == 'task1')), 'execution_time_sec']\n",
    "t1_execs_e = execs.loc[((execs.expert) & (execs.task == 'task1')), 'execution_time_sec']\n",
    "res = pg.mwu(t1_execs_s, t1_execs_e).round(2)\n",
    "if res['p-val'][0] >.05:\n",
    "    print('')\n",
    "\n",
    "t1_execs_s = execs.loc[((~execs.expert) & (execs.task == 'task2')), 'execution_time_sec']\n",
    "t1_execs_e = execs.loc[((execs.expert) & (execs.task == 'task2')), 'execution_time_sec']\n",
    "res = pg.mwu(t1_execs_s, t1_execs_e).round(2)\n",
    "if res['p-val'][0] >.05:\n",
    "    print('!!')\n",
    "\n",
    "t1_execs_s = execs.loc[((execs.expert) & (execs.task == 'task1')), 'execution_time_sec']\n",
    "t1_execs_e = execs.loc[((execs.expert) & (execs.task == 'task2')), 'execution_time_sec']\n",
    "res = pg.mwu(t1_execs_s, t1_execs_e).round(2)\n",
    "if res['p-val'][0] >.05:\n",
    "    print('!!')\n",
    "\n",
    "t1_execs_s = execs.loc[((~execs.expert) & (execs.task == 'task1')), 'execution_time_sec']\n",
    "t1_execs_e = execs.loc[((~execs.expert) & (execs.task == 'task2')), 'execution_time_sec']\n",
    "res = pg.mwu(t1_execs_s, t1_execs_e).round(2)\n",
    "if res['p-val'][0] >.05:\n",
    "    print('!!')\n",
    "\n",
    "t1_execs_s = execs.loc[execs.task == 'task1', 'execution_time_sec']\n",
    "t1_execs_e = execs.loc[execs.task == 'task2', 'execution_time_sec']\n",
    "res = pg.mwu(t1_execs_s, t1_execs_e).round(2)\n",
    "if res['p-val'][0] >.05:\n",
    "    print('!!')\n",
    "\n",
    "t1_execs_s = execs.loc[execs.expert, 'execution_time_sec']\n",
    "t1_execs_e = execs.loc[~execs.expert, 'execution_time_sec']\n",
    "res = pg.mwu(t1_execs_s, t1_execs_e).round(2)\n",
    "if res['p-val'][0] >.05:\n",
    "    print('!!')\n"
   ],
   "metadata": {
    "collapsed": false
   }
  },
  {
   "cell_type": "code",
   "execution_count": null,
   "outputs": [],
   "source": [
    "t1_execs_s.mean()"
   ],
   "metadata": {
    "collapsed": false
   }
  },
  {
   "cell_type": "code",
   "execution_count": null,
   "outputs": [],
   "source": [
    "t1_execs_e.mean()"
   ],
   "metadata": {
    "collapsed": false
   }
  },
  {
   "cell_type": "code",
   "execution_count": null,
   "outputs": [],
   "source": [
    "t1_execs_s = execs.loc[execs.task == 'task1', 'execution_time_sec']\n",
    "t1_execs_e = execs.loc[execs.task == 'task2', 'execution_time_sec']\n",
    "res = pg.mwu(t1_execs_s, t1_execs_e)"
   ],
   "metadata": {
    "collapsed": false
   }
  },
  {
   "cell_type": "code",
   "execution_count": null,
   "outputs": [],
   "source": [
    "res"
   ],
   "metadata": {
    "collapsed": false
   }
  },
  {
   "cell_type": "code",
   "execution_count": null,
   "outputs": [],
   "source": [
    "plot_box_time(metrics[metrics.execution_time_sec > 10], var='execution_time_sec')"
   ],
   "metadata": {
    "collapsed": false
   }
  },
  {
   "cell_type": "code",
   "execution_count": null,
   "outputs": [],
   "source": [
    "metrics['scr_len'] = metrics.cell_source.str.len()"
   ],
   "metadata": {
    "collapsed": false
   }
  },
  {
   "cell_type": "code",
   "execution_count": null,
   "outputs": [],
   "source": [
    "sns.jointplot(metrics[metrics.event == 'execute'], x='execution_time_sec', y='scr_len', hue='task');"
   ],
   "metadata": {
    "collapsed": false
   }
  },
  {
   "cell_type": "code",
   "execution_count": null,
   "outputs": [],
   "source": [
    "pg.corr(metrics[metrics.event == 'execute'].execution_time_sec, metrics[metrics.event == 'execute'].scr_len)"
   ],
   "metadata": {
    "collapsed": false
   }
  }
 ],
 "metadata": {
  "kernelspec": {
   "display_name": "Python 3",
   "language": "python",
   "name": "python3"
  },
  "language_info": {
   "codemirror_mode": {
    "name": "ipython",
    "version": 2
   },
   "file_extension": ".py",
   "mimetype": "text/x-python",
   "name": "python",
   "nbconvert_exporter": "python",
   "pygments_lexer": "ipython2",
   "version": "2.7.6"
  }
 },
 "nbformat": 4,
 "nbformat_minor": 0
}
