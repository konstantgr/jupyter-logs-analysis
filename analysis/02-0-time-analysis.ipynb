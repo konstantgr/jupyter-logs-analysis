{
 "cells": [
  {
   "cell_type": "code",
   "execution_count": null,
   "outputs": [],
   "source": [
    "%load_ext autoreload\n",
    "%autoreload 2\n",
    "\n",
    "from itertools import product\n",
    "from pathlib import Path\n",
    "\n",
    "import matplotlib.pyplot as plt\n",
    "import numpy as np\n",
    "import pandas as pd\n",
    "import pingouin as pg\n",
    "import seaborn as sns\n",
    "import yaml\n",
    "\n",
    "from dataset.june_dataset import JuNEDataset\n",
    "from metrics.metrics_time import TimeMetrics\n",
    "\n",
    "\n",
    "def read_config(config_path: Path = Path(\"data_config.yaml\")) -> dict:\n",
    "    with config_path.open(\"r\") as stream:\n",
    "        try:\n",
    "            return yaml.safe_load(stream)\n",
    "        except yaml.YAMLError:\n",
    "            return {}\n",
    "\n",
    "\n",
    "config = read_config()\n"
   ],
   "metadata": {
    "collapsed": false
   }
  },
  {
   "cell_type": "code",
   "execution_count": null,
   "outputs": [],
   "source": [
    "df_hack = pd.read_csv(config.get(\"dataset_path\"), index_col=0)\n",
    "df_labels = pd.read_csv(config.get(\"label_mapping_path\"), index_col=0)\n",
    "df_hack = df_hack.merge(df_labels, on='action_id')\n",
    "\n",
    "df_hack.head()\n"
   ],
   "metadata": {
    "collapsed": false
   }
  },
  {
   "cell_type": "code",
   "execution_count": null,
   "outputs": [],
   "source": [
    "june = JuNEDataset(df_hack)\n",
    "june.prepare_dataset()\n",
    "june.df.head()\n"
   ],
   "metadata": {
    "collapsed": false
   }
  },
  {
   "cell_type": "code",
   "execution_count": null,
   "outputs": [],
   "source": [
    "TM = TimeMetrics()\n",
    "metrics = TM.calculate_metrics(june.df)\n",
    "metrics.head()\n",
    "kernel_mapping  = metrics.loc[:, ['kernel_id', 'task', 'expert']].drop_duplicates()\n"
   ],
   "metadata": {
    "collapsed": false
   }
  },
  {
   "cell_type": "markdown",
   "source": [
    "# Action time"
   ],
   "metadata": {
    "collapsed": false
   }
  },
  {
   "cell_type": "code",
   "execution_count": null,
   "outputs": [],
   "source": [
    "metrics.groupby(['task', 'expert']).next_action_time.describe()\n"
   ],
   "metadata": {
    "collapsed": false
   }
  },
  {
   "cell_type": "code",
   "execution_count": null,
   "outputs": [],
   "source": [
    "test  = metrics.groupby(['task', 'expert']).describe()\n"
   ],
   "metadata": {
    "collapsed": false
   }
  },
  {
   "cell_type": "code",
   "execution_count": null,
   "outputs": [],
   "source": [
    "tr = metrics.next_action_time.quantile(.95)\n",
    "# TODO recalculate execute time\n",
    "at_df = metrics.loc[(metrics.next_action_time < tr), :]\n"
   ],
   "metadata": {
    "collapsed": false
   }
  },
  {
   "cell_type": "code",
   "execution_count": null,
   "outputs": [],
   "source": [
    "cols = list(product(['execution_time_sec', 'next_action_time'],['mean', 'std']))\n",
    "desc_stats_all = at_df.groupby(['task', 'expert']).describe().loc[:,cols]\n",
    "desc_stats_exp = at_df.groupby(['expert']).describe().loc[:,cols]\n",
    "desc_stats_task = at_df.groupby(['task']).describe().loc[:,cols]\n"
   ],
   "metadata": {
    "collapsed": false
   }
  },
  {
   "cell_type": "code",
   "execution_count": null,
   "outputs": [],
   "source": [
    "pg.anova(data=at_df, dv= 'next_action_time', between=['task', 'expert'])\n"
   ],
   "metadata": {
    "collapsed": false
   }
  },
  {
   "cell_type": "code",
   "execution_count": null,
   "outputs": [],
   "source": [
    "\n",
    "sns.set(rc={'figure.figsize':(13.7,6.27)})\n",
    "def plot_box_time(df, var='next_action_time'):\n",
    "    my_order = df.groupby(by=[\"cell_label\"])[var].mean()\n",
    "    my_order = my_order.sort_values().index\n",
    "\n",
    "    sns.boxplot(df, x='cell_label', y =var, order=my_order)\n",
    "\n",
    "    plt.xticks(rotation=90)\n"
   ],
   "metadata": {
    "collapsed": false
   }
  },
  {
   "cell_type": "code",
   "execution_count": null,
   "outputs": [],
   "source": [
    "plot_box_time(at_df)"
   ],
   "metadata": {
    "collapsed": false
   }
  },
  {
   "cell_type": "code",
   "execution_count": null,
   "outputs": [],
   "source": [
    "plot_box_time(at_df[at_df.task == 'task2'])"
   ],
   "metadata": {
    "collapsed": false
   }
  },
  {
   "cell_type": "code",
   "execution_count": null,
   "outputs": [],
   "source": [
    "plot_box_time(at_df[at_df.task == 'task1'])"
   ],
   "metadata": {
    "collapsed": false
   }
  },
  {
   "cell_type": "markdown",
   "source": [
    "# Execution time"
   ],
   "metadata": {
    "collapsed": false,
    "ExecuteTime": {
     "end_time": "2023-09-06T11:16:07.654995Z",
     "start_time": "2023-09-06T11:16:07.632654Z"
    }
   }
  },
  {
   "cell_type": "code",
   "execution_count": null,
   "outputs": [],
   "source": [
    "# TODO:\n",
    "# deal with missing execs\n",
    "# metrics.loc[metrics.event == 'execute', ['kernel_id','expert','task', 'state_time_dt']].state_time_dt.isna().sum()"
   ],
   "metadata": {
    "collapsed": false
   }
  },
  {
   "cell_type": "code",
   "execution_count": null,
   "outputs": [],
   "source": [
    "metrics.loc[metrics.event == 'execute', 'cell_index'].nunique(), len(metrics[metrics.event == 'execute'])"
   ],
   "metadata": {
    "collapsed": false
   }
  },
  {
   "cell_type": "code",
   "execution_count": null,
   "outputs": [],
   "source": [
    "sum_exec = metrics.groupby('kernel_id').apply(lambda x: x.loc[x.event == 'execute', 'execution_time_sec'].sum()).to_frame('exec_time_sum') / 60\n",
    "sum_exec_count = metrics.groupby('kernel_id').apply(lambda x: x.loc[x.event == 'execute', 'execution_time_sec'].count()).to_frame('exec_time_count')\n",
    "sum_exec_mean = metrics.groupby('kernel_id').apply(lambda x: x.loc[x.event == 'execute', 'execution_time_sec'].mean()).to_frame('exec_time_mean') / 60\n",
    "sum_all = metrics.groupby('kernel_id').next_action_time.sum().to_frame('overall_time') / 60\n",
    "\n",
    "kernel_time_df = kernel_mapping.merge(sum_exec, on = 'kernel_id').merge(sum_exec_mean, on = 'kernel_id').merge(sum_all, on = 'kernel_id').merge(sum_exec_count, on = 'kernel_id')\n",
    "kernel_time_df['percent'] = kernel_time_df.exec_time_sum / kernel_time_df.overall_time * 100\n",
    "kernel_time_df['exec_time_n'] = kernel_time_df.exec_time_sum / kernel_time_df.exec_time_count\n",
    "exec_comp = kernel_time_df.groupby(['task', 'expert']).describe()\n",
    "exec_comp_task = kernel_time_df.groupby('task').describe()\n",
    "exec_comp_exp = kernel_time_df.groupby('expert').describe()\n",
    "\n",
    "cols = list(product(['exec_time_sum', 'percent','exec_time_n'],['mean', 'std']))\n",
    "exec_stats = exec_comp.loc[:,cols]\n",
    "exec_stats\n"
   ],
   "metadata": {
    "collapsed": false
   }
  },
  {
   "cell_type": "code",
   "execution_count": null,
   "outputs": [],
   "source": [
    "test\n"
   ],
   "metadata": {
    "collapsed": false
   }
  },
  {
   "cell_type": "code",
   "execution_count": null,
   "outputs": [],
   "source": [
    "# TODO: Refactor normal names\n",
    "test = pd.concat([desc_stats_all.reset_index(), desc_stats_task.reset_index(), desc_stats_exp.reset_index()])\n",
    "test2 = pd.concat([exec_comp.reset_index(), exec_comp_task.reset_index(), exec_comp_exp.reset_index()])\n",
    "test = pd.concat([test, test2[[('percent', 'mean'), ('percent', 'std')]]], axis=1)\n",
    "\n",
    "pretty_lang = {'task1': 'DS', 'task2': 'ML', np.NaN: 'All',\n",
    "               False: 'Student', True: 'Professional'}\n",
    "new_names = ['Task','Level of expertise', 'Execution time (sec)', 'Execution time (sec)', 'Time between actions (sec)', 'Time between actions (sec)', '% of total time', '% of total time']\n",
    "test.columns =  pd.MultiIndex.from_tuples([(new_names[i] ,column[1]) for i, column in enumerate(test.columns.to_list())])\n",
    "test = test.replace(pretty_lang).set_index(['Task', 'Level of expertise']).applymap(lambda x: str.format(\"{:0_.2f}\", x).replace('.', ',').replace('_', '.'))\n",
    "test = test.loc[test.index[[0,1,4,2,3,5,6,7]]]\n",
    "print(test.to_latex(escape=True))"
   ],
   "metadata": {
    "collapsed": false
   }
  },
  {
   "cell_type": "code",
   "execution_count": null,
   "outputs": [],
   "source": [
    "execs = metrics.loc[metrics.event == 'execute', ['kernel_id','expert','task', 'execution_time_sec']].dropna()"
   ],
   "metadata": {
    "collapsed": false
   }
  },
  {
   "cell_type": "code",
   "execution_count": null,
   "outputs": [],
   "source": [
    "execs.anova(dv=\"execution_time_sec\", between=[\"expert\", \"task\"]).round(3)"
   ],
   "metadata": {
    "collapsed": false
   }
  },
  {
   "cell_type": "code",
   "execution_count": null,
   "outputs": [],
   "source": [
    "t1_execs_s = kernel_time_df.loc[((~kernel_time_df.expert) & (kernel_time_df.task == 'task1')), 'exec_time_count']\n",
    "t1_execs_e = kernel_time_df.loc[((kernel_time_df.expert) & (kernel_time_df.task == 'task1')), 'exec_time_count']\n",
    "pg.ttest(t1_execs_s, t1_execs_e).round(2)"
   ],
   "metadata": {
    "collapsed": false
   }
  },
  {
   "cell_type": "code",
   "execution_count": null,
   "outputs": [],
   "source": [
    "t1_execs_s = kernel_time_df.loc[((~kernel_time_df.expert) & (kernel_time_df.task == 'task1')), 'exec_time_n']\n",
    "t1_execs_e = kernel_time_df.loc[((kernel_time_df.expert) & (kernel_time_df.task == 'task1')), 'exec_time_n']\n",
    "pg.ttest(t1_execs_s, t1_execs_e).round(2)"
   ],
   "metadata": {
    "collapsed": false
   }
  },
  {
   "cell_type": "code",
   "execution_count": null,
   "outputs": [],
   "source": [
    "t1_execs_s = kernel_time_df.loc[((~kernel_time_df.expert) & (kernel_time_df.task == 'task2')), 'exec_time_n']\n",
    "t1_execs_e = kernel_time_df.loc[((kernel_time_df.expert) & (kernel_time_df.task == 'task2')), 'exec_time_n']\n",
    "pg.ttest(t1_execs_s, t1_execs_e).round(2)"
   ],
   "metadata": {
    "collapsed": false
   }
  },
  {
   "cell_type": "code",
   "execution_count": null,
   "outputs": [],
   "source": [],
   "metadata": {
    "collapsed": false
   }
  },
  {
   "cell_type": "code",
   "execution_count": null,
   "outputs": [],
   "source": [
    "plot_box_time(metrics[metrics.execution_time_sec < 1], var='execution_time_sec')"
   ],
   "metadata": {
    "collapsed": false
   }
  },
  {
   "cell_type": "code",
   "execution_count": null,
   "outputs": [],
   "source": [
    "plot_box_time(metrics[metrics.execution_time_sec > 10], var='execution_time_sec')"
   ],
   "metadata": {
    "collapsed": false
   }
  },
  {
   "cell_type": "code",
   "execution_count": null,
   "outputs": [],
   "source": [
    "metrics['scr_len'] = metrics.cell_source.str.len()"
   ],
   "metadata": {
    "collapsed": false
   }
  },
  {
   "cell_type": "code",
   "execution_count": null,
   "outputs": [],
   "source": [
    "sns.jointplot(metrics[metrics.event == 'execute'], x='execution_time_sec', y='scr_len', hue='task');"
   ],
   "metadata": {
    "collapsed": false
   }
  },
  {
   "cell_type": "code",
   "execution_count": null,
   "outputs": [],
   "source": [
    "pg.corr(metrics[metrics.event == 'execute'].execution_time_sec, metrics[metrics.event == 'execute'].scr_len)"
   ],
   "metadata": {
    "collapsed": false
   }
  },
  {
   "cell_type": "code",
   "execution_count": null,
   "outputs": [],
   "source": [
    "# plot_box_time(metrics[metrics.execution_time_sec < 10], var='execution_time_sec')"
   ],
   "metadata": {
    "collapsed": false
   }
  }
 ],
 "metadata": {
  "kernelspec": {
   "display_name": "Python 3",
   "language": "python",
   "name": "python3"
  },
  "language_info": {
   "codemirror_mode": {
    "name": "ipython",
    "version": 2
   },
   "file_extension": ".py",
   "mimetype": "text/x-python",
   "name": "python",
   "nbconvert_exporter": "python",
   "pygments_lexer": "ipython2",
   "version": "2.7.6"
  }
 },
 "nbformat": 4,
 "nbformat_minor": 0
}
